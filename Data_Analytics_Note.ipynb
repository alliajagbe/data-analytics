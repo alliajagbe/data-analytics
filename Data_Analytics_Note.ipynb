{
 "cells": [
  {
   "attachments": {},
   "cell_type": "markdown",
   "metadata": {},
   "source": [
    "# Steps: \n",
    "- Ask \n",
    "- Prepare\n",
    "- Process\n",
    "- Analyze\n",
    "- Share\n",
    "- Act"
   ]
  },
  {
   "attachments": {},
   "cell_type": "markdown",
   "metadata": {},
   "source": [
    "# Key Skills of a Data Analyst\n",
    "- Curiosity\n",
    "- Understanding Context\n",
    "- Having a Technical Mindset\n",
    "- Data Design\n",
    "- Data Strategy"
   ]
  },
  {
   "attachments": {},
   "cell_type": "markdown",
   "metadata": {},
   "source": [
    "# Terminologies\n",
    "- **Data**: A collection of facts, such as numbers, words, measurements, observations or even just descriptions of things.\n",
    "- **Data Analysis**: The collection, transformation, and organization of data in order to draw conclusions, make predictions, and drive informed decision making.\n",
    "- **Data Analyst**: Someone who collects, transforms, and organizes data in order to help make informed decisions.\n",
    "- **Data Analytics**: The science of analyzing raw data in order to make conclusions about that information.\n",
    "- **Data Ecosystem**: The various elements that interact with one another in order to produce, manage, store, organize, analyze, and share data.\n",
    "- **Data Science**: Creating new ways of modelling and understanding the unknown by using raw data.\n",
    "- **Data-driven Decision-Making**: Using facts to guide business strategy.\n",
    "- **Analytical Skills**: Qualities and characteristics associated with solving problems using facts.\n",
    "- **Data Design**: How you organize information.\n",
    "- **Data Strategy**: The management of the people, processes, and tools used in data analysis.\n",
    "- **Analytical Thinking**: Identifying and defining a problem, and then solving it by using data in an organized, step-by-step manner. \n",
    "- **Gap Analysis**: A method for examining and evaluating how a process works currently in order to get where you want to be in the future.\n",
    "- **Database**: A collection of data stored in a computer system.\n",
    "- **Formula**: A set of instructions that performs a specific calculation using the data in a spreadsheet."
   ]
  },
  {
   "attachments": {},
   "cell_type": "markdown",
   "metadata": {},
   "source": [
    "# Aspects of Analytical Thinking\n",
    "- Visualization\n",
    "- Strategy\n",
    "- Problem Orientation\n",
    "- Correlation\n",
    "- Big-picture and Detail-oriented Thinking"
   ]
  }
 ],
 "metadata": {
  "language_info": {
   "name": "python"
  },
  "orig_nbformat": 4
 },
 "nbformat": 4,
 "nbformat_minor": 2
}
