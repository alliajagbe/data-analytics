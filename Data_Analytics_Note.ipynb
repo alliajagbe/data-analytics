{
 "cells": [
  {
   "attachments": {},
   "cell_type": "markdown",
   "metadata": {},
   "source": [
    "# Steps: \n",
    "- Ask \n",
    "- Prepare\n",
    "- Process\n",
    "- Analyze\n",
    "- Share\n",
    "- Act"
   ]
  },
  {
   "attachments": {},
   "cell_type": "markdown",
   "metadata": {},
   "source": [
    "# Key Skills of a Data Analyst\n",
    "- Curiosity\n",
    "- Understanding Context\n",
    "- Having a Technical Mindset\n",
    "- Data Design\n",
    "- Data Strategy"
   ]
  },
  {
   "attachments": {},
   "cell_type": "markdown",
   "metadata": {},
   "source": [
    "# Terminologies\n",
    "- **Data**: A collection of facts, such as numbers, words, measurements, observations or even just descriptions of things.\n",
    "- **Data Analysis**: The collection, transformation, and organization of data in order to draw conclusions, make predictions, and drive informed decision making.\n",
    "- **Data Analyst**: Someone who collects, transforms, and organizes data in order to help make informed decisions.\n",
    "- **Data Analytics**: The science of analyzing raw data in order to make conclusions about that information.\n",
    "- **Data Ecosystem**: The various elements that interact with one another in order to produce, manage, store, organize, analyze, and share data.\n",
    "- **Data Science**: Creating new ways of modelling and understanding the unknown by using raw data.\n",
    "- **Data-driven Decision-Making**: Using facts to guide business strategy.\n",
    "- **Analytical Skills**: Qualities and characteristics associated with solving problems using facts.\n",
    "- **Data Design**: How you organize information.\n",
    "- **Data Strategy**: The management of the people, processes, and tools used in data analysis.\n",
    "- **Data Visualization**: The graphical representation of information and data.\n",
    "- **Analytical Thinking**: Identifying and defining a problem, and then solving it by using data in an organized, step-by-step manner. \n",
    "- **Gap Analysis**: A method for examining and evaluating how a process works currently in order to get where you want to be in the future.\n",
    "- **Database**: A collection of data stored in a computer system.\n",
    "- **Formula**: A set of instructions that performs a specific calculation using the data in a spreadsheet.\n",
    "- **Query Language**: A computer programming language that allows you to retrieve and manipulate data from a database.\n",
    "- **Data Fairness**: Ensuring that your analysis doesnt create or enforce bias.\n",
    "- **Structured Thinking**: The process of recognizing the current problem or situation, organizing available information, revealing gaps and opportunities, and identifying the options.\n",
    "- **Action-Oriented Question**: A question whose answer will help you make a decision or take an action.\n",
    "- **Leading Question**: A question that steers people toward a certain response.\n",
    "- **Relevant Question**: A question that has significance to the problem to be solved.\n",
    "- **Data Life Cycle**: The sequence of stages that data experiences, which include plan, capture, manage, analyze, archive and destroy.\n",
    "- **Dataset**: A collection of data that can be manipulated and analyzed as a single unit.\n",
    "- **SMART Methodology**: A tool for determining a question's effectiveness based on whether it is specific, measurable, action-oriented, relevant, and time-bound.\n",
    "- **Specific Question**: A question that is simple, significant, and focused on a single topic or a few closely related ideas.\n",
    "- **Algorithm**: A process or set of rules followed for a specific task.\n",
    "- **Big Data**: Large, complex datasets typically involving long periods of time, which enable data analysts to address far-reaching business problems.\n",
    "- **Dashboard**: A tool that monitors live, incoming data and provides information through visualizations and charts.\n",
    "- **Data-inspired Decision-Making**: The process of exploring different data sources to find out what they have in common.\n",
    "- **Metric**: A single, quantifiable type of data that is used for measurement. \n",
    "- **Metric Goal**: A measurable goal set by a company and evaluated using metrics.\n",
    "- **Pivot Table**: A data summarization tool used to sort, reorganize, group, count, total, or average data.\n",
    "- **Pivot Chart**: A chart created from the fields in a pivot table.\n",
    "- **Problem Types**: The various problems that data analysts encounter, including categorizing things, discovering connections, finding patterns, identifying themes, making predictions, and spotting something unusual.\n",
    "- **Quantitative Data**: A specific and objective measure, such as a number, quantity, or range. \n",
    "\n",
    "\n",
    "- **Qualitative Data**: A subjective and explanatory measure of a quality or characteristic.\n",
    "- **Report**: A static collection of data periodically given to stakeholders. \n",
    "- **ROI**: A formula that uses the metrics of investment and profit to evaluate the success of an investment. \n",
    "- **Small Data**: Small, specific data points typically involving a short period of time, which are useful for making day-to-day decisions.\n",
    "- **Stakeholders**: People who invest time and resources into a project and are interested in its outcome. \n",
    "- **Time-bound Question**: A question that specifies a timeframe to be studied.\n",
    "- **Unfair Question**: A question that makes assumptions or is difficult to answer honestly.\n",
    "- **Cell Reference**: A cell or a range of cells in a worksheet typically used in formulas and functions. \n",
    "- **Fill Handle**: A box in the lower-right-hand corner of a selected spreadsheet cell that can be dragged through neighbouring cells in order to continue an instruction.\n",
    "- **Open Data**: Data that is freely available to everyone to use and republish as they wish, without restrictions from copyright.\n",
    "- **Scope of Work (SOW)**: An agreed-upon outline of the tasks to be performed during a project.\n",
    "- **Turnover Rate**: The rate at which employees voluntarily leave a company.\n",
    "- **Cookie**: A small file stored on a computer that contains information about its users.\n",
    "- **Digital Photo**: An electronic or computer-based image usually in BMP or JPG format.\n",
    "- **Pixel**: In digital imaging, a small area of illumination on a display screen that, when combined with other adjacent areas, forms a digital image.\n",
    "- **Redundancy**: When the same piece of data is stored in two or more places.\n",
    "- **Reframing**: The process of restating a problem or challenge, then redirecting it toward a potential resolution.\n",
    "- **Data Security**: The process of protecting data from unauthorized access and data corruption throughout its lifecycle.\n",
    "- **Data Warehousing Specialists**: They develop processes and procedures to effectively store and organize data. \n",
    "- **Data Validation**: A tool for checking the accurancy and quality of data before adding or importing it.\n",
    "- **Merger**: An agreement that unites two organizations into one.\n",
    "- **Data Merging**: The process of combining two or more datasets into a single dataset.\n",
    "- **Compatibility**: How well two or more datasets are able to work together. "
   ]
  },
  {
   "attachments": {},
   "cell_type": "markdown",
   "metadata": {},
   "source": [
    "## Spreadsheet Terminologies\n",
    "- **Cell**: The intersection of a row and a column in a spreadsheet.\n",
    "- **Column**: A vertical series of cells in a chart, table, or spreadsheet.\n",
    "- **Row/Observation**: A horizontal series of cells in a chart, table, or spreadsheet.\n",
    "- **Attribute**: A characteristic or quality of data used to label a column in a table."
   ]
  },
  {
   "attachments": {},
   "cell_type": "markdown",
   "metadata": {},
   "source": [
    "# Aspects of Analytical Thinking\n",
    "- Visualization\n",
    "- Strategy\n",
    "- Problem Orientation\n",
    "- Correlation\n",
    "- Big-picture and Detail-oriented Thinking"
   ]
  },
  {
   "attachments": {},
   "cell_type": "markdown",
   "metadata": {},
   "source": [
    "## Analyst Roles\n",
    "- **Business Analyst**: analyzes data to help businesses improve processes, products, or services\n",
    "- **Data Analytics Consultant**: analyzes the systems and models for using data\n",
    "- **Data Engineer**: prepares and integrates data from different sources for analytical uses\n",
    "- **Data Scientist**: uses expert skills in technology and social science to find trends through data analysis\n",
    "- **Data Specialist**: organizes or converts data for use in databases or software systems\n",
    "- **Operations Analyst**: analyzes data to assess the performance of business operations and workflows"
   ]
  },
  {
   "attachments": {},
   "cell_type": "markdown",
   "metadata": {},
   "source": [
    "# Data Collection"
   ]
  },
  {
   "attachments": {},
   "cell_type": "markdown",
   "metadata": {},
   "source": [
    "## How data is collected:\n",
    "- Interviews\n",
    "- Observations\n",
    "- Forms\n",
    "- Questionnaires\n",
    "- Surveys\n",
    "- Cookies"
   ]
  },
  {
   "attachments": {},
   "cell_type": "markdown",
   "metadata": {},
   "source": [
    "## Data Collection Terminologies\n",
    "- **First-party Data**: Data collected by an individual or group using their own resources.\n",
    "- **Second-party Data**: Data collected by a group directly from its audience and sold to another.\n",
    "- **Third-party Data**: Data collected from outside sources who did not collect it directly.\n",
    "- **Population**: All possible data values in a certain dataset.\n",
    "- **Sample**: A part or subset of a population that is representative of the population.\n",
    "\n",
    "- **Discrete Data**: Data that is counted and has a limited number of values.\n",
    "- **Continuous Data**: Data that is measured and can have an infinite number of values.\n",
    "- **Nominal Data**: A type of qualitative data that is categorized without a set order.\n",
    "- **Ordinal Data**: A type of qualitative data that is categorized with a set order.\n",
    "\n",
    "- **Internal Data**: Data that lives within a company's own systems.\n",
    "- **External Data**: Data that lives outside a company's own systems.\n",
    "\n",
    "- **Structured Data**: Data organized in a certain format such as rows and columns.\n",
    "- **Unstructured Data**: Data that is not organized in a certain format. e.g. audio and video files.\n",
    "\n",
    "- **Data Model**: A model that is used for organizing data elements and how they relate to one another.\n",
    "- **Data Elements**: Pieces of information, such as people's names, account numbers, and addresses.\n",
    "\n",
    "- **Data Type**: A specific kind of data attribute that tells what kind of value the data is.\n",
    "\n",
    "- **Wide Data**: Data in which every data subject has a single row with multiple columns to hold the values of various attributes of the subject.\n",
    "- **Long Data**: Data in which each row is one time point per subject, so each subject will have data in multiple rows.\n",
    "\n",
    "- **Bias**: A preference in favour of or against a person, a group of people, a thing, or an idea that is usually considered to be unfair.\n",
    "- **Data Bias**: A type of error that systematically skews results in a certain direction.\n",
    "- **Sampling Bias**: When a sample isnt representative of the population as a whole.\n",
    "- **Unbiased Sampling**: When a sample is representative of the population being measured.\n",
    "\n",
    "- **Data Interoperability**: The ability of data systems and services to openly connect and share data.\n",
    "\n",
    "- **Metadata**: Data about data. Used in database management to help data analysts interpret the contents of the data within the database.\n",
    "- **Data Governance**: A process to ensure the formal management of a company's data assets.\n",
    "\n",
    "- **Normalized Database**: A database in ehich only related data is stored in each table.\n",
    "\n",
    "- **Range**: A collection of two or more cells in a spreadsheet.\n",
    "\n",
    "- **General Data Protection Regulation of the European Union (GDPR)**: Policy-making body in the European Union created to help protect people and their data."
   ]
  },
  {
   "attachments": {},
   "cell_type": "markdown",
   "metadata": {},
   "source": [
    "### Types of Data Bias\n",
    "- **Observer Bias/ Experimenter Bias / Research Bias**: The tendency for different people to observe things differently.\n",
    "- **Confirmation Bias**: The tendency to search for or interpret information in a way that confirms pre-existing beliefs.\n",
    "- **Interpretation Bias**: The tendency to always interpret ambiguous situations in a positive or negative way.\n",
    "- **Sampling Bias**: When a sample isnt representative of the population as a whole."
   ]
  },
  {
   "attachments": {},
   "cell_type": "markdown",
   "metadata": {},
   "source": [
    "## Sources of Structures Data\n",
    "- Spreadsheets\n",
    "- Databases that store datasets"
   ]
  },
  {
   "attachments": {},
   "cell_type": "markdown",
   "metadata": {},
   "source": [
    "## Data Types in Spreadsheets\n",
    "- Number\n",
    "- Text or String\n",
    "- Boolean"
   ]
  },
  {
   "attachments": {},
   "cell_type": "markdown",
   "metadata": {},
   "source": [
    "## Data Collection Considerations\n",
    "- How the data will be collected\n",
    "- Choosing the data sources\n",
    "- Deciding what data to use\n",
    "- How much data to collect\n",
    "- Selecting the right data type\n",
    "- Determining the time frame"
   ]
  },
  {
   "attachments": {},
   "cell_type": "markdown",
   "metadata": {},
   "source": [
    "## Identifying Good Data Sources - ROCCC\n",
    "- Reliable\n",
    "- Original\n",
    "- Comprehensive\n",
    "- Current\n",
    "- Cited"
   ]
  },
  {
   "attachments": {},
   "cell_type": "markdown",
   "metadata": {},
   "source": [
    "## Ethics\n",
    "- **Ethics**: A set of moral principles that govern a person's behaviour or the conducting of an activity.\n",
    "- **Data Ethics**: Well-founded standards of right and wrong that dictate how data is collected, shared and used."
   ]
  },
  {
   "attachments": {},
   "cell_type": "markdown",
   "metadata": {},
   "source": [
    "### Aspects of Data Ethics\n",
    "- **Ownership**: individuals own the raw data they provide and they have primary control over its usage, how it's processed, and how it's shared.\n",
    "- **Transaction Transparency**: All data-processing activities and algorithms should be completely explainable and understood by the individual who provides their data.\n",
    "- **Consent**: An individual's right to know explicit details about how and why their data will be used before agreeing to provide it.\n",
    "- **Currency**: Individuals should be aware of financial transations resulting from the use of their personal data and the scale of these transactions.\n",
    "- **Privacy**: Preserving a data subject's information and activity any time a data transaction occurs.\n",
    "- **Openness**: Free access, usage, and sharing of data."
   ]
  },
  {
   "attachments": {},
   "cell_type": "markdown",
   "metadata": {},
   "source": [
    "## Relational Database\n",
    "A database that contains a series of related tables that can be connected via their relationships.\n",
    "\n",
    "- **Primary Key**: An identifier that references a column in which each value is unique.\n",
    "- **Foreign Key**: A column in a table that references a primary key in another table.\n",
    "\n",
    "### Types of Metadata\n",
    "- **Descriptive Metadata**: Metadata that describes a piece of data and can be used to identify it at a later point in time.\n",
    "- **Structural Metadata**: Metadata that indicates how a piece of data is organized and whether it is part of one, or more than one, data collection.\n",
    "- **Administrative Metadata**: Metadata that provides information about the origin, source, or rights of a piece of data."
   ]
  },
  {
   "attachments": {},
   "cell_type": "markdown",
   "metadata": {},
   "source": [
    "### Sorting \n",
    "Arranging data into a meaningful order to make it easier to understand, analyze and visualize.\n",
    "\n",
    "### Filtering\n",
    "Showing only the data that meets a specific criteria while hiding the rest."
   ]
  },
  {
   "attachments": {},
   "cell_type": "markdown",
   "metadata": {},
   "source": [
    "## Best practices when organizing data\n",
    "- Naming Convention: consistent guidelines that describe the content, date or version of a file in its name.\n",
    "- Organizing files into folders (foldering)\n",
    "- Archiving older files\n",
    "- Align your naming and storage practices with your team\n",
    "- Develop metadata practices"
   ]
  },
  {
   "attachments": {},
   "cell_type": "markdown",
   "metadata": {},
   "source": [
    "# Process Data from Dirty to Clean"
   ]
  },
  {
   "attachments": {},
   "cell_type": "markdown",
   "metadata": {},
   "source": [
    "- Data Integrity: The accuracy, completeness, consistency, and trustworthiness of data throughout its lifecycle.\n",
    "- Data Replication: The process of storing data in multiple locations.\n",
    "- Data Transfer: The process of copying data from a storage device to memory or from one storage device to another.\n",
    "- Data Manipulation: The process of changing data to make it easier to read or be more organized."
   ]
  },
  {
   "attachments": {},
   "cell_type": "markdown",
   "metadata": {},
   "source": [
    "## Threats to Data Integrity\n",
    "- Human Error\n",
    "- Viruses\n",
    "- Malware\n",
    "- Hacking\n",
    "- System Failures"
   ]
  },
  {
   "attachments": {},
   "cell_type": "markdown",
   "metadata": {},
   "source": [
    "## Types of Insufficient Data\n",
    "- Data from only one source\n",
    "- Data that keeps updating\n",
    "- Outdated Data\n",
    "- Geographically-limited data\n",
    "\n",
    "## Ways to address Insufficient Data\n",
    "- Identify trends with the available data\n",
    "- Wait for more data if time allows\n",
    "- Talk with stakeholders and adjust your objectives\n",
    "- Look for a new dataset"
   ]
  },
  {
   "attachments": {},
   "cell_type": "markdown",
   "metadata": {},
   "source": [
    "## Statistics\n",
    "- **Random Sampling**: A way of selecting a sample from a population so that every possible type of the sample has an equal chance of being chosen.\n",
    "- **Statistical Power**: The probability of getting meaningful results from a test. Usually you need a statistical power of 80% or higher to get meaningful results and to consider your results statistically significant.\n",
    "- **Hypothesis Testing**: A way to see if a survey or experiment has meaningful results.\n",
    "- **Confidence Level**: The probability that your sample size accurately reflects the greater population.\n",
    "- **Margin of Error**: The maximum amount that the sample results are expected to differ from those of the actual population."
   ]
  },
  {
   "attachments": {},
   "cell_type": "markdown",
   "metadata": {},
   "source": [
    "- Dirty Data: Data that is incomplete, incorrect, or irrelevant to the problem or question at hand.\n",
    "- Clean Data: Data that is complete, correct, and relevant to the problem or question at hand."
   ]
  },
  {
   "attachments": {},
   "cell_type": "markdown",
   "metadata": {},
   "source": [
    "## Data Cleaning\n",
    "- Conditional Formatting: A spreadsheet tool that changes how cells appear when values meet specific conditions. \n",
    "- Remove Duplicates: A spreadsheet tool that automatically searches and removes duplicate values from a dataset.\n",
    "- Split: A tool that divides text around a specified character or sequence of characters and places each fragment into a separate cell in the row.\n",
    "- Concatenate: A function that joins multiple text strings into a single string.\n",
    "- CountIF: A function that returns the number of cells that match a specified value.\n",
    "- Syntax: A predetermined structure that includes all required information and its proper order.\n",
    "- LEN: A function that returns the number of characters in a string.\n",
    "- LEFT: A function that returns a specified number of characters from the left side of a string.\n",
    "- RIGHT: A function that returns a specified number of characters from the right side of a string.\n",
    "- MID: A function that returns a specified number of characters from the middle of a string.\n",
    "- TRIM: A function that removes leading, trailing, and repeated spaces in data.\n",
    "- VLOOKUP: A function that searches for a certain value in a column to return a corresponding piece of information.\n",
    "- Schema: A way of describing how something is organized."
   ]
  },
  {
   "attachments": {},
   "cell_type": "markdown",
   "metadata": {},
   "source": [
    "Data Mapping: The process of matching fields from one data source to another"
   ]
  },
  {
   "attachments": {},
   "cell_type": "markdown",
   "metadata": {},
   "source": [
    "## SQL Features\n",
    "- Large datasets\n",
    "- Access tables across a database\n",
    "- Prepare data for further analysis in another software\n",
    "- Fast and powerful functionality\n",
    "- Great for collaborative work and tracking queries run by all users\n",
    "\n",
    "## Spreadsheet Features\n",
    "- Small datasets\n",
    "- Enter data manually\n",
    "- Create graphs and visualizations in the same program"
   ]
  }
 ],
 "metadata": {
  "language_info": {
   "name": "python"
  },
  "orig_nbformat": 4
 },
 "nbformat": 4,
 "nbformat_minor": 2
}
