{
 "cells": [
  {
   "attachments": {},
   "cell_type": "markdown",
   "metadata": {},
   "source": [
    "# Steps: \n",
    "- Ask \n",
    "- Prepare\n",
    "- Process\n",
    "- Analyze\n",
    "- Share\n",
    "- Act"
   ]
  },
  {
   "attachments": {},
   "cell_type": "markdown",
   "metadata": {},
   "source": [
    "# Key Skills of a Data Analyst\n",
    "- Curiosity\n",
    "- Understanding Context\n",
    "- Having a Technical Mindset\n",
    "- Data Design\n",
    "- Data Strategy"
   ]
  },
  {
   "attachments": {},
   "cell_type": "markdown",
   "metadata": {},
   "source": [
    "# Terminologies\n",
    "- **Data**: A collection of facts, such as numbers, words, measurements, observations or even just descriptions of things.\n",
    "- **Data Analysis**: The collection, transformation, and organization of data in order to draw conclusions, make predictions, and drive informed decision making.\n",
    "- **Data Analyst**: Someone who collects, transforms, and organizes data in order to help make informed decisions.\n",
    "- **Data Analytics**: The science of analyzing raw data in order to make conclusions about that information.\n",
    "- **Data Ecosystem**: The various elements that interact with one another in order to produce, manage, store, organize, analyze, and share data.\n",
    "- **Data Science**: Creating new ways of modelling and understanding the unknown by using raw data.\n",
    "- **Data-driven Decision-Making**: Using facts to guide business strategy.\n",
    "- **Analytical Skills**: Qualities and characteristics associated with solving problems using facts.\n",
    "- **Data Design**: How you organize information.\n",
    "- **Data Strategy**: The management of the people, processes, and tools used in data analysis.\n",
    "- **Data Visualization**: The graphical representation of information and data.\n",
    "- **Analytical Thinking**: Identifying and defining a problem, and then solving it by using data in an organized, step-by-step manner. \n",
    "- **Gap Analysis**: A method for examining and evaluating how a process works currently in order to get where you want to be in the future.\n",
    "- **Database**: A collection of data stored in a computer system.\n",
    "- **Formula**: A set of instructions that performs a specific calculation using the data in a spreadsheet.\n",
    "- **Query Language**: A computer programming language that allows you to retrieve and manipulate data from a database.\n",
    "- **Data Fairness**: Ensuring that your analysis doesnt create or enforce bias.\n",
    "- **Structured Thinking**: The process of recognizing the current problem or situation, organizing available information, revealing gaps and opportunities, and identifying the options.\n",
    "- **Action-Oriented Question**: A question whose answer will help you make a decision or take an action.\n",
    "- **Leading Question**: A question that steers people toward a certain response.\n",
    "- **Relevant Question**: A question that has significance to the problem to be solved.\n",
    "- **Data Life Cycle**: The sequence of stages that data experiences, which include plan, capture, manage, analyze, archive and destroy.\n",
    "- **Dataset**: A collection of data that can be manipulated and analyzed as a single unit.\n",
    "- **SMART Methodology**: A tool for determining a question's effectiveness based on whether it is specific, measurable, action-oriented, relevant, and time-bound.\n",
    "- **Specific Question**: A question that is simple, significant, and focused on a single topic or a few closely related ideas.\n",
    "- **Algorithm**: A process or set of rules followed for a specific task.\n",
    "- **Big Data**: Large, complex datasets typically involving long periods of time, which enable data analysts to address far-reaching business problems.\n",
    "- **Dashboard**: A tool that monitors live, incoming data and provides information through visualizations and charts.\n",
    "- **Data-inspired Decision-Making**: The process of exploring different data sources to find out what they have in common.\n",
    "- **Metric**: A single, quantifiable type of data that is used for measurement. \n",
    "- **Metric Goal**: A measurable goal set by a company and evaluated using metrics.\n",
    "- **Pivot Table**: A data summarization tool used to sort, reorganize, group, count, total, or average data.\n",
    "- **Pivot Chart**: A chart created from the fields in a pivot table.\n",
    "- **Problem Types**: The various problems that data analysts encounter, including categorizing things, discovering connections, finding patterns, identifying themes, making predictions, and spotting something unusual."
   ]
  },
  {
   "attachments": {},
   "cell_type": "markdown",
   "metadata": {},
   "source": [
    "## Spreadsheet Terminologies\n",
    "- **Cell**: The intersection of a row and a column in a spreadsheet.\n",
    "- **Column**: A vertical series of cells in a chart, table, or spreadsheet.\n",
    "- **Row/Observation**: A horizontal series of cells in a chart, table, or spreadsheet.\n",
    "- **Attribute**: A characteristic or quality of data used to label a column in a table."
   ]
  },
  {
   "attachments": {},
   "cell_type": "markdown",
   "metadata": {},
   "source": [
    "# Aspects of Analytical Thinking\n",
    "- Visualization\n",
    "- Strategy\n",
    "- Problem Orientation\n",
    "- Correlation\n",
    "- Big-picture and Detail-oriented Thinking"
   ]
  },
  {
   "attachments": {},
   "cell_type": "markdown",
   "metadata": {},
   "source": [
    "## Analyst Roles\n",
    "- **Business Analyst**: analyzes data to help businesses improve processes, products, or services\n",
    "- **Data Analytics Consultant**: analyzes the systems and models for using data\n",
    "- **Data Engineer**: prepares and integrates data from different sources for analytical uses\n",
    "- **Data Scientist**: uses expert skills in technology and social science to find trends through data analysis\n",
    "- **Data Specialist**: organizes or converts data for use in databases or software systems\n",
    "- **Operations Analyst**: analyzes data to assess the performance of business operations and workflows"
   ]
  }
 ],
 "metadata": {
  "language_info": {
   "name": "python"
  },
  "orig_nbformat": 4
 },
 "nbformat": 4,
 "nbformat_minor": 2
}
