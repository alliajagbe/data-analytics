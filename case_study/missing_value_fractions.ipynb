Dataframe 0
ride_id : 0, fraction: 0.0%
rideable_type : 0, fraction: 0.0%
started_at : 0, fraction: 0.0%
ended_at : 0, fraction: 0.0%
start_station_name : 116259, fraction: 16.155654805744156%
start_station_id : 116259, fraction: 16.155654805744156%
end_station_name : 124050, fraction: 17.238312549158024%
end_station_id : 124050, fraction: 17.238312549158024%
start_lat : 0, fraction: 0.0%
start_lng : 0, fraction: 0.0%
end_lat : 889, fraction: 0.1235377658702256%
end_lng : 889, fraction: 0.1235377658702256%
member_casual : 0, fraction: 0.0%
ride_length : 0, fraction: 0.0%
day_of_week : 0, fraction: 0.0%


Dataframe 1
ride_id : 0, fraction: 0.0%
rideable_type : 0, fraction: 0.0%
started_at : 0, fraction: 0.0%
ended_at : 0, fraction: 0.0%
start_station_name : 89240, fraction: 14.754632316348312%
start_station_id : 89240, fraction: 14.754632316348312%
end_station_name : 95267, fraction: 15.751115608264843%
end_station_id : 95267, fraction: 15.751115608264843%
start_lat : 0, fraction: 0.0%
start_lng : 0, fraction: 0.0%
end_lat : 710, fraction: 0.11738893931653184%
end_lng : 710, fraction: 0.11738893931653184%
member_casual : 0, fraction: 0.0%
ride_length : 0, fraction: 0.0%
day_of_week : 0, fraction: 0.0%


Dataframe 2
ride_id : 0, fraction: 0.0%
rideable_type : 0, fraction: 0.0%
started_at : 0, fraction: 0.0%
ended_at : 0, fraction: 0.0%
start_station_name : 63814, fraction: 14.959094212241261%
start_station_id : 63814, fraction: 14.959094212241261%
end_station_name : 68630, fraction: 16.088047070958062%
end_station_id : 68630, fraction: 16.088047070958062%
start_lat : 0, fraction: 0.0%
start_lng : 0, fraction: 0.0%
end_lat : 435, fraction: 0.10197144799456152%
end_lng : 435, fraction: 0.10197144799456152%
member_casual : 0, fraction: 0.0%
ride_length : 0, fraction: 0.0%
day_of_week : 0, fraction: 0.0%


Dataframe 3
ride_id : 0, fraction: 0.0%
rideable_type : 0, fraction: 0.0%
started_at : 0, fraction: 0.0%
ended_at : 0, fraction: 0.0%
start_station_name : 35910, fraction: 13.88212372138334%
start_station_id : 35910, fraction: 13.88212372138334%
end_station_name : 38438, fraction: 14.859400490184708%
end_station_id : 38438, fraction: 14.859400490184708%
start_lat : 0, fraction: 0.0%
start_lng : 0, fraction: 0.0%
end_lat : 183, fraction: 0.07074432305801034%
end_lng : 183, fraction: 0.07074432305801034%
member_casual : 0, fraction: 0.0%
ride_length : 0, fraction: 0.0%
day_of_week : 0, fraction: 0.0%


Dataframe 4
ride_id : 0, fraction: 0.0%
rideable_type : 0, fraction: 0.0%
started_at : 0, fraction: 0.0%
ended_at : 0, fraction: 0.0%
start_station_name : 25473, fraction: 13.375515240620652%
start_station_id : 25605, fraction: 13.44482659035417%
end_station_name : 26738, fraction: 14.039749008900207%
end_station_id : 26879, fraction: 14.113786132479195%
start_lat : 0, fraction: 0.0%
start_lng : 0, fraction: 0.0%
end_lat : 116, fraction: 0.06090997400824385%
end_lng : 116, fraction: 0.06090997400824385%
member_casual : 0, fraction: 0.0%
ride_length : 0, fraction: 0.0%
day_of_week : 0, fraction: 0.0%


Dataframe 5
ride_id : 0, fraction: 0.0%
rideable_type : 0, fraction: 0.0%
started_at : 0, fraction: 0.0%
ended_at : 0, fraction: 0.0%
start_station_name : 26721, fraction: 14.041439614085055%
start_station_id : 26721, fraction: 14.041439614085055%
end_station_name : 27840, fraction: 14.62945544164245%
end_station_id : 27840, fraction: 14.62945544164245%
start_lat : 0, fraction: 0.0%
start_lng : 0, fraction: 0.0%
end_lat : 127, fraction: 0.06673638078622814%
end_lng : 127, fraction: 0.06673638078622814%
member_casual : 0, fraction: 0.0%
ride_length : 0, fraction: 0.0%
day_of_week : 0, fraction: 0.0%


Dataframe 6
ride_id : 0, fraction: 0.0%
rideable_type : 0, fraction: 0.0%
started_at : 0, fraction: 0.0%
ended_at : 0, fraction: 0.0%
start_station_name : 29283, fraction: 16.10672915085311%
start_station_id : 29283, fraction: 16.10672915085311%
end_station_name : 31158, fraction: 17.1380482492327%
end_station_id : 31158, fraction: 17.1380482492327%
start_lat : 0, fraction: 0.0%
start_lng : 0, fraction: 0.0%
end_lat : 128, fraction: 0.07040471711604677%
end_lng : 128, fraction: 0.07040471711604677%
member_casual : 0, fraction: 0.0%
ride_length : 0, fraction: 0.0%
day_of_week : 0, fraction: 0.0%


Dataframe 7
ride_id : 0, fraction: 0.0%
rideable_type : 0, fraction: 0.0%
started_at : 0, fraction: 0.0%
ended_at : 0, fraction: 0.0%
start_station_name : 51957, fraction: 15.383954875864214%
start_station_id : 51957, fraction: 15.383954875864214%
end_station_name : 54259, fraction: 16.065554354745583%
end_station_id : 54259, fraction: 16.065554354745583%
start_lat : 0, fraction: 0.0%
start_lng : 0, fraction: 0.0%
end_lat : 230, fraction: 0.06810072986217004%
end_lng : 230, fraction: 0.06810072986217004%
member_casual : 0, fraction: 0.0%
ride_length : 0, fraction: 0.0%
day_of_week : 0, fraction: 0.0%


Dataframe 8
ride_id : 0, fraction: 0.0%
rideable_type : 0, fraction: 0.0%
started_at : 0, fraction: 0.0%
ended_at : 0, fraction: 0.0%
start_station_name : 91355, fraction: 16.35179036487466%
start_station_id : 91355, fraction: 16.35179036487466%
end_station_name : 96617, fraction: 17.293644898287944%
end_station_id : 96617, fraction: 17.293644898287944%
start_lat : 0, fraction: 0.0%
start_lng : 0, fraction: 0.0%
end_lat : 475, fraction: 0.0850210762773298%
end_lng : 475, fraction: 0.0850210762773298%
member_casual : 0, fraction: 0.0%
ride_length : 0, fraction: 0.0%
day_of_week : 0, fraction: 0.0%


Dataframe 9
ride_id : 0, fraction: 0.0%
rideable_type : 0, fraction: 0.0%
started_at : 0, fraction: 0.0%
ended_at : 0, fraction: 0.0%
start_station_name : 103780, fraction: 14.797408956296456%
start_station_id : 103780, fraction: 14.797408956296456%
end_station_name : 111185, fraction: 15.85324643289479%
end_station_id : 111185, fraction: 15.85324643289479%
start_lat : 0, fraction: 0.0%
start_lng : 0, fraction: 0.0%
end_lat : 712, fraction: 0.1015200922806232%
end_lng : 712, fraction: 0.1015200922806232%
member_casual : 0, fraction: 0.0%
ride_length : 0, fraction: 0.0%
day_of_week : 0, fraction: 0.0%


Dataframe 10
ride_id : 0, fraction: 0.0%
rideable_type : 0, fraction: 0.0%
started_at : 0, fraction: 0.0%
ended_at : 0, fraction: 0.0%
start_station_name : 112037, fraction: 14.255304530162915%
start_station_id : 112037, fraction: 14.255304530162915%
end_station_name : 120522, fraction: 15.334914470972045%
end_station_id : 120522, fraction: 15.334914470972045%
start_lat : 0, fraction: 0.0%
start_lng : 0, fraction: 0.0%
end_lat : 843, fraction: 0.10726118799081853%
end_lng : 843, fraction: 0.10726118799081853%
member_casual : 0, fraction: 0.0%
ride_length : 0, fraction: 0.0%
day_of_week : 0, fraction: 0.0%


Dataframe 11
ride_id : 0, fraction: 0.0%
rideable_type : 0, fraction: 0.0%
started_at : 0, fraction: 0.0%
ended_at : 0, fraction: 0.0%
start_station_name : 112031, fraction: 13.604448395119299%
start_station_id : 112031, fraction: 13.604448395119299%
end_station_name : 120951, fraction: 14.687645721613428%
end_station_id : 120951, fraction: 14.687645721613428%
start_lat : 0, fraction: 0.0%
start_lng : 0, fraction: 0.0%
end_lat : 947, fraction: 0.114998639931608%
end_lng : 947, fraction: 0.114998639931608%
member_casual : 0, fraction: 0.0%
ride_length : 0, fraction: 0.0%
day_of_week : 0, fraction: 0.0%


