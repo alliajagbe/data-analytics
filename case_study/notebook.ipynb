{
 "cells": [
  {
   "cell_type": "markdown",
   "metadata": {},
   "source": [
    "# **Cyclistic Case Study**"
   ]
  },
  {
   "cell_type": "markdown",
   "metadata": {},
   "source": [
    "### About the Company\n",
    "In 2016, Cyclistic launched a successful bike-share offering. Since then, the program has grown to a fleet of 5,824 bicycles that are geotracked and locked into a network of 692 stations across Chicago. The bikes can be unlocked from one station and returned to any other station in the system anytime. - Google Data Amalytics Professional Certificate"
   ]
  },
  {
   "cell_type": "markdown",
   "metadata": {},
   "source": [
    "### Services Offered:\n",
    "- Single-Ride Passes\n",
    "- Full-Day Passes\n",
    "- Annual Memberships\n",
    "\n",
    "### Customer Segment:\n",
    "- Customers who purchase single-ride or full-day passes are referred to as casual riders.\n",
    "- Customers who purchase annual memberships are Cyclistic members."
   ]
  },
  {
   "cell_type": "markdown",
   "metadata": {},
   "source": [
    "### Finance Analysts Speculation\n",
    "- Annual members are much more profitable than casual riders.\n",
    "- According to Moreno, the company's director of marketing, maximizing the number of annual members will be key to the company's future success.\n",
    "\n",
    "### Notes from Moreno\n",
    "- Rather than creating a marketing campaign that targets all-new customers, the company should focus on converting casual riders into annual members.\n",
    "- Casual riders are already aware of the company's program and have chosen Cyclistic for their mobility needs."
   ]
  },
  {
   "cell_type": "markdown",
   "metadata": {},
   "source": [
    "# Case Study Deliverables:\n",
    "- A clear statement of the business task\n",
    "- A description of all data sources used\n",
    "- Documentation of any cleaning or manipulation of data\n",
    "- A summary of analysis\n",
    "- Supporting visualizations and key findings\n",
    "- Top 3 Recommendations based on analysis"
   ]
  },
  {
   "cell_type": "markdown",
   "metadata": {},
   "source": [
    "# **Question to be Answered: How do annual members and casual riders use Cyclistic bikes differently?**"
   ]
  },
  {
   "cell_type": "markdown",
   "metadata": {},
   "source": [
    "# **Ask Phase**"
   ]
  },
  {
   "cell_type": "markdown",
   "metadata": {},
   "source": [
    "| **Guiding Questions**                         |              **Answers** |\n",
    "|-------------------------------------------|:--------------------:|\n",
    "| What is the problem I am trying to solve? |   Profit maximization for Cyclistic by turning casual riders into annual members   |\n",
    "| How can my insights drive business decisions?      |  Understanding the difference between the riding patterns of Cyclistic's customer audience could potentially lead to actionable steps and drive marketing campaigns that easily converts casual riders into annual members |"
   ]
  },
  {
   "cell_type": "markdown",
   "metadata": {},
   "source": [
    "### Deliverable: Concise and Clear Statement of the Business Task\n",
    "Analyze and vary the bike usage patterns for both casual riders and annual members. "
   ]
  }
 ],
 "metadata": {
  "language_info": {
   "name": "python"
  },
  "orig_nbformat": 4
 },
 "nbformat": 4,
 "nbformat_minor": 2
}
