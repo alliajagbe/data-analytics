{
 "cells": [
  {
   "cell_type": "markdown",
   "metadata": {},
   "source": [
    "# **Cyclistic Case Study**"
   ]
  },
  {
   "cell_type": "markdown",
   "metadata": {},
   "source": [
    "### About the Company\n",
    "In 2016, Cyclistic launched a successful bike-share offering. Since then, the program has grown to a fleet of 5,824 bicycles that are geotracked and locked into a network of 692 stations across Chicago. The bikes can be unlocked from one station and returned to any other station in the system anytime. - Google Data Amalytics Professional Certificate"
   ]
  },
  {
   "cell_type": "markdown",
   "metadata": {},
   "source": [
    "### Services Offered:\n",
    "- Single-Ride Passes\n",
    "- Full-Day Passes\n",
    "- Annual Memberships\n",
    "\n",
    "### Customer Segment:\n",
    "- Customers who purchase single-ride or full-day passes are referred to as casual riders.\n",
    "- Customers who purchase annual memberships are Cyclistic members."
   ]
  },
  {
   "cell_type": "markdown",
   "metadata": {},
   "source": [
    "### Finance Analysts Speculation\n",
    "- Annual members are much more profitable than casual riders.\n",
    "- According to Moreno, the company's director of marketing, maximizing the number of annual members will be key to the company's future success.\n",
    "\n",
    "### Notes from Moreno\n",
    "- Rather than creating a marketing campaign that targets all-new customers, the company should focus on converting casual riders into annual members.\n",
    "- Casual riders are already aware of the company's program and have chosen Cyclistic for their mobility needs."
   ]
  },
  {
   "cell_type": "markdown",
   "metadata": {},
   "source": [
    "# Case Study Deliverables:\n",
    "- A clear statement of the business task\n",
    "- A description of all data sources used\n",
    "- Documentation of any cleaning or manipulation of data\n",
    "- A summary of analysis\n",
    "- Supporting visualizations and key findings\n",
    "- Top 3 Recommendations based on analysis"
   ]
  },
  {
   "cell_type": "markdown",
   "metadata": {},
   "source": [
    "# **Question to be Answered: How do annual members and casual riders use Cyclistic bikes differently?**"
   ]
  },
  {
   "cell_type": "markdown",
   "metadata": {},
   "source": [
    "# **Ask Phase**"
   ]
  },
  {
   "cell_type": "markdown",
   "metadata": {},
   "source": [
    "| **Guiding Questions**                         |              **Answers** |\n",
    "|-------------------------------------------|:--------------------:|\n",
    "| What is the problem I am trying to solve? |   Profit maximization for Cyclistic by turning casual riders into annual members   |\n",
    "| How can my insights drive business decisions?      |  Understanding the difference between the riding patterns of Cyclistic's customer audience could potentially lead to actionable steps and drive marketing campaigns that easily converts casual riders into annual members |"
   ]
  },
  {
   "cell_type": "markdown",
   "metadata": {},
   "source": [
    "### Deliverable: Concise and Clear Statement of the Business Task\n",
    "**_Analyze and vary the bike usage patterns for both casual riders and annual members._** "
   ]
  },
  {
   "cell_type": "markdown",
   "metadata": {},
   "source": [
    "**------------------------------------------------------------------------------------------------------------------------------------------------------------------------------------------------------------------------------------------------------------**\n"
   ]
  },
  {
   "cell_type": "markdown",
   "metadata": {},
   "source": [
    "# **Prepare Phase**"
   ]
  },
  {
   "cell_type": "markdown",
   "metadata": {},
   "source": [
    "| **Guiding Questions**                         |              **Answers** |\n",
    "|-------------------------------------------|:--------------------:|\n",
    "| Where is the data located? |   The riding data has been provided by Motivate International Inc. and is stored on Amazon Web Service (AWS); a reputable cloud provider.   |\n",
    "| How is the data organized?     | <ol><li> Comma Separated Files </li><li>Proper naming convention followed except for the case of September 2022</li><li>All data files have the same number of columns and all column names are exactly the same.</li><li>All columns are of the right data types.</li></ol> |\n",
    "| Are there issues with bias or credibility in the data?     | <ol><li>The data being used for analysis is time-relevant as it is of the immediate past 12 months.</li><li>The data is from a primary source as it was collected in real-time by the company itself using their app.</li><li>There is not much information on how exactly the data were extracted. Hence, it is difficult to comment on whether there is bias in the data collection process.</li><li>The percentage of missing data in each dataframe is generally low, with most columns having a fraction of 0.0% indicating that the data is quite complete. However, columns like **_start\\_station\\_name_**, **_start\\_station\\_id_**,  **_end\\_station\\_name_**, **_end\\_station\\_id_** have percentages of their missing data ranging from about 13% to 17%. </li><li>The data entry format in some of the columns like **_station\\_id_** is not uniform throughout.</li></ol> |\n",
    "| How are components like licensing, privacy, security, and accessibility addressed?    |  <ol><li> The data is licensed under the Divvy company via this [link](https://www.divvybikes.com/data-license-agreement) but cannot be accessed because the server is down and hence, raises a concern. </li> <li> The data is opensource, hence publicly accessible to anyone that might require it. </li><li>Due to privacy issues, the riders' id information have been altered to protect against the possible connection between pass purchases and credit card numbers.</li><li>Copies of the original data files have been made for security purposes and the original files have been stored online using OneDrive.</li></ol> |"
   ]
  },
  {
   "cell_type": "markdown",
   "metadata": {},
   "source": [
    "### Inspecting the Data"
   ]
  },
  {
   "cell_type": "code",
   "execution_count": 1,
   "metadata": {},
   "outputs": [],
   "source": [
    "import pandas as pd"
   ]
  },
  {
   "cell_type": "markdown",
   "metadata": {},
   "source": [
    "#### Loading all the Data"
   ]
  },
  {
   "cell_type": "code",
   "execution_count": 2,
   "metadata": {},
   "outputs": [
    {
     "data": {
      "text/plain": [
       "'c:\\\\Users\\\\Alli Ajagbe\\\\OneDrive - Plaksha University\\\\Desktop\\\\Data Analytics\\\\case_study'"
      ]
     },
     "execution_count": 2,
     "metadata": {},
     "output_type": "execute_result"
    }
   ],
   "source": [
    "import os\n",
    "# check current working directory\n",
    "os.getcwd()"
   ]
  },
  {
   "cell_type": "code",
   "execution_count": 3,
   "metadata": {},
   "outputs": [],
   "source": [
    "june2023 = pd.read_csv(\"../../divvy-data/202306-divvy-tripdata.csv\")\n",
    "may2023 = pd.read_csv(\"../../divvy-data/202305-divvy-tripdata.csv\")\n",
    "april2023 = pd.read_csv(\"../../divvy-data/202304-divvy-tripdata.csv\")\n",
    "march2023 = pd.read_csv(\"../../divvy-data/202303-divvy-tripdata.csv\")\n",
    "february2023 = pd.read_csv(\"../../divvy-data/202302-divvy-tripdata.csv\")\n",
    "january2023 = pd.read_csv(\"../../divvy-data/202301-divvy-tripdata.csv\")\n",
    "december2022 = pd.read_csv(\"../../divvy-data/202212-divvy-tripdata.csv\")\n",
    "november2022 = pd.read_csv(\"../../divvy-data/202211-divvy-tripdata.csv\")\n",
    "october2022 = pd.read_csv(\"../../divvy-data/202210-divvy-tripdata.csv\")\n",
    "september2022 = pd.read_csv(\"../../divvy-data/202209-divvy-publictripdata.csv\")\n",
    "august2022 = pd.read_csv(\"../../divvy-data/202208-divvy-tripdata.csv\")\n",
    "july2022 = pd.read_csv(\"../../divvy-data/202207-divvy-tripdata.csv\")"
   ]
  },
  {
   "cell_type": "markdown",
   "metadata": {},
   "source": [
    "#### Columns Check"
   ]
  },
  {
   "cell_type": "code",
   "execution_count": 4,
   "metadata": {},
   "outputs": [
    {
     "name": "stdout",
     "output_type": "stream",
     "text": [
      "All files have the same columns.\n"
     ]
    }
   ],
   "source": [
    "# asserting that all files have the same columns\n",
    "all_dfs = [june2023, may2023, april2023, march2023, february2023, january2023, december2022, november2022, october2022, september2022, august2022, july2022]\n",
    "df = all_dfs[0]\n",
    "assert all([all(df.columns == df2.columns) for df2 in all_dfs])\n",
    "print('All files have the same columns.')"
   ]
  },
  {
   "cell_type": "code",
   "execution_count": 5,
   "metadata": {},
   "outputs": [
    {
     "name": "stdout",
     "output_type": "stream",
     "text": [
      "ride_id                object\n",
      "rideable_type          object\n",
      "started_at             object\n",
      "ended_at               object\n",
      "start_station_name     object\n",
      "start_station_id       object\n",
      "end_station_name       object\n",
      "end_station_id         object\n",
      "start_lat             float64\n",
      "start_lng             float64\n",
      "end_lat               float64\n",
      "end_lng               float64\n",
      "member_casual          object\n",
      "dtype: object\n"
     ]
    }
   ],
   "source": [
    "# printing the types of the columns\n",
    "print(june2023.dtypes)"
   ]
  },
  {
   "cell_type": "markdown",
   "metadata": {},
   "source": [
    "### Deliverable: A description of all data sources used.\n",
    "\n",
    "**_The data sources used in this analysis consist of riding data provided by Motivate International Inc., a renowned bike-sharing services company. The data is securely stored on Amazon Web Service (AWS), a reputable and reliable cloud provider, ensuring accessibility and data integrity. The dataset is organized in comma-separated files with consistent naming conventions, except for September 2022. Each file contains the same number of columns with consistent names and appropriate data types, ensuring the data's coherence and structure. However, the analysis raises concerns about potential bias due to limited information on the data extraction process. On the positive side, the data represents the past 12 months and is collected in real-time through the company's app, bolstering its credibility and relevance. Nevertheless, the presence of missing values in the dataset may impact the accuracy of the resulting analysis. Additionally, privacy concerns have been addressed by altering riders' ID information to safeguard their identity and protect sensitive data. The data is licensed under Divvy, the bike-sharing company, and although the data is generally open-source, there are challenges related to its current accessibility due to server issues. For security purposes, copies of the original data files have been securely stored online using OneDrive._**"
   ]
  },
  {
   "cell_type": "markdown",
   "metadata": {},
   "source": [
    "**------------------------------------------------------------------------------------------------------------------------------------------------------------------------------------------------------------------------------------------------------------**"
   ]
  },
  {
   "cell_type": "markdown",
   "metadata": {},
   "source": [
    "# **Process Phase**"
   ]
  },
  {
   "cell_type": "markdown",
   "metadata": {},
   "source": [
    "## Analysis Log\n",
    "- Converted the started_at and ended_at columns to datetime for all the month dataframes\n",
    "- Calculated ride length for each ride in all dataframes\n",
    "- Added columns for days of the week for all dataframes\n",
    "- Checked the missing values in the dataframes\n",
    "- Computed the fraction of missing data points for all columns in all dataframes to assess the quality of the data\n",
    "- Added month name columns to all dataframes\n",
    "- Calculated distances in kilometres between the start and end stations for all dataframes using the haversine formula\n",
    "- Renamed ride_length column to ride_length_seconds and ride_distance to ride_distance_km in all dataframes for easy understanding\n",
    "- Merged all the monthly dataframes together into one dataframe (yearly_data)\n",
    "- Removed outliers from the yearly_data dataframe using the IQR method\n",
    "- Visualized all locations present in the data\n",
    "- Verified that all locations are on land (and not in water)\n",
    "- From the yearly_data without outliers, removed row where the total ride length is less than zero seconds"
   ]
  },
  {
   "cell_type": "code",
   "execution_count": 6,
   "metadata": {},
   "outputs": [],
   "source": [
    "# converting started_at and ended_at to datetime for all dataframes\n",
    "for dataframe in all_dfs:\n",
    "    dataframe['started_at'] = pd.to_datetime(dataframe['started_at'])\n",
    "    dataframe['ended_at'] = pd.to_datetime(dataframe['ended_at'])"
   ]
  },
  {
   "cell_type": "code",
   "execution_count": 7,
   "metadata": {},
   "outputs": [],
   "source": [
    "# calculating ride length for each ride in all the dataframes\n",
    "for dataframe in all_dfs:\n",
    "    dataframe['ride_length'] = dataframe['ended_at'] - dataframe['started_at']\n",
    "    # converting ride length to seconds\n",
    "    dataframe['ride_length'] = dataframe['ride_length'].astype('timedelta64[s]')"
   ]
  },
  {
   "cell_type": "code",
   "execution_count": 8,
   "metadata": {},
   "outputs": [
    {
     "data": {
      "text/html": [
       "<div>\n",
       "<style scoped>\n",
       "    .dataframe tbody tr th:only-of-type {\n",
       "        vertical-align: middle;\n",
       "    }\n",
       "\n",
       "    .dataframe tbody tr th {\n",
       "        vertical-align: top;\n",
       "    }\n",
       "\n",
       "    .dataframe thead th {\n",
       "        text-align: right;\n",
       "    }\n",
       "</style>\n",
       "<table border=\"1\" class=\"dataframe\">\n",
       "  <thead>\n",
       "    <tr style=\"text-align: right;\">\n",
       "      <th></th>\n",
       "      <th>ride_id</th>\n",
       "      <th>rideable_type</th>\n",
       "      <th>started_at</th>\n",
       "      <th>ended_at</th>\n",
       "      <th>start_station_name</th>\n",
       "      <th>start_station_id</th>\n",
       "      <th>end_station_name</th>\n",
       "      <th>end_station_id</th>\n",
       "      <th>start_lat</th>\n",
       "      <th>start_lng</th>\n",
       "      <th>end_lat</th>\n",
       "      <th>end_lng</th>\n",
       "      <th>member_casual</th>\n",
       "      <th>ride_length</th>\n",
       "    </tr>\n",
       "  </thead>\n",
       "  <tbody>\n",
       "    <tr>\n",
       "      <th>0</th>\n",
       "      <td>6F1682AC40EB6F71</td>\n",
       "      <td>electric_bike</td>\n",
       "      <td>2023-06-05 13:34:12</td>\n",
       "      <td>2023-06-05 14:31:56</td>\n",
       "      <td>NaN</td>\n",
       "      <td>NaN</td>\n",
       "      <td>NaN</td>\n",
       "      <td>NaN</td>\n",
       "      <td>41.91</td>\n",
       "      <td>-87.69</td>\n",
       "      <td>41.91</td>\n",
       "      <td>-87.70</td>\n",
       "      <td>member</td>\n",
       "      <td>3464.0</td>\n",
       "    </tr>\n",
       "    <tr>\n",
       "      <th>1</th>\n",
       "      <td>622A1686D64948EB</td>\n",
       "      <td>electric_bike</td>\n",
       "      <td>2023-06-05 01:30:22</td>\n",
       "      <td>2023-06-05 01:33:06</td>\n",
       "      <td>NaN</td>\n",
       "      <td>NaN</td>\n",
       "      <td>NaN</td>\n",
       "      <td>NaN</td>\n",
       "      <td>41.94</td>\n",
       "      <td>-87.65</td>\n",
       "      <td>41.94</td>\n",
       "      <td>-87.65</td>\n",
       "      <td>member</td>\n",
       "      <td>164.0</td>\n",
       "    </tr>\n",
       "    <tr>\n",
       "      <th>2</th>\n",
       "      <td>3C88859D926253B4</td>\n",
       "      <td>electric_bike</td>\n",
       "      <td>2023-06-20 18:15:49</td>\n",
       "      <td>2023-06-20 18:32:05</td>\n",
       "      <td>NaN</td>\n",
       "      <td>NaN</td>\n",
       "      <td>NaN</td>\n",
       "      <td>NaN</td>\n",
       "      <td>41.95</td>\n",
       "      <td>-87.68</td>\n",
       "      <td>41.92</td>\n",
       "      <td>-87.63</td>\n",
       "      <td>member</td>\n",
       "      <td>976.0</td>\n",
       "    </tr>\n",
       "    <tr>\n",
       "      <th>3</th>\n",
       "      <td>EAD8A5E0259DEC88</td>\n",
       "      <td>electric_bike</td>\n",
       "      <td>2023-06-19 14:56:00</td>\n",
       "      <td>2023-06-19 15:00:35</td>\n",
       "      <td>NaN</td>\n",
       "      <td>NaN</td>\n",
       "      <td>NaN</td>\n",
       "      <td>NaN</td>\n",
       "      <td>41.99</td>\n",
       "      <td>-87.65</td>\n",
       "      <td>41.98</td>\n",
       "      <td>-87.66</td>\n",
       "      <td>member</td>\n",
       "      <td>275.0</td>\n",
       "    </tr>\n",
       "    <tr>\n",
       "      <th>4</th>\n",
       "      <td>5A36F21930D6A55C</td>\n",
       "      <td>electric_bike</td>\n",
       "      <td>2023-06-19 15:03:34</td>\n",
       "      <td>2023-06-19 15:07:16</td>\n",
       "      <td>NaN</td>\n",
       "      <td>NaN</td>\n",
       "      <td>NaN</td>\n",
       "      <td>NaN</td>\n",
       "      <td>41.98</td>\n",
       "      <td>-87.66</td>\n",
       "      <td>41.99</td>\n",
       "      <td>-87.65</td>\n",
       "      <td>member</td>\n",
       "      <td>222.0</td>\n",
       "    </tr>\n",
       "  </tbody>\n",
       "</table>\n",
       "</div>"
      ],
      "text/plain": [
       "            ride_id  rideable_type          started_at            ended_at  \\\n",
       "0  6F1682AC40EB6F71  electric_bike 2023-06-05 13:34:12 2023-06-05 14:31:56   \n",
       "1  622A1686D64948EB  electric_bike 2023-06-05 01:30:22 2023-06-05 01:33:06   \n",
       "2  3C88859D926253B4  electric_bike 2023-06-20 18:15:49 2023-06-20 18:32:05   \n",
       "3  EAD8A5E0259DEC88  electric_bike 2023-06-19 14:56:00 2023-06-19 15:00:35   \n",
       "4  5A36F21930D6A55C  electric_bike 2023-06-19 15:03:34 2023-06-19 15:07:16   \n",
       "\n",
       "  start_station_name start_station_id end_station_name end_station_id  \\\n",
       "0                NaN              NaN              NaN            NaN   \n",
       "1                NaN              NaN              NaN            NaN   \n",
       "2                NaN              NaN              NaN            NaN   \n",
       "3                NaN              NaN              NaN            NaN   \n",
       "4                NaN              NaN              NaN            NaN   \n",
       "\n",
       "   start_lat  start_lng  end_lat  end_lng member_casual  ride_length  \n",
       "0      41.91     -87.69    41.91   -87.70        member       3464.0  \n",
       "1      41.94     -87.65    41.94   -87.65        member        164.0  \n",
       "2      41.95     -87.68    41.92   -87.63        member        976.0  \n",
       "3      41.99     -87.65    41.98   -87.66        member        275.0  \n",
       "4      41.98     -87.66    41.99   -87.65        member        222.0  "
      ]
     },
     "execution_count": 8,
     "metadata": {},
     "output_type": "execute_result"
    }
   ],
   "source": [
    "# verifying our changes\n",
    "june2023.head()"
   ]
  },
  {
   "cell_type": "code",
   "execution_count": 9,
   "metadata": {},
   "outputs": [],
   "source": [
    "# creating a column for day of the week\n",
    "for dataframe in all_dfs:\n",
    "    dataframe['day_of_week'] = dataframe['started_at'].dt.day_name()"
   ]
  },
  {
   "cell_type": "code",
   "execution_count": 10,
   "metadata": {},
   "outputs": [
    {
     "data": {
      "text/html": [
       "<div>\n",
       "<style scoped>\n",
       "    .dataframe tbody tr th:only-of-type {\n",
       "        vertical-align: middle;\n",
       "    }\n",
       "\n",
       "    .dataframe tbody tr th {\n",
       "        vertical-align: top;\n",
       "    }\n",
       "\n",
       "    .dataframe thead th {\n",
       "        text-align: right;\n",
       "    }\n",
       "</style>\n",
       "<table border=\"1\" class=\"dataframe\">\n",
       "  <thead>\n",
       "    <tr style=\"text-align: right;\">\n",
       "      <th></th>\n",
       "      <th>ride_id</th>\n",
       "      <th>rideable_type</th>\n",
       "      <th>started_at</th>\n",
       "      <th>ended_at</th>\n",
       "      <th>start_station_name</th>\n",
       "      <th>start_station_id</th>\n",
       "      <th>end_station_name</th>\n",
       "      <th>end_station_id</th>\n",
       "      <th>start_lat</th>\n",
       "      <th>start_lng</th>\n",
       "      <th>end_lat</th>\n",
       "      <th>end_lng</th>\n",
       "      <th>member_casual</th>\n",
       "      <th>ride_length</th>\n",
       "      <th>day_of_week</th>\n",
       "    </tr>\n",
       "  </thead>\n",
       "  <tbody>\n",
       "    <tr>\n",
       "      <th>0</th>\n",
       "      <td>0D9FA920C3062031</td>\n",
       "      <td>electric_bike</td>\n",
       "      <td>2023-05-07 19:53:48</td>\n",
       "      <td>2023-05-07 19:58:32</td>\n",
       "      <td>Southport Ave &amp; Belmont Ave</td>\n",
       "      <td>13229</td>\n",
       "      <td>NaN</td>\n",
       "      <td>NaN</td>\n",
       "      <td>41.939408</td>\n",
       "      <td>-87.663831</td>\n",
       "      <td>41.930000</td>\n",
       "      <td>-87.650000</td>\n",
       "      <td>member</td>\n",
       "      <td>284.0</td>\n",
       "      <td>Sunday</td>\n",
       "    </tr>\n",
       "    <tr>\n",
       "      <th>1</th>\n",
       "      <td>92485E5FB5888ACD</td>\n",
       "      <td>electric_bike</td>\n",
       "      <td>2023-05-06 18:54:08</td>\n",
       "      <td>2023-05-06 19:03:35</td>\n",
       "      <td>Southport Ave &amp; Belmont Ave</td>\n",
       "      <td>13229</td>\n",
       "      <td>NaN</td>\n",
       "      <td>NaN</td>\n",
       "      <td>41.939482</td>\n",
       "      <td>-87.663848</td>\n",
       "      <td>41.940000</td>\n",
       "      <td>-87.690000</td>\n",
       "      <td>member</td>\n",
       "      <td>567.0</td>\n",
       "      <td>Saturday</td>\n",
       "    </tr>\n",
       "    <tr>\n",
       "      <th>2</th>\n",
       "      <td>FB144B3FC8300187</td>\n",
       "      <td>electric_bike</td>\n",
       "      <td>2023-05-21 00:40:21</td>\n",
       "      <td>2023-05-21 00:44:36</td>\n",
       "      <td>Halsted St &amp; 21st St</td>\n",
       "      <td>13162</td>\n",
       "      <td>NaN</td>\n",
       "      <td>NaN</td>\n",
       "      <td>41.853793</td>\n",
       "      <td>-87.646719</td>\n",
       "      <td>41.860000</td>\n",
       "      <td>-87.650000</td>\n",
       "      <td>member</td>\n",
       "      <td>255.0</td>\n",
       "      <td>Sunday</td>\n",
       "    </tr>\n",
       "    <tr>\n",
       "      <th>3</th>\n",
       "      <td>DDEB93BC2CE9AA77</td>\n",
       "      <td>classic_bike</td>\n",
       "      <td>2023-05-10 16:47:01</td>\n",
       "      <td>2023-05-10 16:59:52</td>\n",
       "      <td>Carpenter St &amp; Huron St</td>\n",
       "      <td>13196</td>\n",
       "      <td>Damen Ave &amp; Cortland St</td>\n",
       "      <td>13133</td>\n",
       "      <td>41.894556</td>\n",
       "      <td>-87.653449</td>\n",
       "      <td>41.915983</td>\n",
       "      <td>-87.677335</td>\n",
       "      <td>member</td>\n",
       "      <td>771.0</td>\n",
       "      <td>Wednesday</td>\n",
       "    </tr>\n",
       "    <tr>\n",
       "      <th>4</th>\n",
       "      <td>C07B70172FC92F59</td>\n",
       "      <td>classic_bike</td>\n",
       "      <td>2023-05-09 18:30:34</td>\n",
       "      <td>2023-05-09 18:39:28</td>\n",
       "      <td>Southport Ave &amp; Clark St</td>\n",
       "      <td>TA1308000047</td>\n",
       "      <td>Southport Ave &amp; Belmont Ave</td>\n",
       "      <td>13229</td>\n",
       "      <td>41.957081</td>\n",
       "      <td>-87.664199</td>\n",
       "      <td>41.939478</td>\n",
       "      <td>-87.663748</td>\n",
       "      <td>member</td>\n",
       "      <td>534.0</td>\n",
       "      <td>Tuesday</td>\n",
       "    </tr>\n",
       "  </tbody>\n",
       "</table>\n",
       "</div>"
      ],
      "text/plain": [
       "            ride_id  rideable_type          started_at            ended_at  \\\n",
       "0  0D9FA920C3062031  electric_bike 2023-05-07 19:53:48 2023-05-07 19:58:32   \n",
       "1  92485E5FB5888ACD  electric_bike 2023-05-06 18:54:08 2023-05-06 19:03:35   \n",
       "2  FB144B3FC8300187  electric_bike 2023-05-21 00:40:21 2023-05-21 00:44:36   \n",
       "3  DDEB93BC2CE9AA77   classic_bike 2023-05-10 16:47:01 2023-05-10 16:59:52   \n",
       "4  C07B70172FC92F59   classic_bike 2023-05-09 18:30:34 2023-05-09 18:39:28   \n",
       "\n",
       "            start_station_name start_station_id             end_station_name  \\\n",
       "0  Southport Ave & Belmont Ave            13229                          NaN   \n",
       "1  Southport Ave & Belmont Ave            13229                          NaN   \n",
       "2         Halsted St & 21st St            13162                          NaN   \n",
       "3      Carpenter St & Huron St            13196      Damen Ave & Cortland St   \n",
       "4     Southport Ave & Clark St     TA1308000047  Southport Ave & Belmont Ave   \n",
       "\n",
       "  end_station_id  start_lat  start_lng    end_lat    end_lng member_casual  \\\n",
       "0            NaN  41.939408 -87.663831  41.930000 -87.650000        member   \n",
       "1            NaN  41.939482 -87.663848  41.940000 -87.690000        member   \n",
       "2            NaN  41.853793 -87.646719  41.860000 -87.650000        member   \n",
       "3          13133  41.894556 -87.653449  41.915983 -87.677335        member   \n",
       "4          13229  41.957081 -87.664199  41.939478 -87.663748        member   \n",
       "\n",
       "   ride_length day_of_week  \n",
       "0        284.0      Sunday  \n",
       "1        567.0    Saturday  \n",
       "2        255.0      Sunday  \n",
       "3        771.0   Wednesday  \n",
       "4        534.0     Tuesday  "
      ]
     },
     "execution_count": 10,
     "metadata": {},
     "output_type": "execute_result"
    }
   ],
   "source": [
    "# verifying our changes\n",
    "may2023.head()"
   ]
  },
  {
   "cell_type": "code",
   "execution_count": 16,
   "metadata": {},
   "outputs": [
    {
     "name": "stdout",
     "output_type": "stream",
     "text": [
      "Dataframe 0\n",
      "ride_id : 0, fraction: 0.0%\n",
      "rideable_type : 0, fraction: 0.0%\n",
      "started_at : 0, fraction: 0.0%\n",
      "ended_at : 0, fraction: 0.0%\n",
      "start_station_name : 116259, fraction: 16.155654805744156%\n",
      "start_station_id : 116259, fraction: 16.155654805744156%\n",
      "end_station_name : 124050, fraction: 17.238312549158024%\n",
      "end_station_id : 124050, fraction: 17.238312549158024%\n",
      "start_lat : 0, fraction: 0.0%\n",
      "start_lng : 0, fraction: 0.0%\n",
      "end_lat : 889, fraction: 0.1235377658702256%\n",
      "end_lng : 889, fraction: 0.1235377658702256%\n",
      "member_casual : 0, fraction: 0.0%\n",
      "ride_length : 0, fraction: 0.0%\n",
      "day_of_week : 0, fraction: 0.0%\n",
      "\n",
      "\n",
      "Dataframe 1\n",
      "ride_id : 0, fraction: 0.0%\n",
      "rideable_type : 0, fraction: 0.0%\n",
      "started_at : 0, fraction: 0.0%\n",
      "ended_at : 0, fraction: 0.0%\n",
      "start_station_name : 89240, fraction: 14.754632316348312%\n",
      "start_station_id : 89240, fraction: 14.754632316348312%\n",
      "end_station_name : 95267, fraction: 15.751115608264843%\n",
      "end_station_id : 95267, fraction: 15.751115608264843%\n",
      "start_lat : 0, fraction: 0.0%\n",
      "start_lng : 0, fraction: 0.0%\n",
      "end_lat : 710, fraction: 0.11738893931653184%\n",
      "end_lng : 710, fraction: 0.11738893931653184%\n",
      "member_casual : 0, fraction: 0.0%\n",
      "ride_length : 0, fraction: 0.0%\n",
      "day_of_week : 0, fraction: 0.0%\n",
      "\n",
      "\n",
      "Dataframe 2\n",
      "ride_id : 0, fraction: 0.0%\n",
      "rideable_type : 0, fraction: 0.0%\n",
      "started_at : 0, fraction: 0.0%\n",
      "ended_at : 0, fraction: 0.0%\n",
      "start_station_name : 63814, fraction: 14.959094212241261%\n",
      "start_station_id : 63814, fraction: 14.959094212241261%\n",
      "end_station_name : 68630, fraction: 16.088047070958062%\n",
      "end_station_id : 68630, fraction: 16.088047070958062%\n",
      "start_lat : 0, fraction: 0.0%\n",
      "start_lng : 0, fraction: 0.0%\n",
      "end_lat : 435, fraction: 0.10197144799456152%\n",
      "end_lng : 435, fraction: 0.10197144799456152%\n",
      "member_casual : 0, fraction: 0.0%\n",
      "ride_length : 0, fraction: 0.0%\n",
      "day_of_week : 0, fraction: 0.0%\n",
      "\n",
      "\n",
      "Dataframe 3\n",
      "ride_id : 0, fraction: 0.0%\n",
      "rideable_type : 0, fraction: 0.0%\n",
      "started_at : 0, fraction: 0.0%\n",
      "ended_at : 0, fraction: 0.0%\n",
      "start_station_name : 35910, fraction: 13.88212372138334%\n",
      "start_station_id : 35910, fraction: 13.88212372138334%\n",
      "end_station_name : 38438, fraction: 14.859400490184708%\n",
      "end_station_id : 38438, fraction: 14.859400490184708%\n",
      "start_lat : 0, fraction: 0.0%\n",
      "start_lng : 0, fraction: 0.0%\n",
      "end_lat : 183, fraction: 0.07074432305801034%\n",
      "end_lng : 183, fraction: 0.07074432305801034%\n",
      "member_casual : 0, fraction: 0.0%\n",
      "ride_length : 0, fraction: 0.0%\n",
      "day_of_week : 0, fraction: 0.0%\n",
      "\n",
      "\n",
      "Dataframe 4\n",
      "ride_id : 0, fraction: 0.0%\n",
      "rideable_type : 0, fraction: 0.0%\n",
      "started_at : 0, fraction: 0.0%\n",
      "ended_at : 0, fraction: 0.0%\n",
      "start_station_name : 25473, fraction: 13.375515240620652%\n",
      "start_station_id : 25605, fraction: 13.44482659035417%\n",
      "end_station_name : 26738, fraction: 14.039749008900207%\n",
      "end_station_id : 26879, fraction: 14.113786132479195%\n",
      "start_lat : 0, fraction: 0.0%\n",
      "start_lng : 0, fraction: 0.0%\n",
      "end_lat : 116, fraction: 0.06090997400824385%\n",
      "end_lng : 116, fraction: 0.06090997400824385%\n",
      "member_casual : 0, fraction: 0.0%\n",
      "ride_length : 0, fraction: 0.0%\n",
      "day_of_week : 0, fraction: 0.0%\n",
      "\n",
      "\n",
      "Dataframe 5\n",
      "ride_id : 0, fraction: 0.0%\n",
      "rideable_type : 0, fraction: 0.0%\n",
      "started_at : 0, fraction: 0.0%\n",
      "ended_at : 0, fraction: 0.0%\n",
      "start_station_name : 26721, fraction: 14.041439614085055%\n",
      "start_station_id : 26721, fraction: 14.041439614085055%\n",
      "end_station_name : 27840, fraction: 14.62945544164245%\n",
      "end_station_id : 27840, fraction: 14.62945544164245%\n",
      "start_lat : 0, fraction: 0.0%\n",
      "start_lng : 0, fraction: 0.0%\n",
      "end_lat : 127, fraction: 0.06673638078622814%\n",
      "end_lng : 127, fraction: 0.06673638078622814%\n",
      "member_casual : 0, fraction: 0.0%\n",
      "ride_length : 0, fraction: 0.0%\n",
      "day_of_week : 0, fraction: 0.0%\n",
      "\n",
      "\n",
      "Dataframe 6\n",
      "ride_id : 0, fraction: 0.0%\n",
      "rideable_type : 0, fraction: 0.0%\n",
      "started_at : 0, fraction: 0.0%\n",
      "ended_at : 0, fraction: 0.0%\n",
      "start_station_name : 29283, fraction: 16.10672915085311%\n",
      "start_station_id : 29283, fraction: 16.10672915085311%\n",
      "end_station_name : 31158, fraction: 17.1380482492327%\n",
      "end_station_id : 31158, fraction: 17.1380482492327%\n",
      "start_lat : 0, fraction: 0.0%\n",
      "start_lng : 0, fraction: 0.0%\n",
      "end_lat : 128, fraction: 0.07040471711604677%\n",
      "end_lng : 128, fraction: 0.07040471711604677%\n",
      "member_casual : 0, fraction: 0.0%\n",
      "ride_length : 0, fraction: 0.0%\n",
      "day_of_week : 0, fraction: 0.0%\n",
      "\n",
      "\n",
      "Dataframe 7\n",
      "ride_id : 0, fraction: 0.0%\n",
      "rideable_type : 0, fraction: 0.0%\n",
      "started_at : 0, fraction: 0.0%\n",
      "ended_at : 0, fraction: 0.0%\n",
      "start_station_name : 51957, fraction: 15.383954875864214%\n",
      "start_station_id : 51957, fraction: 15.383954875864214%\n",
      "end_station_name : 54259, fraction: 16.065554354745583%\n",
      "end_station_id : 54259, fraction: 16.065554354745583%\n",
      "start_lat : 0, fraction: 0.0%\n",
      "start_lng : 0, fraction: 0.0%\n",
      "end_lat : 230, fraction: 0.06810072986217004%\n",
      "end_lng : 230, fraction: 0.06810072986217004%\n",
      "member_casual : 0, fraction: 0.0%\n",
      "ride_length : 0, fraction: 0.0%\n",
      "day_of_week : 0, fraction: 0.0%\n",
      "\n",
      "\n",
      "Dataframe 8\n",
      "ride_id : 0, fraction: 0.0%\n",
      "rideable_type : 0, fraction: 0.0%\n",
      "started_at : 0, fraction: 0.0%\n",
      "ended_at : 0, fraction: 0.0%\n",
      "start_station_name : 91355, fraction: 16.35179036487466%\n",
      "start_station_id : 91355, fraction: 16.35179036487466%\n",
      "end_station_name : 96617, fraction: 17.293644898287944%\n",
      "end_station_id : 96617, fraction: 17.293644898287944%\n",
      "start_lat : 0, fraction: 0.0%\n",
      "start_lng : 0, fraction: 0.0%\n",
      "end_lat : 475, fraction: 0.0850210762773298%\n",
      "end_lng : 475, fraction: 0.0850210762773298%\n",
      "member_casual : 0, fraction: 0.0%\n",
      "ride_length : 0, fraction: 0.0%\n",
      "day_of_week : 0, fraction: 0.0%\n",
      "\n",
      "\n",
      "Dataframe 9\n",
      "ride_id : 0, fraction: 0.0%\n",
      "rideable_type : 0, fraction: 0.0%\n",
      "started_at : 0, fraction: 0.0%\n",
      "ended_at : 0, fraction: 0.0%\n",
      "start_station_name : 103780, fraction: 14.797408956296456%\n",
      "start_station_id : 103780, fraction: 14.797408956296456%\n",
      "end_station_name : 111185, fraction: 15.85324643289479%\n",
      "end_station_id : 111185, fraction: 15.85324643289479%\n",
      "start_lat : 0, fraction: 0.0%\n",
      "start_lng : 0, fraction: 0.0%\n",
      "end_lat : 712, fraction: 0.1015200922806232%\n",
      "end_lng : 712, fraction: 0.1015200922806232%\n",
      "member_casual : 0, fraction: 0.0%\n",
      "ride_length : 0, fraction: 0.0%\n",
      "day_of_week : 0, fraction: 0.0%\n",
      "\n",
      "\n",
      "Dataframe 10\n",
      "ride_id : 0, fraction: 0.0%\n",
      "rideable_type : 0, fraction: 0.0%\n",
      "started_at : 0, fraction: 0.0%\n",
      "ended_at : 0, fraction: 0.0%\n",
      "start_station_name : 112037, fraction: 14.255304530162915%\n",
      "start_station_id : 112037, fraction: 14.255304530162915%\n",
      "end_station_name : 120522, fraction: 15.334914470972045%\n",
      "end_station_id : 120522, fraction: 15.334914470972045%\n",
      "start_lat : 0, fraction: 0.0%\n",
      "start_lng : 0, fraction: 0.0%\n",
      "end_lat : 843, fraction: 0.10726118799081853%\n",
      "end_lng : 843, fraction: 0.10726118799081853%\n",
      "member_casual : 0, fraction: 0.0%\n",
      "ride_length : 0, fraction: 0.0%\n",
      "day_of_week : 0, fraction: 0.0%\n",
      "\n",
      "\n",
      "Dataframe 11\n",
      "ride_id : 0, fraction: 0.0%\n",
      "rideable_type : 0, fraction: 0.0%\n",
      "started_at : 0, fraction: 0.0%\n",
      "ended_at : 0, fraction: 0.0%\n",
      "start_station_name : 112031, fraction: 13.604448395119299%\n",
      "start_station_id : 112031, fraction: 13.604448395119299%\n",
      "end_station_name : 120951, fraction: 14.687645721613428%\n",
      "end_station_id : 120951, fraction: 14.687645721613428%\n",
      "start_lat : 0, fraction: 0.0%\n",
      "start_lng : 0, fraction: 0.0%\n",
      "end_lat : 947, fraction: 0.114998639931608%\n",
      "end_lng : 947, fraction: 0.114998639931608%\n",
      "member_casual : 0, fraction: 0.0%\n",
      "ride_length : 0, fraction: 0.0%\n",
      "day_of_week : 0, fraction: 0.0%\n",
      "\n",
      "\n"
     ]
    }
   ],
   "source": [
    "# checking the number of missing values in each column for all dataframes\n",
    "i = 0\n",
    "for dataframe in all_dfs:\n",
    "    print(f\"Dataframe {i}\")\n",
    "    for column in dataframe.columns:\n",
    "        print(f\"{column} : {dataframe[column].isnull().sum()}, fraction: {dataframe[column].isnull().sum()/len(dataframe[column])*100}%\")\n",
    "    print(\"\\n\")\n",
    "    i += 1"
   ]
  },
  {
   "cell_type": "code",
   "execution_count": 11,
   "metadata": {},
   "outputs": [],
   "source": [
    "# creating a column for month name\n",
    "for dataframe in all_dfs:\n",
    "    dataframe['month'] = dataframe['started_at'].dt.month_name(locale = 'English')"
   ]
  },
  {
   "cell_type": "code",
   "execution_count": 12,
   "metadata": {},
   "outputs": [
    {
     "data": {
      "text/html": [
       "<div>\n",
       "<style scoped>\n",
       "    .dataframe tbody tr th:only-of-type {\n",
       "        vertical-align: middle;\n",
       "    }\n",
       "\n",
       "    .dataframe tbody tr th {\n",
       "        vertical-align: top;\n",
       "    }\n",
       "\n",
       "    .dataframe thead th {\n",
       "        text-align: right;\n",
       "    }\n",
       "</style>\n",
       "<table border=\"1\" class=\"dataframe\">\n",
       "  <thead>\n",
       "    <tr style=\"text-align: right;\">\n",
       "      <th></th>\n",
       "      <th>ride_id</th>\n",
       "      <th>rideable_type</th>\n",
       "      <th>started_at</th>\n",
       "      <th>ended_at</th>\n",
       "      <th>start_station_name</th>\n",
       "      <th>start_station_id</th>\n",
       "      <th>end_station_name</th>\n",
       "      <th>end_station_id</th>\n",
       "      <th>start_lat</th>\n",
       "      <th>start_lng</th>\n",
       "      <th>end_lat</th>\n",
       "      <th>end_lng</th>\n",
       "      <th>member_casual</th>\n",
       "      <th>ride_length</th>\n",
       "      <th>day_of_week</th>\n",
       "      <th>month</th>\n",
       "    </tr>\n",
       "  </thead>\n",
       "  <tbody>\n",
       "    <tr>\n",
       "      <th>0</th>\n",
       "      <td>0D9FA920C3062031</td>\n",
       "      <td>electric_bike</td>\n",
       "      <td>2023-05-07 19:53:48</td>\n",
       "      <td>2023-05-07 19:58:32</td>\n",
       "      <td>Southport Ave &amp; Belmont Ave</td>\n",
       "      <td>13229</td>\n",
       "      <td>NaN</td>\n",
       "      <td>NaN</td>\n",
       "      <td>41.939408</td>\n",
       "      <td>-87.663831</td>\n",
       "      <td>41.930000</td>\n",
       "      <td>-87.650000</td>\n",
       "      <td>member</td>\n",
       "      <td>284.0</td>\n",
       "      <td>Sunday</td>\n",
       "      <td>May</td>\n",
       "    </tr>\n",
       "    <tr>\n",
       "      <th>1</th>\n",
       "      <td>92485E5FB5888ACD</td>\n",
       "      <td>electric_bike</td>\n",
       "      <td>2023-05-06 18:54:08</td>\n",
       "      <td>2023-05-06 19:03:35</td>\n",
       "      <td>Southport Ave &amp; Belmont Ave</td>\n",
       "      <td>13229</td>\n",
       "      <td>NaN</td>\n",
       "      <td>NaN</td>\n",
       "      <td>41.939482</td>\n",
       "      <td>-87.663848</td>\n",
       "      <td>41.940000</td>\n",
       "      <td>-87.690000</td>\n",
       "      <td>member</td>\n",
       "      <td>567.0</td>\n",
       "      <td>Saturday</td>\n",
       "      <td>May</td>\n",
       "    </tr>\n",
       "    <tr>\n",
       "      <th>2</th>\n",
       "      <td>FB144B3FC8300187</td>\n",
       "      <td>electric_bike</td>\n",
       "      <td>2023-05-21 00:40:21</td>\n",
       "      <td>2023-05-21 00:44:36</td>\n",
       "      <td>Halsted St &amp; 21st St</td>\n",
       "      <td>13162</td>\n",
       "      <td>NaN</td>\n",
       "      <td>NaN</td>\n",
       "      <td>41.853793</td>\n",
       "      <td>-87.646719</td>\n",
       "      <td>41.860000</td>\n",
       "      <td>-87.650000</td>\n",
       "      <td>member</td>\n",
       "      <td>255.0</td>\n",
       "      <td>Sunday</td>\n",
       "      <td>May</td>\n",
       "    </tr>\n",
       "    <tr>\n",
       "      <th>3</th>\n",
       "      <td>DDEB93BC2CE9AA77</td>\n",
       "      <td>classic_bike</td>\n",
       "      <td>2023-05-10 16:47:01</td>\n",
       "      <td>2023-05-10 16:59:52</td>\n",
       "      <td>Carpenter St &amp; Huron St</td>\n",
       "      <td>13196</td>\n",
       "      <td>Damen Ave &amp; Cortland St</td>\n",
       "      <td>13133</td>\n",
       "      <td>41.894556</td>\n",
       "      <td>-87.653449</td>\n",
       "      <td>41.915983</td>\n",
       "      <td>-87.677335</td>\n",
       "      <td>member</td>\n",
       "      <td>771.0</td>\n",
       "      <td>Wednesday</td>\n",
       "      <td>May</td>\n",
       "    </tr>\n",
       "    <tr>\n",
       "      <th>4</th>\n",
       "      <td>C07B70172FC92F59</td>\n",
       "      <td>classic_bike</td>\n",
       "      <td>2023-05-09 18:30:34</td>\n",
       "      <td>2023-05-09 18:39:28</td>\n",
       "      <td>Southport Ave &amp; Clark St</td>\n",
       "      <td>TA1308000047</td>\n",
       "      <td>Southport Ave &amp; Belmont Ave</td>\n",
       "      <td>13229</td>\n",
       "      <td>41.957081</td>\n",
       "      <td>-87.664199</td>\n",
       "      <td>41.939478</td>\n",
       "      <td>-87.663748</td>\n",
       "      <td>member</td>\n",
       "      <td>534.0</td>\n",
       "      <td>Tuesday</td>\n",
       "      <td>May</td>\n",
       "    </tr>\n",
       "  </tbody>\n",
       "</table>\n",
       "</div>"
      ],
      "text/plain": [
       "            ride_id  rideable_type          started_at            ended_at  \\\n",
       "0  0D9FA920C3062031  electric_bike 2023-05-07 19:53:48 2023-05-07 19:58:32   \n",
       "1  92485E5FB5888ACD  electric_bike 2023-05-06 18:54:08 2023-05-06 19:03:35   \n",
       "2  FB144B3FC8300187  electric_bike 2023-05-21 00:40:21 2023-05-21 00:44:36   \n",
       "3  DDEB93BC2CE9AA77   classic_bike 2023-05-10 16:47:01 2023-05-10 16:59:52   \n",
       "4  C07B70172FC92F59   classic_bike 2023-05-09 18:30:34 2023-05-09 18:39:28   \n",
       "\n",
       "            start_station_name start_station_id             end_station_name  \\\n",
       "0  Southport Ave & Belmont Ave            13229                          NaN   \n",
       "1  Southport Ave & Belmont Ave            13229                          NaN   \n",
       "2         Halsted St & 21st St            13162                          NaN   \n",
       "3      Carpenter St & Huron St            13196      Damen Ave & Cortland St   \n",
       "4     Southport Ave & Clark St     TA1308000047  Southport Ave & Belmont Ave   \n",
       "\n",
       "  end_station_id  start_lat  start_lng    end_lat    end_lng member_casual  \\\n",
       "0            NaN  41.939408 -87.663831  41.930000 -87.650000        member   \n",
       "1            NaN  41.939482 -87.663848  41.940000 -87.690000        member   \n",
       "2            NaN  41.853793 -87.646719  41.860000 -87.650000        member   \n",
       "3          13133  41.894556 -87.653449  41.915983 -87.677335        member   \n",
       "4          13229  41.957081 -87.664199  41.939478 -87.663748        member   \n",
       "\n",
       "   ride_length day_of_week month  \n",
       "0        284.0      Sunday   May  \n",
       "1        567.0    Saturday   May  \n",
       "2        255.0      Sunday   May  \n",
       "3        771.0   Wednesday   May  \n",
       "4        534.0     Tuesday   May  "
      ]
     },
     "execution_count": 12,
     "metadata": {},
     "output_type": "execute_result"
    }
   ],
   "source": [
    "# verifying the changes\n",
    "may2023.head()"
   ]
  },
  {
   "cell_type": "code",
   "execution_count": 27,
   "metadata": {},
   "outputs": [
    {
     "name": "stdout",
     "output_type": "stream",
     "text": [
      "Collecting haversine\n",
      "  Using cached haversine-2.8.0-py2.py3-none-any.whl (7.7 kB)\n",
      "Installing collected packages: haversine\n",
      "Successfully installed haversine-2.8.0\n"
     ]
    }
   ],
   "source": [
    "!pip install haversine"
   ]
  },
  {
   "cell_type": "code",
   "execution_count": 28,
   "metadata": {},
   "outputs": [],
   "source": [
    "# computing the distance\n",
    "import math\n",
    "def haversine_distance(row):\n",
    "\n",
    "    # converting latitude and longitude from degrees into radians\n",
    "    start_lan, start_lng, end_lat, end_lng = row['start_lat'], row['start_lng'], row['end_lat'], row['end_lng']\n",
    "\n",
    "    # haversine formula\n",
    "    d_lat = end_lat - start_lan\n",
    "    d_lng = end_lng - start_lng\n",
    "\n",
    "    a = math.sin(d_lat/2)**2 + math.cos(start_lan) * math.cos(end_lat) * math.sin(d_lng/2)**2\n",
    "    c = 2 * math.atan2(math.sqrt(a), math.sqrt(1-a))\n",
    "\n",
    "    # Radius of earth in kilometers is 6371\n",
    "    r = 6371\n",
    "    distance = r * c\n",
    "    return distance\n",
    "\n",
    "\n",
    "# formula seems incorrect \n",
    "\n",
    "# Using the haversine module provided by pypi.org to compute the distance\n",
    "from haversine import haversine \n",
    "\n",
    "for dataframe in all_dfs:\n",
    "    dataframe['ride_distance_km'] = dataframe.apply(lambda x: haversine((x['start_lat'], x['start_lng']), (x['end_lat'], x['end_lng'])), axis=1)"
   ]
  },
  {
   "cell_type": "code",
   "execution_count": 29,
   "metadata": {},
   "outputs": [
    {
     "data": {
      "text/html": [
       "<div>\n",
       "<style scoped>\n",
       "    .dataframe tbody tr th:only-of-type {\n",
       "        vertical-align: middle;\n",
       "    }\n",
       "\n",
       "    .dataframe tbody tr th {\n",
       "        vertical-align: top;\n",
       "    }\n",
       "\n",
       "    .dataframe thead th {\n",
       "        text-align: right;\n",
       "    }\n",
       "</style>\n",
       "<table border=\"1\" class=\"dataframe\">\n",
       "  <thead>\n",
       "    <tr style=\"text-align: right;\">\n",
       "      <th></th>\n",
       "      <th>ride_id</th>\n",
       "      <th>rideable_type</th>\n",
       "      <th>started_at</th>\n",
       "      <th>ended_at</th>\n",
       "      <th>start_station_name</th>\n",
       "      <th>start_station_id</th>\n",
       "      <th>end_station_name</th>\n",
       "      <th>end_station_id</th>\n",
       "      <th>start_lat</th>\n",
       "      <th>start_lng</th>\n",
       "      <th>end_lat</th>\n",
       "      <th>end_lng</th>\n",
       "      <th>member_casual</th>\n",
       "      <th>ride_length_seconds</th>\n",
       "      <th>day_of_week</th>\n",
       "      <th>month</th>\n",
       "      <th>ride_distance_km</th>\n",
       "    </tr>\n",
       "  </thead>\n",
       "  <tbody>\n",
       "    <tr>\n",
       "      <th>0</th>\n",
       "      <td>8FE8F7D9C10E88C7</td>\n",
       "      <td>electric_bike</td>\n",
       "      <td>2023-04-02 08:37:28</td>\n",
       "      <td>2023-04-02 08:41:37</td>\n",
       "      <td>NaN</td>\n",
       "      <td>NaN</td>\n",
       "      <td>NaN</td>\n",
       "      <td>NaN</td>\n",
       "      <td>41.80</td>\n",
       "      <td>-87.60</td>\n",
       "      <td>41.79</td>\n",
       "      <td>-87.60</td>\n",
       "      <td>member</td>\n",
       "      <td>249.0</td>\n",
       "      <td>Sunday</td>\n",
       "      <td>April</td>\n",
       "      <td>1.111951</td>\n",
       "    </tr>\n",
       "    <tr>\n",
       "      <th>1</th>\n",
       "      <td>34E4ED3ADF1D821B</td>\n",
       "      <td>electric_bike</td>\n",
       "      <td>2023-04-19 11:29:02</td>\n",
       "      <td>2023-04-19 11:52:12</td>\n",
       "      <td>NaN</td>\n",
       "      <td>NaN</td>\n",
       "      <td>NaN</td>\n",
       "      <td>NaN</td>\n",
       "      <td>41.87</td>\n",
       "      <td>-87.65</td>\n",
       "      <td>41.93</td>\n",
       "      <td>-87.68</td>\n",
       "      <td>member</td>\n",
       "      <td>1390.0</td>\n",
       "      <td>Wednesday</td>\n",
       "      <td>April</td>\n",
       "      <td>7.118743</td>\n",
       "    </tr>\n",
       "    <tr>\n",
       "      <th>2</th>\n",
       "      <td>5296BF07A2F77CB5</td>\n",
       "      <td>electric_bike</td>\n",
       "      <td>2023-04-19 08:41:22</td>\n",
       "      <td>2023-04-19 08:43:22</td>\n",
       "      <td>NaN</td>\n",
       "      <td>NaN</td>\n",
       "      <td>NaN</td>\n",
       "      <td>NaN</td>\n",
       "      <td>41.93</td>\n",
       "      <td>-87.66</td>\n",
       "      <td>41.93</td>\n",
       "      <td>-87.66</td>\n",
       "      <td>member</td>\n",
       "      <td>120.0</td>\n",
       "      <td>Wednesday</td>\n",
       "      <td>April</td>\n",
       "      <td>0.000000</td>\n",
       "    </tr>\n",
       "    <tr>\n",
       "      <th>3</th>\n",
       "      <td>40759916B76D5D52</td>\n",
       "      <td>electric_bike</td>\n",
       "      <td>2023-04-19 13:31:30</td>\n",
       "      <td>2023-04-19 13:35:09</td>\n",
       "      <td>NaN</td>\n",
       "      <td>NaN</td>\n",
       "      <td>NaN</td>\n",
       "      <td>NaN</td>\n",
       "      <td>41.92</td>\n",
       "      <td>-87.65</td>\n",
       "      <td>41.91</td>\n",
       "      <td>-87.65</td>\n",
       "      <td>member</td>\n",
       "      <td>219.0</td>\n",
       "      <td>Wednesday</td>\n",
       "      <td>April</td>\n",
       "      <td>1.111951</td>\n",
       "    </tr>\n",
       "    <tr>\n",
       "      <th>4</th>\n",
       "      <td>77A96F460101AC63</td>\n",
       "      <td>electric_bike</td>\n",
       "      <td>2023-04-19 12:05:36</td>\n",
       "      <td>2023-04-19 12:10:26</td>\n",
       "      <td>NaN</td>\n",
       "      <td>NaN</td>\n",
       "      <td>NaN</td>\n",
       "      <td>NaN</td>\n",
       "      <td>41.91</td>\n",
       "      <td>-87.65</td>\n",
       "      <td>41.91</td>\n",
       "      <td>-87.63</td>\n",
       "      <td>member</td>\n",
       "      <td>290.0</td>\n",
       "      <td>Wednesday</td>\n",
       "      <td>April</td>\n",
       "      <td>1.655016</td>\n",
       "    </tr>\n",
       "  </tbody>\n",
       "</table>\n",
       "</div>"
      ],
      "text/plain": [
       "            ride_id  rideable_type          started_at            ended_at  \\\n",
       "0  8FE8F7D9C10E88C7  electric_bike 2023-04-02 08:37:28 2023-04-02 08:41:37   \n",
       "1  34E4ED3ADF1D821B  electric_bike 2023-04-19 11:29:02 2023-04-19 11:52:12   \n",
       "2  5296BF07A2F77CB5  electric_bike 2023-04-19 08:41:22 2023-04-19 08:43:22   \n",
       "3  40759916B76D5D52  electric_bike 2023-04-19 13:31:30 2023-04-19 13:35:09   \n",
       "4  77A96F460101AC63  electric_bike 2023-04-19 12:05:36 2023-04-19 12:10:26   \n",
       "\n",
       "  start_station_name start_station_id end_station_name end_station_id  \\\n",
       "0                NaN              NaN              NaN            NaN   \n",
       "1                NaN              NaN              NaN            NaN   \n",
       "2                NaN              NaN              NaN            NaN   \n",
       "3                NaN              NaN              NaN            NaN   \n",
       "4                NaN              NaN              NaN            NaN   \n",
       "\n",
       "   start_lat  start_lng  end_lat  end_lng member_casual  ride_length_seconds  \\\n",
       "0      41.80     -87.60    41.79   -87.60        member                249.0   \n",
       "1      41.87     -87.65    41.93   -87.68        member               1390.0   \n",
       "2      41.93     -87.66    41.93   -87.66        member                120.0   \n",
       "3      41.92     -87.65    41.91   -87.65        member                219.0   \n",
       "4      41.91     -87.65    41.91   -87.63        member                290.0   \n",
       "\n",
       "  day_of_week  month  ride_distance_km  \n",
       "0      Sunday  April          1.111951  \n",
       "1   Wednesday  April          7.118743  \n",
       "2   Wednesday  April          0.000000  \n",
       "3   Wednesday  April          1.111951  \n",
       "4   Wednesday  April          1.655016  "
      ]
     },
     "execution_count": 29,
     "metadata": {},
     "output_type": "execute_result"
    }
   ],
   "source": [
    "# verifying changes\n",
    "april2023.head()"
   ]
  },
  {
   "cell_type": "code",
   "execution_count": 30,
   "metadata": {},
   "outputs": [],
   "source": [
    "# renaming the columns of all the dataframes\n",
    "for dataframe in all_dfs:\n",
    "    dataframe.rename(columns={'ride_length': 'ride_length_seconds', 'ride_distance': 'ride_distance_km'}, inplace=True)"
   ]
  },
  {
   "cell_type": "code",
   "execution_count": 31,
   "metadata": {},
   "outputs": [
    {
     "data": {
      "text/html": [
       "<div>\n",
       "<style scoped>\n",
       "    .dataframe tbody tr th:only-of-type {\n",
       "        vertical-align: middle;\n",
       "    }\n",
       "\n",
       "    .dataframe tbody tr th {\n",
       "        vertical-align: top;\n",
       "    }\n",
       "\n",
       "    .dataframe thead th {\n",
       "        text-align: right;\n",
       "    }\n",
       "</style>\n",
       "<table border=\"1\" class=\"dataframe\">\n",
       "  <thead>\n",
       "    <tr style=\"text-align: right;\">\n",
       "      <th></th>\n",
       "      <th>ride_id</th>\n",
       "      <th>rideable_type</th>\n",
       "      <th>started_at</th>\n",
       "      <th>ended_at</th>\n",
       "      <th>start_station_name</th>\n",
       "      <th>start_station_id</th>\n",
       "      <th>end_station_name</th>\n",
       "      <th>end_station_id</th>\n",
       "      <th>start_lat</th>\n",
       "      <th>start_lng</th>\n",
       "      <th>end_lat</th>\n",
       "      <th>end_lng</th>\n",
       "      <th>member_casual</th>\n",
       "      <th>ride_length_seconds</th>\n",
       "      <th>day_of_week</th>\n",
       "      <th>month</th>\n",
       "      <th>ride_distance_km</th>\n",
       "    </tr>\n",
       "  </thead>\n",
       "  <tbody>\n",
       "    <tr>\n",
       "      <th>0</th>\n",
       "      <td>550CF7EFEAE0C618</td>\n",
       "      <td>electric_bike</td>\n",
       "      <td>2022-08-07 21:34:15</td>\n",
       "      <td>2022-08-07 21:41:46</td>\n",
       "      <td>NaN</td>\n",
       "      <td>NaN</td>\n",
       "      <td>NaN</td>\n",
       "      <td>NaN</td>\n",
       "      <td>41.93</td>\n",
       "      <td>-87.69</td>\n",
       "      <td>41.94</td>\n",
       "      <td>-87.72</td>\n",
       "      <td>casual</td>\n",
       "      <td>451.0</td>\n",
       "      <td>Sunday</td>\n",
       "      <td>August</td>\n",
       "      <td>2.719290</td>\n",
       "    </tr>\n",
       "    <tr>\n",
       "      <th>1</th>\n",
       "      <td>DAD198F405F9C5F5</td>\n",
       "      <td>electric_bike</td>\n",
       "      <td>2022-08-08 14:39:21</td>\n",
       "      <td>2022-08-08 14:53:23</td>\n",
       "      <td>NaN</td>\n",
       "      <td>NaN</td>\n",
       "      <td>NaN</td>\n",
       "      <td>NaN</td>\n",
       "      <td>41.89</td>\n",
       "      <td>-87.64</td>\n",
       "      <td>41.92</td>\n",
       "      <td>-87.64</td>\n",
       "      <td>casual</td>\n",
       "      <td>842.0</td>\n",
       "      <td>Monday</td>\n",
       "      <td>August</td>\n",
       "      <td>3.335852</td>\n",
       "    </tr>\n",
       "    <tr>\n",
       "      <th>2</th>\n",
       "      <td>E6F2BC47B65CB7FD</td>\n",
       "      <td>electric_bike</td>\n",
       "      <td>2022-08-08 15:29:50</td>\n",
       "      <td>2022-08-08 15:40:34</td>\n",
       "      <td>NaN</td>\n",
       "      <td>NaN</td>\n",
       "      <td>NaN</td>\n",
       "      <td>NaN</td>\n",
       "      <td>41.97</td>\n",
       "      <td>-87.69</td>\n",
       "      <td>41.97</td>\n",
       "      <td>-87.66</td>\n",
       "      <td>casual</td>\n",
       "      <td>644.0</td>\n",
       "      <td>Monday</td>\n",
       "      <td>August</td>\n",
       "      <td>2.480190</td>\n",
       "    </tr>\n",
       "    <tr>\n",
       "      <th>3</th>\n",
       "      <td>F597830181C2E13C</td>\n",
       "      <td>electric_bike</td>\n",
       "      <td>2022-08-08 02:43:50</td>\n",
       "      <td>2022-08-08 02:58:53</td>\n",
       "      <td>NaN</td>\n",
       "      <td>NaN</td>\n",
       "      <td>NaN</td>\n",
       "      <td>NaN</td>\n",
       "      <td>41.94</td>\n",
       "      <td>-87.65</td>\n",
       "      <td>41.97</td>\n",
       "      <td>-87.69</td>\n",
       "      <td>casual</td>\n",
       "      <td>903.0</td>\n",
       "      <td>Monday</td>\n",
       "      <td>August</td>\n",
       "      <td>4.697742</td>\n",
       "    </tr>\n",
       "    <tr>\n",
       "      <th>4</th>\n",
       "      <td>0CE689BB4E313E8D</td>\n",
       "      <td>electric_bike</td>\n",
       "      <td>2022-08-07 20:24:06</td>\n",
       "      <td>2022-08-07 20:29:58</td>\n",
       "      <td>NaN</td>\n",
       "      <td>NaN</td>\n",
       "      <td>NaN</td>\n",
       "      <td>NaN</td>\n",
       "      <td>41.85</td>\n",
       "      <td>-87.65</td>\n",
       "      <td>41.84</td>\n",
       "      <td>-87.66</td>\n",
       "      <td>casual</td>\n",
       "      <td>352.0</td>\n",
       "      <td>Sunday</td>\n",
       "      <td>August</td>\n",
       "      <td>1.386578</td>\n",
       "    </tr>\n",
       "  </tbody>\n",
       "</table>\n",
       "</div>"
      ],
      "text/plain": [
       "            ride_id  rideable_type          started_at            ended_at  \\\n",
       "0  550CF7EFEAE0C618  electric_bike 2022-08-07 21:34:15 2022-08-07 21:41:46   \n",
       "1  DAD198F405F9C5F5  electric_bike 2022-08-08 14:39:21 2022-08-08 14:53:23   \n",
       "2  E6F2BC47B65CB7FD  electric_bike 2022-08-08 15:29:50 2022-08-08 15:40:34   \n",
       "3  F597830181C2E13C  electric_bike 2022-08-08 02:43:50 2022-08-08 02:58:53   \n",
       "4  0CE689BB4E313E8D  electric_bike 2022-08-07 20:24:06 2022-08-07 20:29:58   \n",
       "\n",
       "  start_station_name start_station_id end_station_name end_station_id  \\\n",
       "0                NaN              NaN              NaN            NaN   \n",
       "1                NaN              NaN              NaN            NaN   \n",
       "2                NaN              NaN              NaN            NaN   \n",
       "3                NaN              NaN              NaN            NaN   \n",
       "4                NaN              NaN              NaN            NaN   \n",
       "\n",
       "   start_lat  start_lng  end_lat  end_lng member_casual  ride_length_seconds  \\\n",
       "0      41.93     -87.69    41.94   -87.72        casual                451.0   \n",
       "1      41.89     -87.64    41.92   -87.64        casual                842.0   \n",
       "2      41.97     -87.69    41.97   -87.66        casual                644.0   \n",
       "3      41.94     -87.65    41.97   -87.69        casual                903.0   \n",
       "4      41.85     -87.65    41.84   -87.66        casual                352.0   \n",
       "\n",
       "  day_of_week   month  ride_distance_km  \n",
       "0      Sunday  August          2.719290  \n",
       "1      Monday  August          3.335852  \n",
       "2      Monday  August          2.480190  \n",
       "3      Monday  August          4.697742  \n",
       "4      Sunday  August          1.386578  "
      ]
     },
     "execution_count": 31,
     "metadata": {},
     "output_type": "execute_result"
    }
   ],
   "source": [
    "# verifying changes\n",
    "august2022.head()"
   ]
  },
  {
   "cell_type": "code",
   "execution_count": 31,
   "metadata": {},
   "outputs": [
    {
     "name": "stdout",
     "output_type": "stream",
     "text": [
      "Collecting folium\n",
      "  Downloading folium-0.14.0-py2.py3-none-any.whl (102 kB)\n",
      "                                              0.0/102.3 kB ? eta -:--:--\n",
      "     -------------------------------------- 102.3/102.3 kB 3.0 MB/s eta 0:00:00\n",
      "Collecting branca>=0.6.0 (from folium)\n",
      "  Downloading branca-0.6.0-py3-none-any.whl (24 kB)\n",
      "Requirement already satisfied: jinja2>=2.9 in c:\\users\\alli ajagbe\\anaconda3\\lib\\site-packages (from folium) (3.1.2)\n",
      "Requirement already satisfied: numpy in c:\\users\\alli ajagbe\\anaconda3\\lib\\site-packages (from folium) (1.22.4)\n",
      "Requirement already satisfied: requests in c:\\users\\alli ajagbe\\anaconda3\\lib\\site-packages (from folium) (2.29.0)\n",
      "Requirement already satisfied: MarkupSafe>=2.0 in c:\\users\\alli ajagbe\\anaconda3\\lib\\site-packages (from jinja2>=2.9->folium) (2.1.1)\n",
      "Requirement already satisfied: charset-normalizer<4,>=2 in c:\\users\\alli ajagbe\\anaconda3\\lib\\site-packages (from requests->folium) (2.0.4)\n",
      "Requirement already satisfied: idna<4,>=2.5 in c:\\users\\alli ajagbe\\anaconda3\\lib\\site-packages (from requests->folium) (3.4)\n",
      "Requirement already satisfied: urllib3<1.27,>=1.21.1 in c:\\users\\alli ajagbe\\anaconda3\\lib\\site-packages (from requests->folium) (1.26.16)\n",
      "Requirement already satisfied: certifi>=2017.4.17 in c:\\users\\alli ajagbe\\anaconda3\\lib\\site-packages (from requests->folium) (2023.7.22)\n",
      "Installing collected packages: branca, folium\n",
      "Successfully installed branca-0.6.0 folium-0.14.0\n"
     ]
    }
   ],
   "source": [
    "!pip install folium"
   ]
  },
  {
   "cell_type": "markdown",
   "metadata": {},
   "source": [
    "### Visualization the longitudes and latitudes of the stations"
   ]
  },
  {
   "cell_type": "markdown",
   "metadata": {},
   "source": [
    "This is to verify that no starting or ending stations are in the ocean or in the middle of nowhere."
   ]
  },
  {
   "cell_type": "code",
   "execution_count": 17,
   "metadata": {},
   "outputs": [],
   "source": [
    "import matplotlib.pyplot as plt\n",
    "import cartopy.crs as ccrs\n",
    "import cartopy.feature as cfeature"
   ]
  },
  {
   "cell_type": "code",
   "execution_count": 32,
   "metadata": {},
   "outputs": [
    {
     "data": {
      "image/png": "[encoded data removed]",
      "text/plain": [
       "<Figure size 1200x800 with 1 Axes>"
      ]
     },
     "metadata": {},
     "output_type": "display_data"
    }
   ],
   "source": [
    "fig = plt.figure(figsize=(12, 8))\n",
    "ax = plt.axes(projection=ccrs.PlateCarree())\n",
    "\n",
    "ax.coastlines()\n",
    "# adding land\n",
    "ax.add_feature(cfeature.LAND)\n",
    "# adding ocean\n",
    "ax.add_feature(cfeature.OCEAN)\n",
    "\n",
    "ax.scatter(may2023['start_lng'], may2023['start_lat'], marker = '.', label=\"Start Points\", color='red', transform=ccrs.PlateCarree())\n",
    "ax.scatter(may2023['end_lng'], may2023['end_lat'], marker = '.', label=\"End Points\", color='blue', transform=ccrs.PlateCarree())\n",
    "\n",
    "plt.legend()\n",
    "plt.title('Start and End Points of Trips in May 2023')\n",
    "plt.show()"
   ]
  },
  {
   "cell_type": "code",
   "execution_count": 33,
   "metadata": {},
   "outputs": [],
   "source": [
    "# merging all the dataframes into one\n",
    "yearly_data = pd.concat([june2023, may2023, april2023, march2023, february2023, january2023, december2022, november2022, october2022, september2022, august2022, july2022], ignore_index=True)"
   ]
  },
  {
   "cell_type": "code",
   "execution_count": 34,
   "metadata": {},
   "outputs": [
    {
     "data": {
      "text/html": [
       "<div>\n",
       "<style scoped>\n",
       "    .dataframe tbody tr th:only-of-type {\n",
       "        vertical-align: middle;\n",
       "    }\n",
       "\n",
       "    .dataframe tbody tr th {\n",
       "        vertical-align: top;\n",
       "    }\n",
       "\n",
       "    .dataframe thead th {\n",
       "        text-align: right;\n",
       "    }\n",
       "</style>\n",
       "<table border=\"1\" class=\"dataframe\">\n",
       "  <thead>\n",
       "    <tr style=\"text-align: right;\">\n",
       "      <th></th>\n",
       "      <th>ride_id</th>\n",
       "      <th>rideable_type</th>\n",
       "      <th>started_at</th>\n",
       "      <th>ended_at</th>\n",
       "      <th>start_station_name</th>\n",
       "      <th>start_station_id</th>\n",
       "      <th>end_station_name</th>\n",
       "      <th>end_station_id</th>\n",
       "      <th>start_lat</th>\n",
       "      <th>start_lng</th>\n",
       "      <th>end_lat</th>\n",
       "      <th>end_lng</th>\n",
       "      <th>member_casual</th>\n",
       "      <th>ride_length_seconds</th>\n",
       "      <th>day_of_week</th>\n",
       "      <th>month</th>\n",
       "      <th>ride_distance_km</th>\n",
       "    </tr>\n",
       "  </thead>\n",
       "  <tbody>\n",
       "    <tr>\n",
       "      <th>479024</th>\n",
       "      <td>873D50153BBC0686</td>\n",
       "      <td>electric_bike</td>\n",
       "      <td>2023-06-15 12:38:05</td>\n",
       "      <td>2023-06-15 12:38:41</td>\n",
       "      <td>OH Charging Stx - Test</td>\n",
       "      <td>OH Charging Stx - Test</td>\n",
       "      <td>OH Charging Stx - Test</td>\n",
       "      <td>OH Charging Stx - Test</td>\n",
       "      <td>41.863166</td>\n",
       "      <td>-87.679811</td>\n",
       "      <td>0.00</td>\n",
       "      <td>0.00</td>\n",
       "      <td>member</td>\n",
       "      <td>36.0</td>\n",
       "      <td>Thursday</td>\n",
       "      <td>June</td>\n",
       "      <td>9815.442314</td>\n",
       "    </tr>\n",
       "    <tr>\n",
       "      <th>488335</th>\n",
       "      <td>ADFF57D27B5BF9D2</td>\n",
       "      <td>classic_bike</td>\n",
       "      <td>2023-06-15 09:38:07</td>\n",
       "      <td>2023-06-15 09:42:57</td>\n",
       "      <td>State St &amp; 54th St</td>\n",
       "      <td>646</td>\n",
       "      <td>OH Charging Stx - Test</td>\n",
       "      <td>OH Charging Stx - Test</td>\n",
       "      <td>41.796642</td>\n",
       "      <td>-87.625923</td>\n",
       "      <td>0.00</td>\n",
       "      <td>0.00</td>\n",
       "      <td>casual</td>\n",
       "      <td>290.0</td>\n",
       "      <td>Thursday</td>\n",
       "      <td>June</td>\n",
       "      <td>9810.776943</td>\n",
       "    </tr>\n",
       "    <tr>\n",
       "      <th>628151</th>\n",
       "      <td>500867C891161912</td>\n",
       "      <td>electric_bike</td>\n",
       "      <td>2023-06-15 01:33:07</td>\n",
       "      <td>2023-06-15 03:12:36</td>\n",
       "      <td>State St &amp; Van Buren St</td>\n",
       "      <td>TA1305000035</td>\n",
       "      <td>NaN</td>\n",
       "      <td>NaN</td>\n",
       "      <td>41.877269</td>\n",
       "      <td>-87.627921</td>\n",
       "      <td>42.07</td>\n",
       "      <td>-88.16</td>\n",
       "      <td>casual</td>\n",
       "      <td>5969.0</td>\n",
       "      <td>Thursday</td>\n",
       "      <td>June</td>\n",
       "      <td>48.928866</td>\n",
       "    </tr>\n",
       "    <tr>\n",
       "      <th>2573302</th>\n",
       "      <td>3B47B333C0D186F0</td>\n",
       "      <td>classic_bike</td>\n",
       "      <td>2022-11-09 13:39:03</td>\n",
       "      <td>2022-11-09 13:44:38</td>\n",
       "      <td>Franklin St &amp; Adams St (Temp)</td>\n",
       "      <td>TA1309000008</td>\n",
       "      <td>Green St &amp; Madison Ave*</td>\n",
       "      <td>chargingstx07</td>\n",
       "      <td>41.879434</td>\n",
       "      <td>-87.635504</td>\n",
       "      <td>0.00</td>\n",
       "      <td>0.00</td>\n",
       "      <td>member</td>\n",
       "      <td>335.0</td>\n",
       "      <td>Wednesday</td>\n",
       "      <td>November</td>\n",
       "      <td>9811.824347</td>\n",
       "    </tr>\n",
       "    <tr>\n",
       "      <th>2592922</th>\n",
       "      <td>42AF82C53D831251</td>\n",
       "      <td>electric_bike</td>\n",
       "      <td>2022-11-09 16:17:40</td>\n",
       "      <td>2022-11-09 16:38:06</td>\n",
       "      <td>Laflin St &amp; Cullerton St</td>\n",
       "      <td>13307</td>\n",
       "      <td>Green St &amp; Madison Ave*</td>\n",
       "      <td>chargingstx07</td>\n",
       "      <td>41.854916</td>\n",
       "      <td>-87.663692</td>\n",
       "      <td>0.00</td>\n",
       "      <td>0.00</td>\n",
       "      <td>casual</td>\n",
       "      <td>1226.0</td>\n",
       "      <td>Wednesday</td>\n",
       "      <td>November</td>\n",
       "      <td>9814.082961</td>\n",
       "    </tr>\n",
       "    <tr>\n",
       "      <th>2597755</th>\n",
       "      <td>BB8AA29838266294</td>\n",
       "      <td>classic_bike</td>\n",
       "      <td>2022-11-09 11:32:53</td>\n",
       "      <td>2022-11-09 11:37:30</td>\n",
       "      <td>Canal St &amp; Adams St</td>\n",
       "      <td>13011</td>\n",
       "      <td>Green St &amp; Madison Ave*</td>\n",
       "      <td>chargingstx07</td>\n",
       "      <td>41.879255</td>\n",
       "      <td>-87.639904</td>\n",
       "      <td>0.00</td>\n",
       "      <td>0.00</td>\n",
       "      <td>member</td>\n",
       "      <td>277.0</td>\n",
       "      <td>Wednesday</td>\n",
       "      <td>November</td>\n",
       "      <td>9812.187939</td>\n",
       "    </tr>\n",
       "    <tr>\n",
       "      <th>2815067</th>\n",
       "      <td>6AFE1471227BD76F</td>\n",
       "      <td>classic_bike</td>\n",
       "      <td>2022-11-09 16:17:16</td>\n",
       "      <td>2022-11-09 16:26:17</td>\n",
       "      <td>Morgan St &amp; Polk St</td>\n",
       "      <td>TA1307000130</td>\n",
       "      <td>Green St &amp; Madison Ave*</td>\n",
       "      <td>chargingstx07</td>\n",
       "      <td>41.871737</td>\n",
       "      <td>-87.651030</td>\n",
       "      <td>0.00</td>\n",
       "      <td>0.00</td>\n",
       "      <td>casual</td>\n",
       "      <td>541.0</td>\n",
       "      <td>Wednesday</td>\n",
       "      <td>November</td>\n",
       "      <td>9813.085840</td>\n",
       "    </tr>\n",
       "    <tr>\n",
       "      <th>2816142</th>\n",
       "      <td>E9495F1DC3475D41</td>\n",
       "      <td>classic_bike</td>\n",
       "      <td>2022-11-09 12:21:55</td>\n",
       "      <td>2022-11-09 12:26:18</td>\n",
       "      <td>Aberdeen St &amp; Randolph St</td>\n",
       "      <td>18062</td>\n",
       "      <td>Green St &amp; Madison Ave*</td>\n",
       "      <td>chargingstx07</td>\n",
       "      <td>41.884114</td>\n",
       "      <td>-87.654264</td>\n",
       "      <td>0.00</td>\n",
       "      <td>0.00</td>\n",
       "      <td>member</td>\n",
       "      <td>263.0</td>\n",
       "      <td>Wednesday</td>\n",
       "      <td>November</td>\n",
       "      <td>9813.391136</td>\n",
       "    </tr>\n",
       "    <tr>\n",
       "      <th>2816401</th>\n",
       "      <td>75DE33501313D0CE</td>\n",
       "      <td>classic_bike</td>\n",
       "      <td>2022-11-09 15:52:08</td>\n",
       "      <td>2022-11-09 15:52:23</td>\n",
       "      <td>Green St &amp; Madison St</td>\n",
       "      <td>TA1307000120</td>\n",
       "      <td>Green St &amp; Madison Ave*</td>\n",
       "      <td>chargingstx07</td>\n",
       "      <td>41.881892</td>\n",
       "      <td>-87.648789</td>\n",
       "      <td>0.00</td>\n",
       "      <td>0.00</td>\n",
       "      <td>member</td>\n",
       "      <td>15.0</td>\n",
       "      <td>Wednesday</td>\n",
       "      <td>November</td>\n",
       "      <td>9812.931291</td>\n",
       "    </tr>\n",
       "    <tr>\n",
       "      <th>2816583</th>\n",
       "      <td>0A6988FE859F4D54</td>\n",
       "      <td>classic_bike</td>\n",
       "      <td>2022-11-09 10:58:37</td>\n",
       "      <td>2022-11-09 11:06:21</td>\n",
       "      <td>LaSalle St &amp; Jackson Blvd</td>\n",
       "      <td>TA1309000004</td>\n",
       "      <td>Green St &amp; Madison Ave*</td>\n",
       "      <td>chargingstx07</td>\n",
       "      <td>41.878166</td>\n",
       "      <td>-87.631929</td>\n",
       "      <td>0.00</td>\n",
       "      <td>0.00</td>\n",
       "      <td>member</td>\n",
       "      <td>464.0</td>\n",
       "      <td>Wednesday</td>\n",
       "      <td>November</td>\n",
       "      <td>9811.524592</td>\n",
       "    </tr>\n",
       "    <tr>\n",
       "      <th>2816654</th>\n",
       "      <td>7F49424E860E7094</td>\n",
       "      <td>classic_bike</td>\n",
       "      <td>2022-11-09 13:27:04</td>\n",
       "      <td>2022-11-09 13:28:28</td>\n",
       "      <td>Green St &amp; Washington Blvd</td>\n",
       "      <td>13053</td>\n",
       "      <td>Green St &amp; Madison Ave*</td>\n",
       "      <td>chargingstx07</td>\n",
       "      <td>41.883181</td>\n",
       "      <td>-87.648725</td>\n",
       "      <td>0.00</td>\n",
       "      <td>0.00</td>\n",
       "      <td>member</td>\n",
       "      <td>84.0</td>\n",
       "      <td>Wednesday</td>\n",
       "      <td>November</td>\n",
       "      <td>9812.929891</td>\n",
       "    </tr>\n",
       "  </tbody>\n",
       "</table>\n",
       "</div>"
      ],
      "text/plain": [
       "                  ride_id  rideable_type          started_at  \\\n",
       "479024   873D50153BBC0686  electric_bike 2023-06-15 12:38:05   \n",
       "488335   ADFF57D27B5BF9D2   classic_bike 2023-06-15 09:38:07   \n",
       "628151   500867C891161912  electric_bike 2023-06-15 01:33:07   \n",
       "2573302  3B47B333C0D186F0   classic_bike 2022-11-09 13:39:03   \n",
       "2592922  42AF82C53D831251  electric_bike 2022-11-09 16:17:40   \n",
       "2597755  BB8AA29838266294   classic_bike 2022-11-09 11:32:53   \n",
       "2815067  6AFE1471227BD76F   classic_bike 2022-11-09 16:17:16   \n",
       "2816142  E9495F1DC3475D41   classic_bike 2022-11-09 12:21:55   \n",
       "2816401  75DE33501313D0CE   classic_bike 2022-11-09 15:52:08   \n",
       "2816583  0A6988FE859F4D54   classic_bike 2022-11-09 10:58:37   \n",
       "2816654  7F49424E860E7094   classic_bike 2022-11-09 13:27:04   \n",
       "\n",
       "                   ended_at             start_station_name  \\\n",
       "479024  2023-06-15 12:38:41         OH Charging Stx - Test   \n",
       "488335  2023-06-15 09:42:57             State St & 54th St   \n",
       "628151  2023-06-15 03:12:36        State St & Van Buren St   \n",
       "2573302 2022-11-09 13:44:38  Franklin St & Adams St (Temp)   \n",
       "2592922 2022-11-09 16:38:06       Laflin St & Cullerton St   \n",
       "2597755 2022-11-09 11:37:30            Canal St & Adams St   \n",
       "2815067 2022-11-09 16:26:17            Morgan St & Polk St   \n",
       "2816142 2022-11-09 12:26:18      Aberdeen St & Randolph St   \n",
       "2816401 2022-11-09 15:52:23          Green St & Madison St   \n",
       "2816583 2022-11-09 11:06:21      LaSalle St & Jackson Blvd   \n",
       "2816654 2022-11-09 13:28:28     Green St & Washington Blvd   \n",
       "\n",
       "               start_station_id         end_station_name  \\\n",
       "479024   OH Charging Stx - Test   OH Charging Stx - Test   \n",
       "488335                      646   OH Charging Stx - Test   \n",
       "628151             TA1305000035                      NaN   \n",
       "2573302            TA1309000008  Green St & Madison Ave*   \n",
       "2592922                   13307  Green St & Madison Ave*   \n",
       "2597755                   13011  Green St & Madison Ave*   \n",
       "2815067            TA1307000130  Green St & Madison Ave*   \n",
       "2816142                   18062  Green St & Madison Ave*   \n",
       "2816401            TA1307000120  Green St & Madison Ave*   \n",
       "2816583            TA1309000004  Green St & Madison Ave*   \n",
       "2816654                   13053  Green St & Madison Ave*   \n",
       "\n",
       "                 end_station_id  start_lat  start_lng  end_lat  end_lng  \\\n",
       "479024   OH Charging Stx - Test  41.863166 -87.679811     0.00     0.00   \n",
       "488335   OH Charging Stx - Test  41.796642 -87.625923     0.00     0.00   \n",
       "628151                      NaN  41.877269 -87.627921    42.07   -88.16   \n",
       "2573302           chargingstx07  41.879434 -87.635504     0.00     0.00   \n",
       "2592922           chargingstx07  41.854916 -87.663692     0.00     0.00   \n",
       "2597755           chargingstx07  41.879255 -87.639904     0.00     0.00   \n",
       "2815067           chargingstx07  41.871737 -87.651030     0.00     0.00   \n",
       "2816142           chargingstx07  41.884114 -87.654264     0.00     0.00   \n",
       "2816401           chargingstx07  41.881892 -87.648789     0.00     0.00   \n",
       "2816583           chargingstx07  41.878166 -87.631929     0.00     0.00   \n",
       "2816654           chargingstx07  41.883181 -87.648725     0.00     0.00   \n",
       "\n",
       "        member_casual  ride_length_seconds day_of_week     month  \\\n",
       "479024         member                 36.0    Thursday      June   \n",
       "488335         casual                290.0    Thursday      June   \n",
       "628151         casual               5969.0    Thursday      June   \n",
       "2573302        member                335.0   Wednesday  November   \n",
       "2592922        casual               1226.0   Wednesday  November   \n",
       "2597755        member                277.0   Wednesday  November   \n",
       "2815067        casual                541.0   Wednesday  November   \n",
       "2816142        member                263.0   Wednesday  November   \n",
       "2816401        member                 15.0   Wednesday  November   \n",
       "2816583        member                464.0   Wednesday  November   \n",
       "2816654        member                 84.0   Wednesday  November   \n",
       "\n",
       "         ride_distance_km  \n",
       "479024        9815.442314  \n",
       "488335        9810.776943  \n",
       "628151          48.928866  \n",
       "2573302       9811.824347  \n",
       "2592922       9814.082961  \n",
       "2597755       9812.187939  \n",
       "2815067       9813.085840  \n",
       "2816142       9813.391136  \n",
       "2816401       9812.931291  \n",
       "2816583       9811.524592  \n",
       "2816654       9812.929891  "
      ]
     },
     "execution_count": 34,
     "metadata": {},
     "output_type": "execute_result"
    }
   ],
   "source": [
    "# Removing Distance Outliers from the dataset (Setting Threshold of 3 * Standard Deviation)\n",
    "threshold = yearly_data[\"ride_distance_km\"].mean() + 3 * yearly_data[\"ride_distance_km\"].std()\n",
    "outliers = yearly_data[yearly_data[\"ride_distance_km\"] > threshold]\n",
    "outliers"
   ]
  },
  {
   "cell_type": "code",
   "execution_count": 35,
   "metadata": {},
   "outputs": [
    {
     "name": "stdout",
     "output_type": "stream",
     "text": [
      "Percentage of data that are outliers:  0.00019032972721943494\n"
     ]
    }
   ],
   "source": [
    "# checking what percentage of the data is comprised of outliers\n",
    "print(\"Percentage of data that are outliers: \", (len(outliers) / len(yearly_data)) * 100)"
   ]
  },
  {
   "cell_type": "code",
   "execution_count": 54,
   "metadata": {},
   "outputs": [],
   "source": [
    "# getting the data points without the outliers\n",
    "yearly_data_without_outliers = yearly_data[yearly_data['ride_distance_km'] <= threshold]"
   ]
  },
  {
   "cell_type": "code",
   "execution_count": 57,
   "metadata": {},
   "outputs": [
    {
     "data": {
      "text/html": [
       "<div>\n",
       "<style scoped>\n",
       "    .dataframe tbody tr th:only-of-type {\n",
       "        vertical-align: middle;\n",
       "    }\n",
       "\n",
       "    .dataframe tbody tr th {\n",
       "        vertical-align: top;\n",
       "    }\n",
       "\n",
       "    .dataframe thead th {\n",
       "        text-align: right;\n",
       "    }\n",
       "</style>\n",
       "<table border=\"1\" class=\"dataframe\">\n",
       "  <thead>\n",
       "    <tr style=\"text-align: right;\">\n",
       "      <th></th>\n",
       "      <th>start_lat</th>\n",
       "      <th>start_lng</th>\n",
       "      <th>end_lat</th>\n",
       "      <th>end_lng</th>\n",
       "      <th>ride_length_seconds</th>\n",
       "      <th>ride_distance_km</th>\n",
       "    </tr>\n",
       "  </thead>\n",
       "  <tbody>\n",
       "    <tr>\n",
       "      <th>count</th>\n",
       "      <td>5.773064e+06</td>\n",
       "      <td>5.773064e+06</td>\n",
       "      <td>5.773064e+06</td>\n",
       "      <td>5.773064e+06</td>\n",
       "      <td>5.773064e+06</td>\n",
       "      <td>5.773064e+06</td>\n",
       "    </tr>\n",
       "    <tr>\n",
       "      <th>mean</th>\n",
       "      <td>4.190290e+01</td>\n",
       "      <td>-8.764770e+01</td>\n",
       "      <td>4.190316e+01</td>\n",
       "      <td>-8.764788e+01</td>\n",
       "      <td>9.197022e+02</td>\n",
       "      <td>2.099220e+00</td>\n",
       "    </tr>\n",
       "    <tr>\n",
       "      <th>std</th>\n",
       "      <td>4.547700e-02</td>\n",
       "      <td>2.819367e-02</td>\n",
       "      <td>4.564512e-02</td>\n",
       "      <td>2.833112e-02</td>\n",
       "      <td>2.024679e+03</td>\n",
       "      <td>1.903866e+00</td>\n",
       "    </tr>\n",
       "    <tr>\n",
       "      <th>min</th>\n",
       "      <td>4.164000e+01</td>\n",
       "      <td>-8.787000e+01</td>\n",
       "      <td>4.155000e+01</td>\n",
       "      <td>-8.811000e+01</td>\n",
       "      <td>1.000000e+00</td>\n",
       "      <td>0.000000e+00</td>\n",
       "    </tr>\n",
       "    <tr>\n",
       "      <th>25%</th>\n",
       "      <td>4.188103e+01</td>\n",
       "      <td>-8.766130e+01</td>\n",
       "      <td>4.188103e+01</td>\n",
       "      <td>-8.766150e+01</td>\n",
       "      <td>3.300000e+02</td>\n",
       "      <td>8.653137e-01</td>\n",
       "    </tr>\n",
       "    <tr>\n",
       "      <th>50%</th>\n",
       "      <td>4.190000e+01</td>\n",
       "      <td>-8.764414e+01</td>\n",
       "      <td>4.190000e+01</td>\n",
       "      <td>-8.764434e+01</td>\n",
       "      <td>5.820000e+02</td>\n",
       "      <td>1.548984e+00</td>\n",
       "    </tr>\n",
       "    <tr>\n",
       "      <th>75%</th>\n",
       "      <td>4.193000e+01</td>\n",
       "      <td>-8.763000e+01</td>\n",
       "      <td>4.193000e+01</td>\n",
       "      <td>-8.763000e+01</td>\n",
       "      <td>1.037000e+03</td>\n",
       "      <td>2.751181e+00</td>\n",
       "    </tr>\n",
       "    <tr>\n",
       "      <th>max</th>\n",
       "      <td>4.207000e+01</td>\n",
       "      <td>-8.752000e+01</td>\n",
       "      <td>4.237000e+01</td>\n",
       "      <td>-8.730000e+01</td>\n",
       "      <td>1.922127e+06</td>\n",
       "      <td>3.767875e+01</td>\n",
       "    </tr>\n",
       "  </tbody>\n",
       "</table>\n",
       "</div>"
      ],
      "text/plain": [
       "          start_lat     start_lng       end_lat       end_lng  \\\n",
       "count  5.773064e+06  5.773064e+06  5.773064e+06  5.773064e+06   \n",
       "mean   4.190290e+01 -8.764770e+01  4.190316e+01 -8.764788e+01   \n",
       "std    4.547700e-02  2.819367e-02  4.564512e-02  2.833112e-02   \n",
       "min    4.164000e+01 -8.787000e+01  4.155000e+01 -8.811000e+01   \n",
       "25%    4.188103e+01 -8.766130e+01  4.188103e+01 -8.766150e+01   \n",
       "50%    4.190000e+01 -8.764414e+01  4.190000e+01 -8.764434e+01   \n",
       "75%    4.193000e+01 -8.763000e+01  4.193000e+01 -8.763000e+01   \n",
       "max    4.207000e+01 -8.752000e+01  4.237000e+01 -8.730000e+01   \n",
       "\n",
       "       ride_length_seconds  ride_distance_km  \n",
       "count         5.773064e+06      5.773064e+06  \n",
       "mean          9.197022e+02      2.099220e+00  \n",
       "std           2.024679e+03      1.903866e+00  \n",
       "min           1.000000e+00      0.000000e+00  \n",
       "25%           3.300000e+02      8.653137e-01  \n",
       "50%           5.820000e+02      1.548984e+00  \n",
       "75%           1.037000e+03      2.751181e+00  \n",
       "max           1.922127e+06      3.767875e+01  "
      ]
     },
     "execution_count": 57,
     "metadata": {},
     "output_type": "execute_result"
    }
   ],
   "source": [
    "yearly_data_without_outliers.describe()"
   ]
  },
  {
   "cell_type": "code",
   "execution_count": 58,
   "metadata": {},
   "outputs": [],
   "source": [
    "# removing the entry with a negative ride_length_seconds\n",
    "yearly_data_without_outliers = yearly_data_without_outliers[yearly_data_without_outliers['ride_length_seconds'] > 0]"
   ]
  },
  {
   "cell_type": "code",
   "execution_count": 59,
   "metadata": {},
   "outputs": [
    {
     "data": {
      "image/png": "[encoded data removed]",
      "text/plain": [
       "<Figure size 1200x800 with 1 Axes>"
      ]
     },
     "metadata": {},
     "output_type": "display_data"
    }
   ],
   "source": [
    "# visualizing for all the 12 months.\n",
    "fig = plt.figure(figsize=(12, 8))\n",
    "ax = plt.axes(projection=ccrs.PlateCarree())\n",
    "\n",
    "ax.coastlines()\n",
    "# adding land\n",
    "ax.add_feature(cfeature.LAND)\n",
    "# adding ocean\n",
    "ax.add_feature(cfeature.OCEAN)\n",
    "\n",
    "ax.scatter(yearly_data_without_outliers['start_lng'], yearly_data_without_outliers['start_lat'], marker = '.', label=\"Start Points\", color='red', transform=ccrs.PlateCarree())\n",
    "ax.scatter(yearly_data_without_outliers['end_lng'], yearly_data_without_outliers['end_lat'], marker = '.', label=\"End Points\", color='blue', transform=ccrs.PlateCarree())\n",
    "\n",
    "plt.legend()\n",
    "plt.title('Start and End Points of Trips in May 2023')\n",
    "plt.show()"
   ]
  },
  {
   "cell_type": "markdown",
   "metadata": {},
   "source": [
    "**------------------------------------------------------------------------------------------------------------------------------------------------------------------------------------------------------------------------------------------------------------**"
   ]
  },
  {
   "cell_type": "markdown",
   "metadata": {},
   "source": [
    "# **Analyze Phase**"
   ]
  },
  {
   "cell_type": "markdown",
   "metadata": {},
   "source": [
    "### **Descriptive Analysis**"
   ]
  },
  {
   "cell_type": "markdown",
   "metadata": {},
   "source": [
    "#### Numeric Columns"
   ]
  },
  {
   "cell_type": "code",
   "execution_count": 60,
   "metadata": {},
   "outputs": [
    {
     "data": {
      "text/html": [
       "<div>\n",
       "<style scoped>\n",
       "    .dataframe tbody tr th:only-of-type {\n",
       "        vertical-align: middle;\n",
       "    }\n",
       "\n",
       "    .dataframe tbody tr th {\n",
       "        vertical-align: top;\n",
       "    }\n",
       "\n",
       "    .dataframe thead th {\n",
       "        text-align: right;\n",
       "    }\n",
       "</style>\n",
       "<table border=\"1\" class=\"dataframe\">\n",
       "  <thead>\n",
       "    <tr style=\"text-align: right;\">\n",
       "      <th></th>\n",
       "      <th>start_lat</th>\n",
       "      <th>start_lng</th>\n",
       "      <th>end_lat</th>\n",
       "      <th>end_lng</th>\n",
       "      <th>ride_length_seconds</th>\n",
       "      <th>ride_distance_km</th>\n",
       "    </tr>\n",
       "  </thead>\n",
       "  <tbody>\n",
       "    <tr>\n",
       "      <th>count</th>\n",
       "      <td>5.773064e+06</td>\n",
       "      <td>5.773064e+06</td>\n",
       "      <td>5.773064e+06</td>\n",
       "      <td>5.773064e+06</td>\n",
       "      <td>5.773064e+06</td>\n",
       "      <td>5.773064e+06</td>\n",
       "    </tr>\n",
       "    <tr>\n",
       "      <th>mean</th>\n",
       "      <td>4.190290e+01</td>\n",
       "      <td>-8.764770e+01</td>\n",
       "      <td>4.190316e+01</td>\n",
       "      <td>-8.764788e+01</td>\n",
       "      <td>9.197022e+02</td>\n",
       "      <td>2.099220e+00</td>\n",
       "    </tr>\n",
       "    <tr>\n",
       "      <th>std</th>\n",
       "      <td>4.547700e-02</td>\n",
       "      <td>2.819367e-02</td>\n",
       "      <td>4.564512e-02</td>\n",
       "      <td>2.833112e-02</td>\n",
       "      <td>2.024679e+03</td>\n",
       "      <td>1.903866e+00</td>\n",
       "    </tr>\n",
       "    <tr>\n",
       "      <th>min</th>\n",
       "      <td>4.164000e+01</td>\n",
       "      <td>-8.787000e+01</td>\n",
       "      <td>4.155000e+01</td>\n",
       "      <td>-8.811000e+01</td>\n",
       "      <td>1.000000e+00</td>\n",
       "      <td>0.000000e+00</td>\n",
       "    </tr>\n",
       "    <tr>\n",
       "      <th>25%</th>\n",
       "      <td>4.188103e+01</td>\n",
       "      <td>-8.766130e+01</td>\n",
       "      <td>4.188103e+01</td>\n",
       "      <td>-8.766150e+01</td>\n",
       "      <td>3.300000e+02</td>\n",
       "      <td>8.653137e-01</td>\n",
       "    </tr>\n",
       "    <tr>\n",
       "      <th>50%</th>\n",
       "      <td>4.190000e+01</td>\n",
       "      <td>-8.764414e+01</td>\n",
       "      <td>4.190000e+01</td>\n",
       "      <td>-8.764434e+01</td>\n",
       "      <td>5.820000e+02</td>\n",
       "      <td>1.548984e+00</td>\n",
       "    </tr>\n",
       "    <tr>\n",
       "      <th>75%</th>\n",
       "      <td>4.193000e+01</td>\n",
       "      <td>-8.763000e+01</td>\n",
       "      <td>4.193000e+01</td>\n",
       "      <td>-8.763000e+01</td>\n",
       "      <td>1.037000e+03</td>\n",
       "      <td>2.751181e+00</td>\n",
       "    </tr>\n",
       "    <tr>\n",
       "      <th>max</th>\n",
       "      <td>4.207000e+01</td>\n",
       "      <td>-8.752000e+01</td>\n",
       "      <td>4.237000e+01</td>\n",
       "      <td>-8.730000e+01</td>\n",
       "      <td>1.922127e+06</td>\n",
       "      <td>3.767875e+01</td>\n",
       "    </tr>\n",
       "  </tbody>\n",
       "</table>\n",
       "</div>"
      ],
      "text/plain": [
       "          start_lat     start_lng       end_lat       end_lng  \\\n",
       "count  5.773064e+06  5.773064e+06  5.773064e+06  5.773064e+06   \n",
       "mean   4.190290e+01 -8.764770e+01  4.190316e+01 -8.764788e+01   \n",
       "std    4.547700e-02  2.819367e-02  4.564512e-02  2.833112e-02   \n",
       "min    4.164000e+01 -8.787000e+01  4.155000e+01 -8.811000e+01   \n",
       "25%    4.188103e+01 -8.766130e+01  4.188103e+01 -8.766150e+01   \n",
       "50%    4.190000e+01 -8.764414e+01  4.190000e+01 -8.764434e+01   \n",
       "75%    4.193000e+01 -8.763000e+01  4.193000e+01 -8.763000e+01   \n",
       "max    4.207000e+01 -8.752000e+01  4.237000e+01 -8.730000e+01   \n",
       "\n",
       "       ride_length_seconds  ride_distance_km  \n",
       "count         5.773064e+06      5.773064e+06  \n",
       "mean          9.197022e+02      2.099220e+00  \n",
       "std           2.024679e+03      1.903866e+00  \n",
       "min           1.000000e+00      0.000000e+00  \n",
       "25%           3.300000e+02      8.653137e-01  \n",
       "50%           5.820000e+02      1.548984e+00  \n",
       "75%           1.037000e+03      2.751181e+00  \n",
       "max           1.922127e+06      3.767875e+01  "
      ]
     },
     "execution_count": 60,
     "metadata": {},
     "output_type": "execute_result"
    }
   ],
   "source": [
    "# fetching all numeric columns from the dataset\n",
    "numeric_columns = yearly_data_without_outliers.select_dtypes(include=['int64','float64']).columns\n",
    "yearly_data_without_outliers[numeric_columns].describe()"
   ]
  },
  {
   "cell_type": "markdown",
   "metadata": {},
   "source": [
    "**_From the summary above, we can see that the cleaned dataset has about 5.77 million entries. Notably, the standard deviations are all relatively small, indicating consistency in the data. The mean and median values are also relatively close for all the attributes in the descriptive analysis. The shortest ride length is 1 second, which seems impossible and requires a more indepth look. The average ride length for all rides irrespective of client type is 919.7 seconds which is about 15 minutes. The maximum ride length is 1,922,127 seconds (about 32,035 minutes (equivalent to 533 hours) or (22 days)). This does not seem right. However, there's not much information regarding the maximum time a client could use a ride for. Compared to the mean, it is significantly different. Hence, this suggests that this might be a technical error in the data collection stage. With this quick summary, we can see the central tendencies, variablility, and potential anomalies, which help us get a better understanding of the dataset we are working with._**"
   ]
  },
  {
   "cell_type": "code",
   "execution_count": 62,
   "metadata": {},
   "outputs": [
    {
     "data": {
      "text/plain": [
       "Index(['ride_id', 'rideable_type', 'started_at', 'ended_at',\n",
       "       'start_station_name', 'start_station_id', 'end_station_name',\n",
       "       'end_station_id', 'start_lat', 'start_lng', 'end_lat', 'end_lng',\n",
       "       'member_casual', 'ride_length_seconds', 'day_of_week', 'month',\n",
       "       'ride_distance_km'],\n",
       "      dtype='object')"
      ]
     },
     "execution_count": 62,
     "metadata": {},
     "output_type": "execute_result"
    }
   ],
   "source": [
    "yearly_data_without_outliers.columns"
   ]
  },
  {
   "cell_type": "code",
   "execution_count": 65,
   "metadata": {},
   "outputs": [
    {
     "data": {
      "text/plain": [
       "'Saturday'"
      ]
     },
     "execution_count": 65,
     "metadata": {},
     "output_type": "execute_result"
    }
   ],
   "source": [
    "# getting the mode of the day of week \n",
    "mode_day_of_week = yearly_data_without_outliers['day_of_week'].mode()[0]\n",
    "mode_day_of_week"
   ]
  },
  {
   "cell_type": "markdown",
   "metadata": {},
   "source": [
    "**_All year round, the mode of the week is Saturday meaning that there are more rides on Saturdays as compared to other days of the week._**"
   ]
  },
  {
   "cell_type": "code",
   "execution_count": 67,
   "metadata": {},
   "outputs": [
    {
     "name": "stdout",
     "output_type": "stream",
     "text": [
      "Average ride length for members:  723.8511435272653\n",
      "Average ride length for casual riders:  1228.8460339756716\n"
     ]
    }
   ],
   "source": [
    "# calculating the average ride length for members and casual riders\n",
    "members = yearly_data_without_outliers[yearly_data_without_outliers['member_casual'] == 'member']\n",
    "casual = yearly_data_without_outliers[yearly_data_without_outliers['member_casual'] == 'casual']\n",
    "\n",
    "print('Average ride length for members: ', members['ride_length_seconds'].mean())\n",
    "print('Average ride length for casual riders: ', casual['ride_length_seconds'].mean())"
   ]
  },
  {
   "cell_type": "markdown",
   "metadata": {},
   "source": [
    "**_On average, we can see the casual riders make use of the service more than annual members._**"
   ]
  },
  {
   "cell_type": "code",
   "execution_count": 73,
   "metadata": {},
   "outputs": [
    {
     "data": {
      "text/html": [
       "<div>\n",
       "<style scoped>\n",
       "    .dataframe tbody tr th:only-of-type {\n",
       "        vertical-align: middle;\n",
       "    }\n",
       "\n",
       "    .dataframe tbody tr th {\n",
       "        vertical-align: top;\n",
       "    }\n",
       "\n",
       "    .dataframe thead th {\n",
       "        text-align: right;\n",
       "    }\n",
       "</style>\n",
       "<table border=\"1\" class=\"dataframe\">\n",
       "  <thead>\n",
       "    <tr style=\"text-align: right;\">\n",
       "      <th></th>\n",
       "      <th>day_of_week</th>\n",
       "      <th>member_casual</th>\n",
       "      <th>ride_length_seconds</th>\n",
       "    </tr>\n",
       "  </thead>\n",
       "  <tbody>\n",
       "    <tr>\n",
       "      <th>0</th>\n",
       "      <td>Friday</td>\n",
       "      <td>casual</td>\n",
       "      <td>1186.331782</td>\n",
       "    </tr>\n",
       "    <tr>\n",
       "      <th>1</th>\n",
       "      <td>Friday</td>\n",
       "      <td>member</td>\n",
       "      <td>717.839462</td>\n",
       "    </tr>\n",
       "    <tr>\n",
       "      <th>2</th>\n",
       "      <td>Monday</td>\n",
       "      <td>casual</td>\n",
       "      <td>1224.644033</td>\n",
       "    </tr>\n",
       "    <tr>\n",
       "      <th>3</th>\n",
       "      <td>Monday</td>\n",
       "      <td>member</td>\n",
       "      <td>690.156673</td>\n",
       "    </tr>\n",
       "    <tr>\n",
       "      <th>4</th>\n",
       "      <td>Saturday</td>\n",
       "      <td>casual</td>\n",
       "      <td>1400.819394</td>\n",
       "    </tr>\n",
       "    <tr>\n",
       "      <th>5</th>\n",
       "      <td>Saturday</td>\n",
       "      <td>member</td>\n",
       "      <td>812.007593</td>\n",
       "    </tr>\n",
       "    <tr>\n",
       "      <th>6</th>\n",
       "      <td>Sunday</td>\n",
       "      <td>casual</td>\n",
       "      <td>1410.194664</td>\n",
       "    </tr>\n",
       "    <tr>\n",
       "      <th>7</th>\n",
       "      <td>Sunday</td>\n",
       "      <td>member</td>\n",
       "      <td>799.499149</td>\n",
       "    </tr>\n",
       "    <tr>\n",
       "      <th>8</th>\n",
       "      <td>Thursday</td>\n",
       "      <td>casual</td>\n",
       "      <td>1080.241598</td>\n",
       "    </tr>\n",
       "    <tr>\n",
       "      <th>9</th>\n",
       "      <td>Thursday</td>\n",
       "      <td>member</td>\n",
       "      <td>696.880484</td>\n",
       "    </tr>\n",
       "    <tr>\n",
       "      <th>10</th>\n",
       "      <td>Tuesday</td>\n",
       "      <td>casual</td>\n",
       "      <td>1088.923709</td>\n",
       "    </tr>\n",
       "    <tr>\n",
       "      <th>11</th>\n",
       "      <td>Tuesday</td>\n",
       "      <td>member</td>\n",
       "      <td>689.936006</td>\n",
       "    </tr>\n",
       "    <tr>\n",
       "      <th>12</th>\n",
       "      <td>Wednesday</td>\n",
       "      <td>casual</td>\n",
       "      <td>1060.736017</td>\n",
       "    </tr>\n",
       "    <tr>\n",
       "      <th>13</th>\n",
       "      <td>Wednesday</td>\n",
       "      <td>member</td>\n",
       "      <td>693.778071</td>\n",
       "    </tr>\n",
       "  </tbody>\n",
       "</table>\n",
       "</div>"
      ],
      "text/plain": [
       "   day_of_week member_casual  ride_length_seconds\n",
       "0       Friday        casual          1186.331782\n",
       "1       Friday        member           717.839462\n",
       "2       Monday        casual          1224.644033\n",
       "3       Monday        member           690.156673\n",
       "4     Saturday        casual          1400.819394\n",
       "5     Saturday        member           812.007593\n",
       "6       Sunday        casual          1410.194664\n",
       "7       Sunday        member           799.499149\n",
       "8     Thursday        casual          1080.241598\n",
       "9     Thursday        member           696.880484\n",
       "10     Tuesday        casual          1088.923709\n",
       "11     Tuesday        member           689.936006\n",
       "12   Wednesday        casual          1060.736017\n",
       "13   Wednesday        member           693.778071"
      ]
     },
     "execution_count": 73,
     "metadata": {},
     "output_type": "execute_result"
    }
   ],
   "source": [
    "# calculating the average ride length for users by day of the week and type of riders\n",
    "\n",
    "# getting the mean of all days of the week\n",
    "avg_ride_length_grouped = yearly_data_without_outliers.groupby(['day_of_week','member_casual'])['ride_length_seconds'].mean().reset_index()\n",
    "avg_ride_length_grouped"
   ]
  },
  {
   "cell_type": "code",
   "execution_count": 74,
   "metadata": {},
   "outputs": [
    {
     "data": {
      "text/html": [
       "<div>\n",
       "<style scoped>\n",
       "    .dataframe tbody tr th:only-of-type {\n",
       "        vertical-align: middle;\n",
       "    }\n",
       "\n",
       "    .dataframe tbody tr th {\n",
       "        vertical-align: top;\n",
       "    }\n",
       "\n",
       "    .dataframe thead th {\n",
       "        text-align: right;\n",
       "    }\n",
       "</style>\n",
       "<table border=\"1\" class=\"dataframe\">\n",
       "  <thead>\n",
       "    <tr style=\"text-align: right;\">\n",
       "      <th>member_casual</th>\n",
       "      <th>casual</th>\n",
       "      <th>member</th>\n",
       "    </tr>\n",
       "    <tr>\n",
       "      <th>day_of_week</th>\n",
       "      <th></th>\n",
       "      <th></th>\n",
       "    </tr>\n",
       "  </thead>\n",
       "  <tbody>\n",
       "    <tr>\n",
       "      <th>Friday</th>\n",
       "      <td>1186.331782</td>\n",
       "      <td>717.839462</td>\n",
       "    </tr>\n",
       "    <tr>\n",
       "      <th>Monday</th>\n",
       "      <td>1224.644033</td>\n",
       "      <td>690.156673</td>\n",
       "    </tr>\n",
       "    <tr>\n",
       "      <th>Saturday</th>\n",
       "      <td>1400.819394</td>\n",
       "      <td>812.007593</td>\n",
       "    </tr>\n",
       "    <tr>\n",
       "      <th>Sunday</th>\n",
       "      <td>1410.194664</td>\n",
       "      <td>799.499149</td>\n",
       "    </tr>\n",
       "    <tr>\n",
       "      <th>Thursday</th>\n",
       "      <td>1080.241598</td>\n",
       "      <td>696.880484</td>\n",
       "    </tr>\n",
       "    <tr>\n",
       "      <th>Tuesday</th>\n",
       "      <td>1088.923709</td>\n",
       "      <td>689.936006</td>\n",
       "    </tr>\n",
       "    <tr>\n",
       "      <th>Wednesday</th>\n",
       "      <td>1060.736017</td>\n",
       "      <td>693.778071</td>\n",
       "    </tr>\n",
       "  </tbody>\n",
       "</table>\n",
       "</div>"
      ],
      "text/plain": [
       "member_casual       casual      member\n",
       "day_of_week                           \n",
       "Friday         1186.331782  717.839462\n",
       "Monday         1224.644033  690.156673\n",
       "Saturday       1400.819394  812.007593\n",
       "Sunday         1410.194664  799.499149\n",
       "Thursday       1080.241598  696.880484\n",
       "Tuesday        1088.923709  689.936006\n",
       "Wednesday      1060.736017  693.778071"
      ]
     },
     "execution_count": 74,
     "metadata": {},
     "output_type": "execute_result"
    }
   ],
   "source": [
    "# pivoting the avg_ride_length_grouped\n",
    "pivot_avg_ride_length_grouped = avg_ride_length_grouped.pivot(index='day_of_week', columns='member_casual', values='ride_length_seconds')\n",
    "pivot_avg_ride_length_grouped"
   ]
  },
  {
   "cell_type": "markdown",
   "metadata": {},
   "source": [
    "**_Backing up our earlier comparison between both rider types, the total number of counts for casual riders on all days of the week surpass that of the annual members._**"
   ]
  },
  {
   "cell_type": "code",
   "execution_count": 75,
   "metadata": {},
   "outputs": [
    {
     "data": {
      "text/plain": [
       "day_of_week\n",
       "Friday       346279\n",
       "Monday       252512\n",
       "Saturday     458755\n",
       "Sunday       350419\n",
       "Thursday     297701\n",
       "Tuesday      256570\n",
       "Wednesday    276719\n",
       "Name: ride_id, dtype: int64"
      ]
     },
     "execution_count": 75,
     "metadata": {},
     "output_type": "execute_result"
    }
   ],
   "source": [
    "# getting the number of rides for users by day of week\n",
    "casual_riders = casual['ride_id'].groupby(casual['day_of_week']).count()\n",
    "casual_riders"
   ]
  },
  {
   "cell_type": "code",
   "execution_count": 76,
   "metadata": {},
   "outputs": [
    {
     "data": {
      "text/plain": [
       "day_of_week\n",
       "Friday       518711\n",
       "Monday       477503\n",
       "Saturday     464221\n",
       "Sunday       387808\n",
       "Thursday     565524\n",
       "Tuesday      548861\n",
       "Wednesday    571481\n",
       "Name: ride_id, dtype: int64"
      ]
     },
     "execution_count": 76,
     "metadata": {},
     "output_type": "execute_result"
    }
   ],
   "source": [
    "member_riders = members['ride_id'].groupby(members['day_of_week']).count()\n",
    "member_riders"
   ]
  },
  {
   "cell_type": "code",
   "execution_count": 80,
   "metadata": {},
   "outputs": [
    {
     "data": {
      "text/plain": [
       "electric_bike    1843987\n",
       "classic_bike     1690122\n",
       "Name: rideable_type, dtype: int64"
      ]
     },
     "execution_count": 80,
     "metadata": {},
     "output_type": "execute_result"
    }
   ],
   "source": [
    "# getting the distributions of ridetype for both rider types\n",
    "members_ridetype = members['rideable_type'].value_counts()\n",
    "members_ridetype"
   ]
  },
  {
   "cell_type": "code",
   "execution_count": 81,
   "metadata": {},
   "outputs": [
    {
     "data": {
      "text/plain": [
       "electric_bike    1298134\n",
       "classic_bike      801967\n",
       "docked_bike       138854\n",
       "Name: rideable_type, dtype: int64"
      ]
     },
     "execution_count": 81,
     "metadata": {},
     "output_type": "execute_result"
    }
   ],
   "source": [
    "casual_ridetype = casual['rideable_type'].value_counts()\n",
    "casual_ridetype"
   ]
  },
  {
   "cell_type": "markdown",
   "metadata": {},
   "source": [
    "**_From the above comparison, we see that electric bike is mostly popular across the two rider groups. Annual members however do not make use of docked bikes. On another note, annual members use more of electric bikes and classic bikes compared to their casual counterparts._**"
   ]
  },
  {
   "cell_type": "markdown",
   "metadata": {},
   "source": [
    "## Deliverable: A Summary Report"
   ]
  },
  {
   "cell_type": "markdown",
   "metadata": {},
   "source": [
    "**_The descriptive analysis of the cleaned dataset, encompassing around 5.77 million entries, underscores the dataset's coherence, as evidenced by the relatively small standard deviations across attributes. Mean and median values, presenting closeness, further attest to data consistency. A glaring outlier surfaces in the form of the shortest ride length at 1 second, warranting closer scrutiny. The overall average ride length, regardless of user type, is approximately 919.7 seconds or 15 minutes, while an anomaly emerges with a maximum ride length of 1,922,127 seconds (around 22 days). This discrepancy suggests potential data collection issues. The mode day of the week is Saturday. Notably, the average ride lengths for casual and member riders are 1228.85 seconds and 723.85 seconds, respectively. Detailed breakdowns by day of the week reveal valuable insights into ride behaviors, with Saturday being the most popular day. Moreover, categorized by ride type, electric bikes dominate both member and casual ridership, highlighting notable usage trends within the dataset._**"
   ]
  },
  {
   "cell_type": "markdown",
   "metadata": {},
   "source": [
    "# **Visualizations**"
   ]
  },
  {
   "cell_type": "code",
   "execution_count": 86,
   "metadata": {},
   "outputs": [
    {
     "name": "stdout",
     "output_type": "stream",
     "text": [
      "Collecting kaleido\n",
      "  Downloading kaleido-0.2.1-py2.py3-none-win_amd64.whl (65.9 MB)\n",
      "                                              0.0/65.9 MB ? eta -:--:--\n",
      "                                             0.0/65.9 MB 640.0 kB/s eta 0:01:43\n",
      "                                             0.0/65.9 MB 487.6 kB/s eta 0:02:16\n",
      "                                             0.1/65.9 MB 819.2 kB/s eta 0:01:21\n",
      "                                              0.2/65.9 MB 1.1 MB/s eta 0:01:02\n",
      "                                              0.3/65.9 MB 1.2 MB/s eta 0:00:55\n",
      "                                              0.4/65.9 MB 1.4 MB/s eta 0:00:48\n",
      "                                              0.6/65.9 MB 1.7 MB/s eta 0:00:38\n",
      "                                              0.8/65.9 MB 2.1 MB/s eta 0:00:31\n",
      "                                              1.2/65.9 MB 2.9 MB/s eta 0:00:22\n",
      "     -                                        1.7/65.9 MB 3.7 MB/s eta 0:00:18\n",
      "     -                                        2.0/65.9 MB 3.9 MB/s eta 0:00:17\n",
      "     -                                        2.4/65.9 MB 4.3 MB/s eta 0:00:15\n",
      "     -                                        2.9/65.9 MB 5.0 MB/s eta 0:00:13\n",
      "     --                                       3.7/65.9 MB 5.8 MB/s eta 0:00:11\n",
      "     --                                       4.4/65.9 MB 6.4 MB/s eta 0:00:10\n",
      "     --                                       4.9/65.9 MB 6.8 MB/s eta 0:00:10\n",
      "     ---                                      5.5/65.9 MB 7.2 MB/s eta 0:00:09\n",
      "     ---                                      6.2/65.9 MB 7.6 MB/s eta 0:00:08\n",
      "     ----                                     6.8/65.9 MB 7.9 MB/s eta 0:00:08\n",
      "     ----                                     7.4/65.9 MB 8.1 MB/s eta 0:00:08\n",
      "     ----                                     8.0/65.9 MB 8.4 MB/s eta 0:00:07\n",
      "     -----                                    8.8/65.9 MB 8.7 MB/s eta 0:00:07\n",
      "     -----                                    9.5/65.9 MB 9.1 MB/s eta 0:00:07\n",
      "     ------                                  10.3/65.9 MB 10.2 MB/s eta 0:00:06\n",
      "     ------                                  11.1/65.9 MB 13.4 MB/s eta 0:00:05\n",
      "     ------                                  11.3/65.9 MB 12.8 MB/s eta 0:00:05\n",
      "     -------                                 11.9/65.9 MB 13.1 MB/s eta 0:00:05\n",
      "     -------                                 12.4/65.9 MB 13.6 MB/s eta 0:00:04\n",
      "     -------                                 13.0/65.9 MB 13.6 MB/s eta 0:00:04\n",
      "     --------                                13.6/65.9 MB 13.6 MB/s eta 0:00:04\n",
      "     --------                                14.2/65.9 MB 13.6 MB/s eta 0:00:04\n",
      "     --------                                14.5/65.9 MB 12.8 MB/s eta 0:00:05\n",
      "     --------                                15.0/65.9 MB 12.8 MB/s eta 0:00:04\n",
      "     ---------                               15.6/65.9 MB 12.8 MB/s eta 0:00:04\n",
      "     ---------                               16.2/65.9 MB 13.1 MB/s eta 0:00:04\n",
      "     ---------                               16.8/65.9 MB 13.1 MB/s eta 0:00:04\n",
      "     ----------                              17.2/65.9 MB 12.6 MB/s eta 0:00:04\n",
      "     ----------                              17.9/65.9 MB 12.6 MB/s eta 0:00:04\n",
      "     ----------                              18.4/65.9 MB 12.6 MB/s eta 0:00:04\n",
      "     -----------                             18.9/65.9 MB 12.3 MB/s eta 0:00:04\n",
      "     -----------                             19.3/65.9 MB 11.9 MB/s eta 0:00:04\n",
      "     -----------                             19.7/65.9 MB 11.7 MB/s eta 0:00:04\n",
      "     -----------                             20.2/65.9 MB 11.3 MB/s eta 0:00:05\n",
      "     ------------                            20.6/65.9 MB 11.1 MB/s eta 0:00:05\n",
      "     ------------                            21.2/65.9 MB 10.9 MB/s eta 0:00:05\n",
      "     ------------                            21.7/65.9 MB 11.3 MB/s eta 0:00:04\n",
      "     -------------                           22.2/65.9 MB 11.1 MB/s eta 0:00:04\n",
      "     -------------                           22.6/65.9 MB 10.9 MB/s eta 0:00:04\n",
      "     -------------                           23.1/65.9 MB 10.9 MB/s eta 0:00:04\n",
      "     -------------                           23.7/65.9 MB 10.9 MB/s eta 0:00:04\n",
      "     --------------                          24.2/65.9 MB 10.7 MB/s eta 0:00:04\n",
      "     --------------                          24.9/65.9 MB 11.3 MB/s eta 0:00:04\n",
      "     ---------------                         25.7/65.9 MB 11.5 MB/s eta 0:00:04\n",
      "     ---------------                         26.4/65.9 MB 11.5 MB/s eta 0:00:04\n",
      "     ---------------                         27.0/65.9 MB 11.5 MB/s eta 0:00:04\n",
      "     ----------------                        27.6/65.9 MB 11.7 MB/s eta 0:00:04\n",
      "     ----------------                        28.1/65.9 MB 11.7 MB/s eta 0:00:04\n",
      "     ----------------                        28.5/65.9 MB 11.5 MB/s eta 0:00:04\n",
      "     -----------------                       28.8/65.9 MB 11.3 MB/s eta 0:00:04\n",
      "     -----------------                       28.8/65.9 MB 11.3 MB/s eta 0:00:04\n",
      "     -----------------                       28.8/65.9 MB 11.3 MB/s eta 0:00:04\n",
      "     -----------------                       28.8/65.9 MB 11.3 MB/s eta 0:00:04\n",
      "     -----------------                       28.8/65.9 MB 11.3 MB/s eta 0:00:04\n",
      "     -----------------                       28.8/65.9 MB 11.3 MB/s eta 0:00:04\n",
      "     -----------------                       28.8/65.9 MB 11.3 MB/s eta 0:00:04\n",
      "     -----------------                       28.8/65.9 MB 11.3 MB/s eta 0:00:04\n",
      "     -----------------                       28.8/65.9 MB 11.3 MB/s eta 0:00:04\n",
      "     -----------------                        29.2/65.9 MB 7.9 MB/s eta 0:00:05\n",
      "     --------------------                    34.0/65.9 MB 11.7 MB/s eta 0:00:03\n",
      "     --------------------                    34.8/65.9 MB 11.7 MB/s eta 0:00:03\n",
      "     ---------------------                   35.6/65.9 MB 11.9 MB/s eta 0:00:03\n",
      "     ---------------------                   36.3/65.9 MB 11.9 MB/s eta 0:00:03\n",
      "     ---------------------                   37.0/65.9 MB 11.9 MB/s eta 0:00:03\n",
      "     ----------------------                  37.7/65.9 MB 12.1 MB/s eta 0:00:03\n",
      "     ----------------------                  38.4/65.9 MB 12.3 MB/s eta 0:00:03\n",
      "     -----------------------                 39.2/65.9 MB 28.5 MB/s eta 0:00:01\n",
      "     -----------------------                 40.0/65.9 MB 25.2 MB/s eta 0:00:02\n",
      "     ------------------------                40.7/65.9 MB 23.4 MB/s eta 0:00:02\n",
      "     ------------------------                41.4/65.9 MB 21.1 MB/s eta 0:00:02\n",
      "     ------------------------                42.3/65.9 MB 19.3 MB/s eta 0:00:02\n",
      "     -------------------------               43.0/65.9 MB 18.2 MB/s eta 0:00:02\n",
      "     -------------------------               43.8/65.9 MB 16.8 MB/s eta 0:00:02\n",
      "     --------------------------              44.4/65.9 MB 16.0 MB/s eta 0:00:02\n",
      "     --------------------------              45.0/65.9 MB 16.0 MB/s eta 0:00:02\n",
      "     ---------------------------             45.7/65.9 MB 15.6 MB/s eta 0:00:02\n",
      "     ---------------------------             46.5/65.9 MB 16.0 MB/s eta 0:00:02\n",
      "     ---------------------------             47.3/65.9 MB 16.0 MB/s eta 0:00:02\n",
      "     ----------------------------            48.1/65.9 MB 16.0 MB/s eta 0:00:02\n",
      "     ----------------------------            48.9/65.9 MB 16.4 MB/s eta 0:00:02\n",
      "     -----------------------------           49.7/65.9 MB 16.4 MB/s eta 0:00:01\n",
      "     -----------------------------           49.7/65.9 MB 16.4 MB/s eta 0:00:01\n",
      "     -----------------------------           49.7/65.9 MB 16.4 MB/s eta 0:00:01\n",
      "     -----------------------------           49.7/65.9 MB 16.4 MB/s eta 0:00:01\n",
      "     -----------------------------           49.7/65.9 MB 16.4 MB/s eta 0:00:01\n",
      "     ------------------------------          52.1/65.9 MB 14.2 MB/s eta 0:00:01\n",
      "     -------------------------------         53.7/65.9 MB 15.6 MB/s eta 0:00:01\n",
      "     --------------------------------        54.5/65.9 MB 15.6 MB/s eta 0:00:01\n",
      "     --------------------------------        55.3/65.9 MB 16.0 MB/s eta 0:00:01\n",
      "     ---------------------------------       56.1/65.9 MB 16.4 MB/s eta 0:00:01\n",
      "     ---------------------------------       56.9/65.9 MB 16.0 MB/s eta 0:00:01\n",
      "     ----------------------------------      57.6/65.9 MB 16.0 MB/s eta 0:00:01\n",
      "     ----------------------------------      58.4/65.9 MB 16.0 MB/s eta 0:00:01\n",
      "     ----------------------------------      59.1/65.9 MB 16.0 MB/s eta 0:00:01\n",
      "     -----------------------------------     59.9/65.9 MB 16.0 MB/s eta 0:00:01\n",
      "     -----------------------------------     60.6/65.9 MB 21.8 MB/s eta 0:00:01\n",
      "     ------------------------------------    61.4/65.9 MB 19.8 MB/s eta 0:00:01\n",
      "     ------------------------------------    62.2/65.9 MB 18.2 MB/s eta 0:00:01\n",
      "     -------------------------------------   63.0/65.9 MB 17.2 MB/s eta 0:00:01\n",
      "     -------------------------------------   63.7/65.9 MB 16.8 MB/s eta 0:00:01\n",
      "     -------------------------------------   64.1/65.9 MB 16.0 MB/s eta 0:00:01\n",
      "     --------------------------------------  64.8/65.9 MB 16.0 MB/s eta 0:00:01\n",
      "     --------------------------------------  65.4/65.9 MB 15.6 MB/s eta 0:00:01\n",
      "     --------------------------------------  65.9/65.9 MB 15.6 MB/s eta 0:00:01\n",
      "     --------------------------------------  65.9/65.9 MB 15.6 MB/s eta 0:00:01\n",
      "     --------------------------------------  65.9/65.9 MB 15.6 MB/s eta 0:00:01\n",
      "     --------------------------------------  65.9/65.9 MB 15.6 MB/s eta 0:00:01\n",
      "     --------------------------------------  65.9/65.9 MB 15.6 MB/s eta 0:00:01\n",
      "     --------------------------------------  65.9/65.9 MB 15.6 MB/s eta 0:00:01\n",
      "     --------------------------------------  65.9/65.9 MB 15.6 MB/s eta 0:00:01\n",
      "     --------------------------------------  65.9/65.9 MB 15.6 MB/s eta 0:00:01\n",
      "     --------------------------------------  65.9/65.9 MB 15.6 MB/s eta 0:00:01\n",
      "     --------------------------------------  65.9/65.9 MB 15.6 MB/s eta 0:00:01\n",
      "     --------------------------------------  65.9/65.9 MB 15.6 MB/s eta 0:00:01\n",
      "     --------------------------------------  65.9/65.9 MB 15.6 MB/s eta 0:00:01\n",
      "     --------------------------------------  65.9/65.9 MB 15.6 MB/s eta 0:00:01\n",
      "     --------------------------------------  65.9/65.9 MB 15.6 MB/s eta 0:00:01\n",
      "     --------------------------------------  65.9/65.9 MB 15.6 MB/s eta 0:00:01\n",
      "     --------------------------------------  65.9/65.9 MB 15.6 MB/s eta 0:00:01\n",
      "     --------------------------------------  65.9/65.9 MB 15.6 MB/s eta 0:00:01\n",
      "     --------------------------------------  65.9/65.9 MB 15.6 MB/s eta 0:00:01\n",
      "     --------------------------------------  65.9/65.9 MB 15.6 MB/s eta 0:00:01\n",
      "     --------------------------------------  65.9/65.9 MB 15.6 MB/s eta 0:00:01\n",
      "     --------------------------------------  65.9/65.9 MB 15.6 MB/s eta 0:00:01\n",
      "     --------------------------------------  65.9/65.9 MB 15.6 MB/s eta 0:00:01\n",
      "     --------------------------------------  65.9/65.9 MB 15.6 MB/s eta 0:00:01\n",
      "     --------------------------------------  65.9/65.9 MB 15.6 MB/s eta 0:00:01\n",
      "     --------------------------------------  65.9/65.9 MB 15.6 MB/s eta 0:00:01\n",
      "     --------------------------------------  65.9/65.9 MB 15.6 MB/s eta 0:00:01\n",
      "     --------------------------------------  65.9/65.9 MB 15.6 MB/s eta 0:00:01\n",
      "     --------------------------------------  65.9/65.9 MB 15.6 MB/s eta 0:00:01\n",
      "     --------------------------------------  65.9/65.9 MB 15.6 MB/s eta 0:00:01\n",
      "     --------------------------------------  65.9/65.9 MB 15.6 MB/s eta 0:00:01\n",
      "     --------------------------------------  65.9/65.9 MB 15.6 MB/s eta 0:00:01\n",
      "     --------------------------------------  65.9/65.9 MB 15.6 MB/s eta 0:00:01\n",
      "     --------------------------------------  65.9/65.9 MB 15.6 MB/s eta 0:00:01\n",
      "     --------------------------------------  65.9/65.9 MB 15.6 MB/s eta 0:00:01\n",
      "     --------------------------------------  65.9/65.9 MB 15.6 MB/s eta 0:00:01\n",
      "     --------------------------------------  65.9/65.9 MB 15.6 MB/s eta 0:00:01\n",
      "     --------------------------------------  65.9/65.9 MB 15.6 MB/s eta 0:00:01\n",
      "     --------------------------------------  65.9/65.9 MB 15.6 MB/s eta 0:00:01\n",
      "     --------------------------------------  65.9/65.9 MB 15.6 MB/s eta 0:00:01\n",
      "     --------------------------------------  65.9/65.9 MB 15.6 MB/s eta 0:00:01\n",
      "     --------------------------------------  65.9/65.9 MB 15.6 MB/s eta 0:00:01\n",
      "     --------------------------------------  65.9/65.9 MB 15.6 MB/s eta 0:00:01\n",
      "     --------------------------------------  65.9/65.9 MB 15.6 MB/s eta 0:00:01\n",
      "     --------------------------------------  65.9/65.9 MB 15.6 MB/s eta 0:00:01\n",
      "     --------------------------------------  65.9/65.9 MB 15.6 MB/s eta 0:00:01\n",
      "     --------------------------------------  65.9/65.9 MB 15.6 MB/s eta 0:00:01\n",
      "     --------------------------------------  65.9/65.9 MB 15.6 MB/s eta 0:00:01\n",
      "     --------------------------------------  65.9/65.9 MB 15.6 MB/s eta 0:00:01\n",
      "     --------------------------------------  65.9/65.9 MB 15.6 MB/s eta 0:00:01\n",
      "     --------------------------------------  65.9/65.9 MB 15.6 MB/s eta 0:00:01\n",
      "     --------------------------------------  65.9/65.9 MB 15.6 MB/s eta 0:00:01\n",
      "     --------------------------------------  65.9/65.9 MB 15.6 MB/s eta 0:00:01\n",
      "     --------------------------------------  65.9/65.9 MB 15.6 MB/s eta 0:00:01\n",
      "     --------------------------------------  65.9/65.9 MB 15.6 MB/s eta 0:00:01\n",
      "     --------------------------------------  65.9/65.9 MB 15.6 MB/s eta 0:00:01\n",
      "     --------------------------------------  65.9/65.9 MB 15.6 MB/s eta 0:00:01\n",
      "     --------------------------------------  65.9/65.9 MB 15.6 MB/s eta 0:00:01\n",
      "     --------------------------------------  65.9/65.9 MB 15.6 MB/s eta 0:00:01\n",
      "     --------------------------------------  65.9/65.9 MB 15.6 MB/s eta 0:00:01\n",
      "     --------------------------------------  65.9/65.9 MB 15.6 MB/s eta 0:00:01\n",
      "     --------------------------------------  65.9/65.9 MB 15.6 MB/s eta 0:00:01\n",
      "     --------------------------------------  65.9/65.9 MB 15.6 MB/s eta 0:00:01\n",
      "     --------------------------------------  65.9/65.9 MB 15.6 MB/s eta 0:00:01\n",
      "     ---------------------------------------- 65.9/65.9 MB 2.8 MB/s eta 0:00:00\n",
      "Installing collected packages: kaleido\n",
      "Successfully installed kaleido-0.2.1\n"
     ]
    }
   ],
   "source": [
    "!pip install kaleido"
   ]
  },
  {
   "cell_type": "code",
   "execution_count": 91,
   "metadata": {},
   "outputs": [
    {
     "data": {
      "application/vnd.plotly.v1+json": {
       "config": {
        "linkText": "Export to plot.ly",
        "plotlyServerURL": "https://plot.ly",
        "showLink": false
       },
       "data": [
        {
         "type": "bar",
         "x": [
          "Monday",
          "Tuesday",
          "Wednesday",
          "Thursday",
          "Friday",
          "Saturday",
          "Sunday"
         ],
         "y": [
          730015,
          805431,
          848200,
          863225,
          864990,
          922976,
          738227
         ]
        }
       ],
       "layout": {
        "font": {
         "color": "#b92c00",
         "family": "Courier New, monospace",
         "size": 18
        },
        "template": {
         "data": {
          "bar": [
           {
            "error_x": {
             "color": "#2a3f5f"
            },
            "error_y": {
             "color": "#2a3f5f"
            },
            "marker": {
             "line": {
              "color": "#E5ECF6",
              "width": 0.5
             },
             "pattern": {
              "fillmode": "overlay",
              "size": 10,
              "solidity": 0.2
             }
            },
            "type": "bar"
           }
          ],
          "barpolar": [
           {
            "marker": {
             "line": {
              "color": "#E5ECF6",
              "width": 0.5
             },
             "pattern": {
              "fillmode": "overlay",
              "size": 10,
              "solidity": 0.2
             }
            },
            "type": "barpolar"
           }
          ],
          "carpet": [
           {
            "aaxis": {
             "endlinecolor": "#2a3f5f",
             "gridcolor": "white",
             "linecolor": "white",
             "minorgridcolor": "white",
             "startlinecolor": "#2a3f5f"
            },
            "baxis": {
             "endlinecolor": "#2a3f5f",
             "gridcolor": "white",
             "linecolor": "white",
             "minorgridcolor": "white",
             "startlinecolor": "#2a3f5f"
            },
            "type": "carpet"
           }
          ],
          "choropleth": [
           {
            "colorbar": {
             "outlinewidth": 0,
             "ticks": ""
            },
            "type": "choropleth"
           }
          ],
          "contour": [
           {
            "colorbar": {
             "outlinewidth": 0,
             "ticks": ""
            },
            "colorscale": [
             [
              0,
              "#0d0887"
             ],
             [
              0.1111111111111111,
              "#46039f"
             ],
             [
              0.2222222222222222,
              "#7201a8"
             ],
             [
              0.3333333333333333,
              "#9c179e"
             ],
             [
              0.4444444444444444,
              "#bd3786"
             ],
             [
              0.5555555555555556,
              "#d8576b"
             ],
             [
              0.6666666666666666,
              "#ed7953"
             ],
             [
              0.7777777777777778,
              "#fb9f3a"
             ],
             [
              0.8888888888888888,
              "#fdca26"
             ],
             [
              1,
              "#f0f921"
             ]
            ],
            "type": "contour"
           }
          ],
          "contourcarpet": [
           {
            "colorbar": {
             "outlinewidth": 0,
             "ticks": ""
            },
            "type": "contourcarpet"
           }
          ],
          "heatmap": [
           {
            "colorbar": {
             "outlinewidth": 0,
             "ticks": ""
            },
            "colorscale": [
             [
              0,
              "#0d0887"
             ],
             [
              0.1111111111111111,
              "#46039f"
             ],
             [
              0.2222222222222222,
              "#7201a8"
             ],
             [
              0.3333333333333333,
              "#9c179e"
             ],
             [
              0.4444444444444444,
              "#bd3786"
             ],
             [
              0.5555555555555556,
              "#d8576b"
             ],
             [
              0.6666666666666666,
              "#ed7953"
             ],
             [
              0.7777777777777778,
              "#fb9f3a"
             ],
             [
              0.8888888888888888,
              "#fdca26"
             ],
             [
              1,
              "#f0f921"
             ]
            ],
            "type": "heatmap"
           }
          ],
          "heatmapgl": [
           {
            "colorbar": {
             "outlinewidth": 0,
             "ticks": ""
            },
            "colorscale": [
             [
              0,
              "#0d0887"
             ],
             [
              0.1111111111111111,
              "#46039f"
             ],
             [
              0.2222222222222222,
              "#7201a8"
             ],
             [
              0.3333333333333333,
              "#9c179e"
             ],
             [
              0.4444444444444444,
              "#bd3786"
             ],
             [
              0.5555555555555556,
              "#d8576b"
             ],
             [
              0.6666666666666666,
              "#ed7953"
             ],
             [
              0.7777777777777778,
              "#fb9f3a"
             ],
             [
              0.8888888888888888,
              "#fdca26"
             ],
             [
              1,
              "#f0f921"
             ]
            ],
            "type": "heatmapgl"
           }
          ],
          "histogram": [
           {
            "marker": {
             "pattern": {
              "fillmode": "overlay",
              "size": 10,
              "solidity": 0.2
             }
            },
            "type": "histogram"
           }
          ],
          "histogram2d": [
           {
            "colorbar": {
             "outlinewidth": 0,
             "ticks": ""
            },
            "colorscale": [
             [
              0,
              "#0d0887"
             ],
             [
              0.1111111111111111,
              "#46039f"
             ],
             [
              0.2222222222222222,
              "#7201a8"
             ],
             [
              0.3333333333333333,
              "#9c179e"
             ],
             [
              0.4444444444444444,
              "#bd3786"
             ],
             [
              0.5555555555555556,
              "#d8576b"
             ],
             [
              0.6666666666666666,
              "#ed7953"
             ],
             [
              0.7777777777777778,
              "#fb9f3a"
             ],
             [
              0.8888888888888888,
              "#fdca26"
             ],
             [
              1,
              "#f0f921"
             ]
            ],
            "type": "histogram2d"
           }
          ],
          "histogram2dcontour": [
           {
            "colorbar": {
             "outlinewidth": 0,
             "ticks": ""
            },
            "colorscale": [
             [
              0,
              "#0d0887"
             ],
             [
              0.1111111111111111,
              "#46039f"
             ],
             [
              0.2222222222222222,
              "#7201a8"
             ],
             [
              0.3333333333333333,
              "#9c179e"
             ],
             [
              0.4444444444444444,
              "#bd3786"
             ],
             [
              0.5555555555555556,
              "#d8576b"
             ],
             [
              0.6666666666666666,
              "#ed7953"
             ],
             [
              0.7777777777777778,
              "#fb9f3a"
             ],
             [
              0.8888888888888888,
              "#fdca26"
             ],
             [
              1,
              "#f0f921"
             ]
            ],
            "type": "histogram2dcontour"
           }
          ],
          "mesh3d": [
           {
            "colorbar": {
             "outlinewidth": 0,
             "ticks": ""
            },
            "type": "mesh3d"
           }
          ],
          "parcoords": [
           {
            "line": {
             "colorbar": {
              "outlinewidth": 0,
              "ticks": ""
             }
            },
            "type": "parcoords"
           }
          ],
          "pie": [
           {
            "automargin": true,
            "type": "pie"
           }
          ],
          "scatter": [
           {
            "fillpattern": {
             "fillmode": "overlay",
             "size": 10,
             "solidity": 0.2
            },
            "type": "scatter"
           }
          ],
          "scatter3d": [
           {
            "line": {
             "colorbar": {
              "outlinewidth": 0,
              "ticks": ""
             }
            },
            "marker": {
             "colorbar": {
              "outlinewidth": 0,
              "ticks": ""
             }
            },
            "type": "scatter3d"
           }
          ],
          "scattercarpet": [
           {
            "marker": {
             "colorbar": {
              "outlinewidth": 0,
              "ticks": ""
             }
            },
            "type": "scattercarpet"
           }
          ],
          "scattergeo": [
           {
            "marker": {
             "colorbar": {
              "outlinewidth": 0,
              "ticks": ""
             }
            },
            "type": "scattergeo"
           }
          ],
          "scattergl": [
           {
            "marker": {
             "colorbar": {
              "outlinewidth": 0,
              "ticks": ""
             }
            },
            "type": "scattergl"
           }
          ],
          "scattermapbox": [
           {
            "marker": {
             "colorbar": {
              "outlinewidth": 0,
              "ticks": ""
             }
            },
            "type": "scattermapbox"
           }
          ],
          "scatterpolar": [
           {
            "marker": {
             "colorbar": {
              "outlinewidth": 0,
              "ticks": ""
             }
            },
            "type": "scatterpolar"
           }
          ],
          "scatterpolargl": [
           {
            "marker": {
             "colorbar": {
              "outlinewidth": 0,
              "ticks": ""
             }
            },
            "type": "scatterpolargl"
           }
          ],
          "scatterternary": [
           {
            "marker": {
             "colorbar": {
              "outlinewidth": 0,
              "ticks": ""
             }
            },
            "type": "scatterternary"
           }
          ],
          "surface": [
           {
            "colorbar": {
             "outlinewidth": 0,
             "ticks": ""
            },
            "colorscale": [
             [
              0,
              "#0d0887"
             ],
             [
              0.1111111111111111,
              "#46039f"
             ],
             [
              0.2222222222222222,
              "#7201a8"
             ],
             [
              0.3333333333333333,
              "#9c179e"
             ],
             [
              0.4444444444444444,
              "#bd3786"
             ],
             [
              0.5555555555555556,
              "#d8576b"
             ],
             [
              0.6666666666666666,
              "#ed7953"
             ],
             [
              0.7777777777777778,
              "#fb9f3a"
             ],
             [
              0.8888888888888888,
              "#fdca26"
             ],
             [
              1,
              "#f0f921"
             ]
            ],
            "type": "surface"
           }
          ],
          "table": [
           {
            "cells": {
             "fill": {
              "color": "#EBF0F8"
             },
             "line": {
              "color": "white"
             }
            },
            "header": {
             "fill": {
              "color": "#C8D4E3"
             },
             "line": {
              "color": "white"
             }
            },
            "type": "table"
           }
          ]
         },
         "layout": {
          "annotationdefaults": {
           "arrowcolor": "#2a3f5f",
           "arrowhead": 0,
           "arrowwidth": 1
          },
          "autotypenumbers": "strict",
          "coloraxis": {
           "colorbar": {
            "outlinewidth": 0,
            "ticks": ""
           }
          },
          "colorscale": {
           "diverging": [
            [
             0,
             "#8e0152"
            ],
            [
             0.1,
             "#c51b7d"
            ],
            [
             0.2,
             "#de77ae"
            ],
            [
             0.3,
             "#f1b6da"
            ],
            [
             0.4,
             "#fde0ef"
            ],
            [
             0.5,
             "#f7f7f7"
            ],
            [
             0.6,
             "#e6f5d0"
            ],
            [
             0.7,
             "#b8e186"
            ],
            [
             0.8,
             "#7fbc41"
            ],
            [
             0.9,
             "#4d9221"
            ],
            [
             1,
             "#276419"
            ]
           ],
           "sequential": [
            [
             0,
             "#0d0887"
            ],
            [
             0.1111111111111111,
             "#46039f"
            ],
            [
             0.2222222222222222,
             "#7201a8"
            ],
            [
             0.3333333333333333,
             "#9c179e"
            ],
            [
             0.4444444444444444,
             "#bd3786"
            ],
            [
             0.5555555555555556,
             "#d8576b"
            ],
            [
             0.6666666666666666,
             "#ed7953"
            ],
            [
             0.7777777777777778,
             "#fb9f3a"
            ],
            [
             0.8888888888888888,
             "#fdca26"
            ],
            [
             1,
             "#f0f921"
            ]
           ],
           "sequentialminus": [
            [
             0,
             "#0d0887"
            ],
            [
             0.1111111111111111,
             "#46039f"
            ],
            [
             0.2222222222222222,
             "#7201a8"
            ],
            [
             0.3333333333333333,
             "#9c179e"
            ],
            [
             0.4444444444444444,
             "#bd3786"
            ],
            [
             0.5555555555555556,
             "#d8576b"
            ],
            [
             0.6666666666666666,
             "#ed7953"
            ],
            [
             0.7777777777777778,
             "#fb9f3a"
            ],
            [
             0.8888888888888888,
             "#fdca26"
            ],
            [
             1,
             "#f0f921"
            ]
           ]
          },
          "colorway": [
           "#636efa",
           "#EF553B",
           "#00cc96",
           "#ab63fa",
           "#FFA15A",
           "#19d3f3",
           "#FF6692",
           "#B6E880",
           "#FF97FF",
           "#FECB52"
          ],
          "font": {
           "color": "#2a3f5f"
          },
          "geo": {
           "bgcolor": "white",
           "lakecolor": "white",
           "landcolor": "#E5ECF6",
           "showlakes": true,
           "showland": true,
           "subunitcolor": "white"
          },
          "hoverlabel": {
           "align": "left"
          },
          "hovermode": "closest",
          "mapbox": {
           "style": "light"
          },
          "paper_bgcolor": "white",
          "plot_bgcolor": "#E5ECF6",
          "polar": {
           "angularaxis": {
            "gridcolor": "white",
            "linecolor": "white",
            "ticks": ""
           },
           "bgcolor": "#E5ECF6",
           "radialaxis": {
            "gridcolor": "white",
            "linecolor": "white",
            "ticks": ""
           }
          },
          "scene": {
           "xaxis": {
            "backgroundcolor": "#E5ECF6",
            "gridcolor": "white",
            "gridwidth": 2,
            "linecolor": "white",
            "showbackground": true,
            "ticks": "",
            "zerolinecolor": "white"
           },
           "yaxis": {
            "backgroundcolor": "#E5ECF6",
            "gridcolor": "white",
            "gridwidth": 2,
            "linecolor": "white",
            "showbackground": true,
            "ticks": "",
            "zerolinecolor": "white"
           },
           "zaxis": {
            "backgroundcolor": "#E5ECF6",
            "gridcolor": "white",
            "gridwidth": 2,
            "linecolor": "white",
            "showbackground": true,
            "ticks": "",
            "zerolinecolor": "white"
           }
          },
          "shapedefaults": {
           "line": {
            "color": "#2a3f5f"
           }
          },
          "ternary": {
           "aaxis": {
            "gridcolor": "white",
            "linecolor": "white",
            "ticks": ""
           },
           "baxis": {
            "gridcolor": "white",
            "linecolor": "white",
            "ticks": ""
           },
           "bgcolor": "#E5ECF6",
           "caxis": {
            "gridcolor": "white",
            "linecolor": "white",
            "ticks": ""
           }
          },
          "title": {
           "x": 0.05
          },
          "xaxis": {
           "automargin": true,
           "gridcolor": "white",
           "linecolor": "white",
           "ticks": "",
           "title": {
            "standoff": 15
           },
           "zerolinecolor": "white",
           "zerolinewidth": 2
          },
          "yaxis": {
           "automargin": true,
           "gridcolor": "white",
           "linecolor": "white",
           "ticks": "",
           "title": {
            "standoff": 15
           },
           "zerolinecolor": "white",
           "zerolinewidth": 2
          }
         }
        },
        "title": {
         "text": "Number of trips per day of the week"
        },
        "xaxis": {
         "title": {
          "text": "Day of the week"
         }
        },
        "yaxis": {
         "title": {
          "text": "Number of trips"
         }
        }
       }
      }
     },
     "metadata": {},
     "output_type": "display_data"
    }
   ],
   "source": [
    "# visualizing the day of the week\n",
    "import plotly as py\n",
    "import plotly.graph_objs as go\n",
    "import plotly.offline as pyo\n",
    "\n",
    "# create a dataframe with the day of the week and the number of trips\n",
    "days_df = yearly_data_without_outliers.groupby('day_of_week').size().reset_index(name='number_of_trips')\n",
    "\n",
    "days_order = ['Monday', 'Tuesday', 'Wednesday', 'Thursday', 'Friday', 'Saturday', 'Sunday']\n",
    "\n",
    "days_df['day_of_week'] = pd.Categorical(days_df['day_of_week'], categories=days_order, ordered=True)\n",
    "days_df = days_df.sort_values('day_of_week')\n",
    "\n",
    "# create a bar chart\n",
    "data = [go.Bar(\n",
    "            x=days_df['day_of_week'],\n",
    "            y=days_df['number_of_trips']\n",
    "    )]\n",
    "fig = go.Figure(data=data)\n",
    "\n",
    "# add title and axis labels\n",
    "fig.update_layout(\n",
    "    title=\"Number of trips per day of the week\",\n",
    "    xaxis_title=\"Day of the week\",\n",
    "    yaxis_title=\"Number of trips\",\n",
    "    font=dict(\n",
    "        family=\"Courier New, monospace\",\n",
    "        size=18,\n",
    "        color=\"#b92c00\"\n",
    "    )\n",
    ")\n",
    "\n",
    "# show the plot\n",
    "pyo.iplot(fig)"
   ]
  }
 ],
 "metadata": {
  "kernelspec": {
   "display_name": "base",
   "language": "python",
   "name": "python3"
  },
  "language_info": {
   "codemirror_mode": {
    "name": "ipython",
    "version": 3
   },
   "file_extension": ".py",
   "mimetype": "text/x-python",
   "name": "python",
   "nbconvert_exporter": "python",
   "pygments_lexer": "ipython3",
   "version": "3.9.16"
  },
  "orig_nbformat": 4
 },
 "nbformat": 4,
 "nbformat_minor": 2
}
