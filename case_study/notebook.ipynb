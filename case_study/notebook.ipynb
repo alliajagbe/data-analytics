{
 "cells": [
  {
   "cell_type": "markdown",
   "metadata": {},
   "source": [
    "# **Cyclistic Case Study**"
   ]
  },
  {
   "cell_type": "markdown",
   "metadata": {},
   "source": [
    "### About the Company\n",
    "In 2016, Cyclistic launched a successful bike-share offering. Since then, the program has grown to a fleet of 5,824 bicycles that are geotracked and locked into a network of 692 stations across Chicago. The bikes can be unlocked from one station and returned to any other station in the system anytime. - Google Data Amalytics Professional Certificate"
   ]
  },
  {
   "cell_type": "markdown",
   "metadata": {},
   "source": [
    "### Services Offered:\n",
    "- Single-Ride Passes\n",
    "- Full-Day Passes\n",
    "- Annual Memberships\n",
    "\n",
    "### Customer Segment:\n",
    "- Customers who purchase single-ride or full-day passes are referred to as casual riders.\n",
    "- Customers who purchase annual memberships are Cyclistic members."
   ]
  },
  {
   "cell_type": "markdown",
   "metadata": {},
   "source": [
    "### Finance Analysts Speculation\n",
    "- Annual members are much more profitable than casual riders.\n",
    "- According to Moreno, the company's director of marketing, maximizing the number of annual members will be key to the company's future success.\n",
    "\n",
    "### Notes from Moreno\n",
    "- Rather than creating a marketing campaign that targets all-new customers, the company should focus on converting casual riders into annual members.\n",
    "- Casual riders are already aware of the company's program and have chosen Cyclistic for their mobility needs."
   ]
  },
  {
   "cell_type": "markdown",
   "metadata": {},
   "source": [
    "# Case Study Deliverables:\n",
    "- A clear statement of the business task\n",
    "- A description of all data sources used\n",
    "- Documentation of any cleaning or manipulation of data\n",
    "- A summary of analysis\n",
    "- Supporting visualizations and key findings\n",
    "- Top 3 Recommendations based on analysis"
   ]
  },
  {
   "cell_type": "markdown",
   "metadata": {},
   "source": [
    "# **Question to be Answered: How do annual members and casual riders use Cyclistic bikes differently?**"
   ]
  },
  {
   "cell_type": "markdown",
   "metadata": {},
   "source": [
    "# **Ask Phase**"
   ]
  },
  {
   "cell_type": "markdown",
   "metadata": {},
   "source": [
    "| **Guiding Questions**                         |              **Answers** |\n",
    "|-------------------------------------------|:--------------------:|\n",
    "| What is the problem I am trying to solve? |   Profit maximization for Cyclistic by turning casual riders into annual members   |\n",
    "| How can my insights drive business decisions?      |  Understanding the difference between the riding patterns of Cyclistic's customer audience could potentially lead to actionable steps and drive marketing campaigns that easily converts casual riders into annual members |"
   ]
  },
  {
   "cell_type": "markdown",
   "metadata": {},
   "source": [
    "### Deliverable: Concise and Clear Statement of the Business Task\n",
    "**_Analyze and vary the bike usage patterns for both casual riders and annual members._** "
   ]
  },
  {
   "cell_type": "markdown",
   "metadata": {},
   "source": [
    "# **Prepare Phase**"
   ]
  },
  {
   "cell_type": "markdown",
   "metadata": {},
   "source": [
    "| **Guiding Questions**                         |              **Answers** |\n",
    "|-------------------------------------------|:--------------------:|\n",
    "| Where is the data located? |   The riding data has been provided by Motivate International Inc. and is stored on Amazon Web Service (AWS); a reputable cloud provider.   |\n",
    "| How is the data organized?     | <ol><li> Comma Separated Files </li><li>Proper naming convention followed except for the case of September 2022</li><li>All data files have the same number of columns and all column names are exactly the same.</li></ol> |\n",
    "| Are there issues with bias or credibility in the data?     | <ol><li>The data being used for analysis is time-relevant as it is of the immediate past 12 months.</li><li>The data is from a primary source as it was collected in real-time by the company itself using their app.</li><li>The data files have a number of missing values/datapoints which can hamper the effectiveness of the resulting analysis.</li></ol> |\n",
    "| How are components like licensing, privacy, security, and accessibility addressed?    |  <ol><li> The data is licensed under the Divvy company via this [link](https://www.divvybikes.com/data-license-agreement) but cannot be accessed because the server is down and hence, raises a concern. </li> <li> The data is opensource, hence publicly accessible to anyone that might require it. </li><li>Due to privacy issues, the riders' id information have been altered to protect against the possible connection between pass purchases and credit card numbers.</li></ol> |"
   ]
  },
  {
   "cell_type": "markdown",
   "metadata": {},
   "source": [
    "### Inspecting the Data"
   ]
  },
  {
   "cell_type": "code",
   "execution_count": 1,
   "metadata": {},
   "outputs": [],
   "source": [
    "import pandas as pd"
   ]
  },
  {
   "cell_type": "markdown",
   "metadata": {},
   "source": [
    "#### Loading all the Data"
   ]
  },
  {
   "cell_type": "code",
   "execution_count": 7,
   "metadata": {},
   "outputs": [
    {
     "data": {
      "text/plain": [
       "'c:\\\\Users\\\\Alli Ajagbe\\\\OneDrive - Plaksha University\\\\Desktop\\\\Data Analytics\\\\case_study'"
      ]
     },
     "execution_count": 7,
     "metadata": {},
     "output_type": "execute_result"
    }
   ],
   "source": [
    "import os\n",
    "# check current working directory\n",
    "os.getcwd()"
   ]
  },
  {
   "cell_type": "code",
   "execution_count": 13,
   "metadata": {},
   "outputs": [],
   "source": [
    "june2023 = pd.read_csv(\"../../divvy-data/202306-divvy-tripdata.csv\")\n",
    "may2023 = pd.read_csv(\"../../divvy-data/202305-divvy-tripdata.csv\")\n",
    "april2023 = pd.read_csv(\"../../divvy-data/202304-divvy-tripdata.csv\")\n",
    "march2023 = pd.read_csv(\"../../divvy-data/202303-divvy-tripdata.csv\")\n",
    "february2023 = pd.read_csv(\"../../divvy-data/202302-divvy-tripdata.csv\")\n",
    "january2023 = pd.read_csv(\"../../divvy-data/202301-divvy-tripdata.csv\")\n",
    "december2022 = pd.read_csv(\"../../divvy-data/202212-divvy-tripdata.csv\")\n",
    "november2022 = pd.read_csv(\"../../divvy-data/202211-divvy-tripdata.csv\")\n",
    "october2022 = pd.read_csv(\"../../divvy-data/202210-divvy-tripdata.csv\")\n",
    "september2022 = pd.read_csv(\"../../divvy-data/202209-divvy-publictripdata.csv\")\n",
    "august2022 = pd.read_csv(\"../../divvy-data/202208-divvy-tripdata.csv\")\n",
    "july2022 = pd.read_csv(\"../../divvy-data/202207-divvy-tripdata.csv\")"
   ]
  },
  {
   "cell_type": "markdown",
   "metadata": {},
   "source": [
    "#### Columns Check"
   ]
  },
  {
   "cell_type": "code",
   "execution_count": 19,
   "metadata": {},
   "outputs": [
    {
     "name": "stdout",
     "output_type": "stream",
     "text": [
      "All files have the same columns.\n"
     ]
    }
   ],
   "source": [
    "# asserting that all files have the same columns\n",
    "all_dfs = [june2023, may2023, april2023, march2023, february2023, january2023, december2022, november2022, october2022, september2022, august2022, july2022]\n",
    "df = all_dfs[0]\n",
    "assert all([all(df.columns == df2.columns) for df2 in all_dfs])\n",
    "print('All files have the same columns.')"
   ]
  },
  {
   "cell_type": "code",
   "execution_count": 21,
   "metadata": {},
   "outputs": [
    {
     "data": {
      "text/html": [
       "<div>\n",
       "<style scoped>\n",
       "    .dataframe tbody tr th:only-of-type {\n",
       "        vertical-align: middle;\n",
       "    }\n",
       "\n",
       "    .dataframe tbody tr th {\n",
       "        vertical-align: top;\n",
       "    }\n",
       "\n",
       "    .dataframe thead th {\n",
       "        text-align: right;\n",
       "    }\n",
       "</style>\n",
       "<table border=\"1\" class=\"dataframe\">\n",
       "  <thead>\n",
       "    <tr style=\"text-align: right;\">\n",
       "      <th></th>\n",
       "      <th>ride_id</th>\n",
       "      <th>rideable_type</th>\n",
       "      <th>started_at</th>\n",
       "      <th>ended_at</th>\n",
       "      <th>start_station_name</th>\n",
       "      <th>start_station_id</th>\n",
       "      <th>end_station_name</th>\n",
       "      <th>end_station_id</th>\n",
       "      <th>start_lat</th>\n",
       "      <th>start_lng</th>\n",
       "      <th>end_lat</th>\n",
       "      <th>end_lng</th>\n",
       "      <th>member_casual</th>\n",
       "    </tr>\n",
       "  </thead>\n",
       "  <tbody>\n",
       "    <tr>\n",
       "      <th>0</th>\n",
       "      <td>6F1682AC40EB6F71</td>\n",
       "      <td>electric_bike</td>\n",
       "      <td>2023-06-05 13:34:12</td>\n",
       "      <td>2023-06-05 14:31:56</td>\n",
       "      <td>NaN</td>\n",
       "      <td>NaN</td>\n",
       "      <td>NaN</td>\n",
       "      <td>NaN</td>\n",
       "      <td>41.910000</td>\n",
       "      <td>-87.690000</td>\n",
       "      <td>41.910000</td>\n",
       "      <td>-87.700000</td>\n",
       "      <td>member</td>\n",
       "    </tr>\n",
       "    <tr>\n",
       "      <th>1</th>\n",
       "      <td>622A1686D64948EB</td>\n",
       "      <td>electric_bike</td>\n",
       "      <td>2023-06-05 01:30:22</td>\n",
       "      <td>2023-06-05 01:33:06</td>\n",
       "      <td>NaN</td>\n",
       "      <td>NaN</td>\n",
       "      <td>NaN</td>\n",
       "      <td>NaN</td>\n",
       "      <td>41.940000</td>\n",
       "      <td>-87.650000</td>\n",
       "      <td>41.940000</td>\n",
       "      <td>-87.650000</td>\n",
       "      <td>member</td>\n",
       "    </tr>\n",
       "    <tr>\n",
       "      <th>2</th>\n",
       "      <td>3C88859D926253B4</td>\n",
       "      <td>electric_bike</td>\n",
       "      <td>2023-06-20 18:15:49</td>\n",
       "      <td>2023-06-20 18:32:05</td>\n",
       "      <td>NaN</td>\n",
       "      <td>NaN</td>\n",
       "      <td>NaN</td>\n",
       "      <td>NaN</td>\n",
       "      <td>41.950000</td>\n",
       "      <td>-87.680000</td>\n",
       "      <td>41.920000</td>\n",
       "      <td>-87.630000</td>\n",
       "      <td>member</td>\n",
       "    </tr>\n",
       "    <tr>\n",
       "      <th>3</th>\n",
       "      <td>EAD8A5E0259DEC88</td>\n",
       "      <td>electric_bike</td>\n",
       "      <td>2023-06-19 14:56:00</td>\n",
       "      <td>2023-06-19 15:00:35</td>\n",
       "      <td>NaN</td>\n",
       "      <td>NaN</td>\n",
       "      <td>NaN</td>\n",
       "      <td>NaN</td>\n",
       "      <td>41.990000</td>\n",
       "      <td>-87.650000</td>\n",
       "      <td>41.980000</td>\n",
       "      <td>-87.660000</td>\n",
       "      <td>member</td>\n",
       "    </tr>\n",
       "    <tr>\n",
       "      <th>4</th>\n",
       "      <td>5A36F21930D6A55C</td>\n",
       "      <td>electric_bike</td>\n",
       "      <td>2023-06-19 15:03:34</td>\n",
       "      <td>2023-06-19 15:07:16</td>\n",
       "      <td>NaN</td>\n",
       "      <td>NaN</td>\n",
       "      <td>NaN</td>\n",
       "      <td>NaN</td>\n",
       "      <td>41.980000</td>\n",
       "      <td>-87.660000</td>\n",
       "      <td>41.990000</td>\n",
       "      <td>-87.650000</td>\n",
       "      <td>member</td>\n",
       "    </tr>\n",
       "    <tr>\n",
       "      <th>...</th>\n",
       "      <td>...</td>\n",
       "      <td>...</td>\n",
       "      <td>...</td>\n",
       "      <td>...</td>\n",
       "      <td>...</td>\n",
       "      <td>...</td>\n",
       "      <td>...</td>\n",
       "      <td>...</td>\n",
       "      <td>...</td>\n",
       "      <td>...</td>\n",
       "      <td>...</td>\n",
       "      <td>...</td>\n",
       "      <td>...</td>\n",
       "    </tr>\n",
       "    <tr>\n",
       "      <th>719613</th>\n",
       "      <td>D7BBF4BCBB72DA32</td>\n",
       "      <td>classic_bike</td>\n",
       "      <td>2023-06-30 12:58:56</td>\n",
       "      <td>2023-06-30 13:41:25</td>\n",
       "      <td>Fairbanks Ct &amp; Grand Ave</td>\n",
       "      <td>TA1305000003</td>\n",
       "      <td>California Ave &amp; Milwaukee Ave</td>\n",
       "      <td>13084</td>\n",
       "      <td>41.891847</td>\n",
       "      <td>-87.620580</td>\n",
       "      <td>41.922695</td>\n",
       "      <td>-87.697153</td>\n",
       "      <td>casual</td>\n",
       "    </tr>\n",
       "    <tr>\n",
       "      <th>719614</th>\n",
       "      <td>9A1685F9A39646CA</td>\n",
       "      <td>electric_bike</td>\n",
       "      <td>2023-06-29 19:56:44</td>\n",
       "      <td>2023-06-29 20:09:15</td>\n",
       "      <td>Fairbanks Ct &amp; Grand Ave</td>\n",
       "      <td>TA1305000003</td>\n",
       "      <td>NaN</td>\n",
       "      <td>NaN</td>\n",
       "      <td>41.891970</td>\n",
       "      <td>-87.620198</td>\n",
       "      <td>41.890000</td>\n",
       "      <td>-87.610000</td>\n",
       "      <td>casual</td>\n",
       "    </tr>\n",
       "    <tr>\n",
       "      <th>719615</th>\n",
       "      <td>CD4CC5A60881C7AF</td>\n",
       "      <td>electric_bike</td>\n",
       "      <td>2023-06-25 00:27:20</td>\n",
       "      <td>2023-06-25 00:39:09</td>\n",
       "      <td>Clark St &amp; Lincoln Ave</td>\n",
       "      <td>13179</td>\n",
       "      <td>NaN</td>\n",
       "      <td>NaN</td>\n",
       "      <td>41.915745</td>\n",
       "      <td>-87.634604</td>\n",
       "      <td>41.920000</td>\n",
       "      <td>-87.650000</td>\n",
       "      <td>casual</td>\n",
       "    </tr>\n",
       "    <tr>\n",
       "      <th>719616</th>\n",
       "      <td>FF6594685CFE2056</td>\n",
       "      <td>electric_bike</td>\n",
       "      <td>2023-06-24 21:26:57</td>\n",
       "      <td>2023-06-24 21:28:44</td>\n",
       "      <td>Fairbanks Ct &amp; Grand Ave</td>\n",
       "      <td>TA1305000003</td>\n",
       "      <td>NaN</td>\n",
       "      <td>NaN</td>\n",
       "      <td>41.891725</td>\n",
       "      <td>-87.620607</td>\n",
       "      <td>41.890000</td>\n",
       "      <td>-87.620000</td>\n",
       "      <td>casual</td>\n",
       "    </tr>\n",
       "    <tr>\n",
       "      <th>719617</th>\n",
       "      <td>66EF9F3C318208B9</td>\n",
       "      <td>classic_bike</td>\n",
       "      <td>2023-06-24 21:30:30</td>\n",
       "      <td>2023-06-25 22:30:07</td>\n",
       "      <td>Fairbanks Ct &amp; Grand Ave</td>\n",
       "      <td>TA1305000003</td>\n",
       "      <td>NaN</td>\n",
       "      <td>NaN</td>\n",
       "      <td>41.891847</td>\n",
       "      <td>-87.620580</td>\n",
       "      <td>NaN</td>\n",
       "      <td>NaN</td>\n",
       "      <td>casual</td>\n",
       "    </tr>\n",
       "  </tbody>\n",
       "</table>\n",
       "<p>719618 rows × 13 columns</p>\n",
       "</div>"
      ],
      "text/plain": [
       "                 ride_id  rideable_type           started_at  \\\n",
       "0       6F1682AC40EB6F71  electric_bike  2023-06-05 13:34:12   \n",
       "1       622A1686D64948EB  electric_bike  2023-06-05 01:30:22   \n",
       "2       3C88859D926253B4  electric_bike  2023-06-20 18:15:49   \n",
       "3       EAD8A5E0259DEC88  electric_bike  2023-06-19 14:56:00   \n",
       "4       5A36F21930D6A55C  electric_bike  2023-06-19 15:03:34   \n",
       "...                  ...            ...                  ...   \n",
       "719613  D7BBF4BCBB72DA32   classic_bike  2023-06-30 12:58:56   \n",
       "719614  9A1685F9A39646CA  electric_bike  2023-06-29 19:56:44   \n",
       "719615  CD4CC5A60881C7AF  electric_bike  2023-06-25 00:27:20   \n",
       "719616  FF6594685CFE2056  electric_bike  2023-06-24 21:26:57   \n",
       "719617  66EF9F3C318208B9   classic_bike  2023-06-24 21:30:30   \n",
       "\n",
       "                   ended_at        start_station_name start_station_id  \\\n",
       "0       2023-06-05 14:31:56                       NaN              NaN   \n",
       "1       2023-06-05 01:33:06                       NaN              NaN   \n",
       "2       2023-06-20 18:32:05                       NaN              NaN   \n",
       "3       2023-06-19 15:00:35                       NaN              NaN   \n",
       "4       2023-06-19 15:07:16                       NaN              NaN   \n",
       "...                     ...                       ...              ...   \n",
       "719613  2023-06-30 13:41:25  Fairbanks Ct & Grand Ave     TA1305000003   \n",
       "719614  2023-06-29 20:09:15  Fairbanks Ct & Grand Ave     TA1305000003   \n",
       "719615  2023-06-25 00:39:09    Clark St & Lincoln Ave            13179   \n",
       "719616  2023-06-24 21:28:44  Fairbanks Ct & Grand Ave     TA1305000003   \n",
       "719617  2023-06-25 22:30:07  Fairbanks Ct & Grand Ave     TA1305000003   \n",
       "\n",
       "                      end_station_name end_station_id  start_lat  start_lng  \\\n",
       "0                                  NaN            NaN  41.910000 -87.690000   \n",
       "1                                  NaN            NaN  41.940000 -87.650000   \n",
       "2                                  NaN            NaN  41.950000 -87.680000   \n",
       "3                                  NaN            NaN  41.990000 -87.650000   \n",
       "4                                  NaN            NaN  41.980000 -87.660000   \n",
       "...                                ...            ...        ...        ...   \n",
       "719613  California Ave & Milwaukee Ave          13084  41.891847 -87.620580   \n",
       "719614                             NaN            NaN  41.891970 -87.620198   \n",
       "719615                             NaN            NaN  41.915745 -87.634604   \n",
       "719616                             NaN            NaN  41.891725 -87.620607   \n",
       "719617                             NaN            NaN  41.891847 -87.620580   \n",
       "\n",
       "          end_lat    end_lng member_casual  \n",
       "0       41.910000 -87.700000        member  \n",
       "1       41.940000 -87.650000        member  \n",
       "2       41.920000 -87.630000        member  \n",
       "3       41.980000 -87.660000        member  \n",
       "4       41.990000 -87.650000        member  \n",
       "...           ...        ...           ...  \n",
       "719613  41.922695 -87.697153        casual  \n",
       "719614  41.890000 -87.610000        casual  \n",
       "719615  41.920000 -87.650000        casual  \n",
       "719616  41.890000 -87.620000        casual  \n",
       "719617        NaN        NaN        casual  \n",
       "\n",
       "[719618 rows x 13 columns]"
      ]
     },
     "execution_count": 21,
     "metadata": {},
     "output_type": "execute_result"
    }
   ],
   "source": [
    "june2023"
   ]
  }
 ],
 "metadata": {
  "kernelspec": {
   "display_name": "base",
   "language": "python",
   "name": "python3"
  },
  "language_info": {
   "codemirror_mode": {
    "name": "ipython",
    "version": 3
   },
   "file_extension": ".py",
   "mimetype": "text/x-python",
   "name": "python",
   "nbconvert_exporter": "python",
   "pygments_lexer": "ipython3",
   "version": "3.9.16"
  },
  "orig_nbformat": 4
 },
 "nbformat": 4,
 "nbformat_minor": 2
}
