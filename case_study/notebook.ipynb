{
 "cells": [
  {
   "cell_type": "markdown",
   "metadata": {},
   "source": [
    "# **Cyclistic Case Study**"
   ]
  },
  {
   "cell_type": "markdown",
   "metadata": {},
   "source": [
    "### About the Company\n",
    "In 2016, Cyclistic launched a successful bike-share offering. Since then, the program has grown to a fleet of 5,824 bicycles that are geotracked and locked into a network of 692 stations across Chicago. The bikes can be unlocked from one station and returned to any other station in the system anytime. - Google Data Amalytics Professional Certificate"
   ]
  },
  {
   "cell_type": "markdown",
   "metadata": {},
   "source": [
    "### Services Offered:\n",
    "- Single-Ride Passes\n",
    "- Full-Day Passes\n",
    "- Annual Memberships\n",
    "\n",
    "### Customer Segment:\n",
    "- Customers who purchase single-ride or full-day passes are referred to as casual riders.\n",
    "- Customers who purchase annual memberships are Cyclistic members."
   ]
  },
  {
   "cell_type": "markdown",
   "metadata": {},
   "source": [
    "### Finance Analysts Speculation\n",
    "- Annual members are much more profitable than casual riders.\n",
    "- According to Moreno, the company's director of marketing, maximizing the number of annual members will be key to the company's future success.\n",
    "\n",
    "### Notes from Moreno\n",
    "- Rather than creating a marketing campaign that targets all-new customers, the company should focus on converting casual riders into annual members.\n",
    "- Casual riders are already aware of the company's program and have chosen Cyclistic for their mobility needs."
   ]
  }
 ],
 "metadata": {
  "language_info": {
   "name": "python"
  },
  "orig_nbformat": 4
 },
 "nbformat": 4,
 "nbformat_minor": 2
}
