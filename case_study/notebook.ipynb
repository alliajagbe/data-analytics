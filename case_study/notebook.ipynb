{
 "cells": [
  {
   "cell_type": "markdown",
   "metadata": {},
   "source": [
    "# **Cyclistic Case Study**"
   ]
  },
  {
   "cell_type": "markdown",
   "metadata": {},
   "source": [
    "### About the Company\n",
    "In 2016, Cyclistic launched a successful bike-share offering. Since then, the program has grown to a fleet of 5,824 bicycles that are geotracked and locked into a network of 692 stations across Chicago. The bikes can be unlocked from one station and returned to any other station in the system anytime. - Google Data Amalytics Professional Certificate"
   ]
  },
  {
   "cell_type": "markdown",
   "metadata": {},
   "source": [
    "### Services Offered:\n",
    "- Single-Ride Passes\n",
    "- Full-Day Passes\n",
    "- Annual Memberships\n",
    "\n",
    "### Customer Segment:\n",
    "- Customers who purchase single-ride or full-day passes are referred to as casual riders.\n",
    "- Customers who purchase annual memberships are Cyclistic members."
   ]
  },
  {
   "cell_type": "markdown",
   "metadata": {},
   "source": [
    "### Finance Analysts Speculation\n",
    "- Annual members are much more profitable than casual riders.\n",
    "- According to Moreno, the company's director of marketing, maximizing the number of annual members will be key to the company's future success.\n",
    "\n",
    "### Notes from Moreno\n",
    "- Rather than creating a marketing campaign that targets all-new customers, the company should focus on converting casual riders into annual members.\n",
    "- Casual riders are already aware of the company's program and have chosen Cyclistic for their mobility needs."
   ]
  },
  {
   "cell_type": "markdown",
   "metadata": {},
   "source": [
    "# Case Study Deliverables:\n",
    "- A clear statement of the business task\n",
    "- A description of all data sources used\n",
    "- Documentation of any cleaning or manipulation of data\n",
    "- A summary of analysis\n",
    "- Supporting visualizations and key findings\n",
    "- Top 3 Recommendations based on analysis"
   ]
  },
  {
   "cell_type": "markdown",
   "metadata": {},
   "source": [
    "# **Question to be Answered: How do annual members and casual riders use Cyclistic bikes differently?**"
   ]
  },
  {
   "cell_type": "markdown",
   "metadata": {},
   "source": [
    "# **Ask Phase**"
   ]
  },
  {
   "cell_type": "markdown",
   "metadata": {},
   "source": [
    "| **Guiding Questions**                         |              **Answers** |\n",
    "|-------------------------------------------|:--------------------:|\n",
    "| What is the problem I am trying to solve? |   Profit maximization for Cyclistic by turning casual riders into annual members   |\n",
    "| How can my insights drive business decisions?      |  Understanding the difference between the riding patterns of Cyclistic's customer audience could potentially lead to actionable steps and drive marketing campaigns that easily converts casual riders into annual members |"
   ]
  },
  {
   "cell_type": "markdown",
   "metadata": {},
   "source": [
    "### Deliverable: Concise and Clear Statement of the Business Task\n",
    "**_Analyze and vary the bike usage patterns for both casual riders and annual members._** "
   ]
  },
  {
   "cell_type": "markdown",
   "metadata": {},
   "source": [
    "**------------------------------------------------------------------------------------------------------------------------------------------------------------------------------------------------------------------------------------------------------------**\n"
   ]
  },
  {
   "cell_type": "markdown",
   "metadata": {},
   "source": [
    "# **Prepare Phase**"
   ]
  },
  {
   "cell_type": "markdown",
   "metadata": {},
   "source": [
    "| **Guiding Questions**                         |              **Answers** |\n",
    "|-------------------------------------------|:--------------------:|\n",
    "| Where is the data located? |   The riding data has been provided by Motivate International Inc. and is stored on Amazon Web Service (AWS); a reputable cloud provider.   |\n",
    "| How is the data organized?     | <ol><li> Comma Separated Files </li><li>Proper naming convention followed except for the case of September 2022</li><li>All data files have the same number of columns and all column names are exactly the same.</li><li>All columns are of the right data types.</li></ol> |\n",
    "| Are there issues with bias or credibility in the data?     | <ol><li>The data being used for analysis is time-relevant as it is of the immediate past 12 months.</li><li>The data is from a primary source as it was collected in real-time by the company itself using their app.</li><li>There is not much information on how exactly the data were extracted. Hence, it is difficult to comment on whether there is bias in the data collection process.</li><li>The data files have a number of missing values/datapoints which can hamper the effectiveness of the resulting analysis.</li></ol> |\n",
    "| How are components like licensing, privacy, security, and accessibility addressed?    |  <ol><li> The data is licensed under the Divvy company via this [link](https://www.divvybikes.com/data-license-agreement) but cannot be accessed because the server is down and hence, raises a concern. </li> <li> The data is opensource, hence publicly accessible to anyone that might require it. </li><li>Due to privacy issues, the riders' id information have been altered to protect against the possible connection between pass purchases and credit card numbers.</li><li>Copies of the original data files have been made for security purposes and the original files have been stored online using OneDrive.</li></ol> |"
   ]
  },
  {
   "cell_type": "markdown",
   "metadata": {},
   "source": [
    "### Inspecting the Data"
   ]
  },
  {
   "cell_type": "code",
   "execution_count": 1,
   "metadata": {},
   "outputs": [],
   "source": [
    "import pandas as pd"
   ]
  },
  {
   "cell_type": "markdown",
   "metadata": {},
   "source": [
    "#### Loading all the Data"
   ]
  },
  {
   "cell_type": "code",
   "execution_count": 7,
   "metadata": {},
   "outputs": [
    {
     "data": {
      "text/plain": [
       "'c:\\\\Users\\\\Alli Ajagbe\\\\OneDrive - Plaksha University\\\\Desktop\\\\Data Analytics\\\\case_study'"
      ]
     },
     "execution_count": 7,
     "metadata": {},
     "output_type": "execute_result"
    }
   ],
   "source": [
    "import os\n",
    "# check current working directory\n",
    "os.getcwd()"
   ]
  },
  {
   "cell_type": "code",
   "execution_count": 2,
   "metadata": {},
   "outputs": [],
   "source": [
    "june2023 = pd.read_csv(\"../../divvy-data/202306-divvy-tripdata.csv\")\n",
    "may2023 = pd.read_csv(\"../../divvy-data/202305-divvy-tripdata.csv\")\n",
    "april2023 = pd.read_csv(\"../../divvy-data/202304-divvy-tripdata.csv\")\n",
    "march2023 = pd.read_csv(\"../../divvy-data/202303-divvy-tripdata.csv\")\n",
    "february2023 = pd.read_csv(\"../../divvy-data/202302-divvy-tripdata.csv\")\n",
    "january2023 = pd.read_csv(\"../../divvy-data/202301-divvy-tripdata.csv\")\n",
    "december2022 = pd.read_csv(\"../../divvy-data/202212-divvy-tripdata.csv\")\n",
    "november2022 = pd.read_csv(\"../../divvy-data/202211-divvy-tripdata.csv\")\n",
    "october2022 = pd.read_csv(\"../../divvy-data/202210-divvy-tripdata.csv\")\n",
    "september2022 = pd.read_csv(\"../../divvy-data/202209-divvy-publictripdata.csv\")\n",
    "august2022 = pd.read_csv(\"../../divvy-data/202208-divvy-tripdata.csv\")\n",
    "july2022 = pd.read_csv(\"../../divvy-data/202207-divvy-tripdata.csv\")"
   ]
  },
  {
   "cell_type": "markdown",
   "metadata": {},
   "source": [
    "#### Columns Check"
   ]
  },
  {
   "cell_type": "code",
   "execution_count": 3,
   "metadata": {},
   "outputs": [
    {
     "name": "stdout",
     "output_type": "stream",
     "text": [
      "All files have the same columns.\n"
     ]
    }
   ],
   "source": [
    "# asserting that all files have the same columns\n",
    "all_dfs = [june2023, may2023, april2023, march2023, february2023, january2023, december2022, november2022, october2022, september2022, august2022, july2022]\n",
    "df = all_dfs[0]\n",
    "assert all([all(df.columns == df2.columns) for df2 in all_dfs])\n",
    "print('All files have the same columns.')"
   ]
  },
  {
   "cell_type": "code",
   "execution_count": 4,
   "metadata": {},
   "outputs": [
    {
     "name": "stdout",
     "output_type": "stream",
     "text": [
      "ride_id                object\n",
      "rideable_type          object\n",
      "started_at             object\n",
      "ended_at               object\n",
      "start_station_name     object\n",
      "start_station_id       object\n",
      "end_station_name       object\n",
      "end_station_id         object\n",
      "start_lat             float64\n",
      "start_lng             float64\n",
      "end_lat               float64\n",
      "end_lng               float64\n",
      "member_casual          object\n",
      "dtype: object\n"
     ]
    }
   ],
   "source": [
    "# printing the types of the columns\n",
    "print(june2023.dtypes)"
   ]
  },
  {
   "cell_type": "markdown",
   "metadata": {},
   "source": [
    "### Deliverable: A description of all data sources used.\n",
    "\n",
    "**_The data sources used in this analysis consist of riding data provided by Motivate International Inc., a renowned bike-sharing services company. The data is securely stored on Amazon Web Service (AWS), a reputable and reliable cloud provider, ensuring accessibility and data integrity. The dataset is organized in comma-separated files with consistent naming conventions, except for September 2022. Each file contains the same number of columns with consistent names and appropriate data types, ensuring the data's coherence and structure. However, the analysis raises concerns about potential bias due to limited information on the data extraction process. On the positive side, the data represents the past 12 months and is collected in real-time through the company's app, bolstering its credibility and relevance. Nevertheless, the presence of missing values in the dataset may impact the accuracy of the resulting analysis. Additionally, privacy concerns have been addressed by altering riders' ID information to safeguard their identity and protect sensitive data. The data is licensed under Divvy, the bike-sharing company, and although the data is generally open-source, there are challenges related to its current accessibility due to server issues. For security purposes, copies of the original data files have been securely stored online using OneDrive._**"
   ]
  },
  {
   "cell_type": "markdown",
   "metadata": {},
   "source": [
    "**------------------------------------------------------------------------------------------------------------------------------------------------------------------------------------------------------------------------------------------------------------**"
   ]
  },
  {
   "cell_type": "markdown",
   "metadata": {},
   "source": [
    "# **Process Phase**"
   ]
  },
  {
   "cell_type": "markdown",
   "metadata": {},
   "source": [
    "## Analysis Log\n",
    "- Converted the started_at and ended_at columns to datetime for all the month dataframes\n",
    "- Calculated ride length for each ride in all dataframes"
   ]
  },
  {
   "cell_type": "code",
   "execution_count": 5,
   "metadata": {},
   "outputs": [],
   "source": [
    "# converting started_at and ended_at to datetime for all dataframes\n",
    "for dataframe in all_dfs:\n",
    "    dataframe['started_at'] = pd.to_datetime(dataframe['started_at'])\n",
    "    dataframe['ended_at'] = pd.to_datetime(dataframe['ended_at'])"
   ]
  },
  {
   "cell_type": "code",
   "execution_count": 7,
   "metadata": {},
   "outputs": [],
   "source": [
    "# calculating ride length for each ride in all the dataframes\n",
    "for dataframe in all_dfs:\n",
    "    dataframe['ride_length'] = dataframe['ended_at'] - dataframe['started_at']\n",
    "    # converting ride length to seconds\n",
    "    dataframe['ride_length'] = dataframe['ride_length'].astype('timedelta64[s]')"
   ]
  },
  {
   "cell_type": "code",
   "execution_count": 8,
   "metadata": {},
   "outputs": [
    {
     "data": {
      "text/html": [
       "<div>\n",
       "<style scoped>\n",
       "    .dataframe tbody tr th:only-of-type {\n",
       "        vertical-align: middle;\n",
       "    }\n",
       "\n",
       "    .dataframe tbody tr th {\n",
       "        vertical-align: top;\n",
       "    }\n",
       "\n",
       "    .dataframe thead th {\n",
       "        text-align: right;\n",
       "    }\n",
       "</style>\n",
       "<table border=\"1\" class=\"dataframe\">\n",
       "  <thead>\n",
       "    <tr style=\"text-align: right;\">\n",
       "      <th></th>\n",
       "      <th>ride_id</th>\n",
       "      <th>rideable_type</th>\n",
       "      <th>started_at</th>\n",
       "      <th>ended_at</th>\n",
       "      <th>start_station_name</th>\n",
       "      <th>start_station_id</th>\n",
       "      <th>end_station_name</th>\n",
       "      <th>end_station_id</th>\n",
       "      <th>start_lat</th>\n",
       "      <th>start_lng</th>\n",
       "      <th>end_lat</th>\n",
       "      <th>end_lng</th>\n",
       "      <th>member_casual</th>\n",
       "      <th>ride_length</th>\n",
       "    </tr>\n",
       "  </thead>\n",
       "  <tbody>\n",
       "    <tr>\n",
       "      <th>0</th>\n",
       "      <td>6F1682AC40EB6F71</td>\n",
       "      <td>electric_bike</td>\n",
       "      <td>2023-06-05 13:34:12</td>\n",
       "      <td>2023-06-05 14:31:56</td>\n",
       "      <td>NaN</td>\n",
       "      <td>NaN</td>\n",
       "      <td>NaN</td>\n",
       "      <td>NaN</td>\n",
       "      <td>41.91</td>\n",
       "      <td>-87.69</td>\n",
       "      <td>41.91</td>\n",
       "      <td>-87.70</td>\n",
       "      <td>member</td>\n",
       "      <td>3464.0</td>\n",
       "    </tr>\n",
       "    <tr>\n",
       "      <th>1</th>\n",
       "      <td>622A1686D64948EB</td>\n",
       "      <td>electric_bike</td>\n",
       "      <td>2023-06-05 01:30:22</td>\n",
       "      <td>2023-06-05 01:33:06</td>\n",
       "      <td>NaN</td>\n",
       "      <td>NaN</td>\n",
       "      <td>NaN</td>\n",
       "      <td>NaN</td>\n",
       "      <td>41.94</td>\n",
       "      <td>-87.65</td>\n",
       "      <td>41.94</td>\n",
       "      <td>-87.65</td>\n",
       "      <td>member</td>\n",
       "      <td>164.0</td>\n",
       "    </tr>\n",
       "    <tr>\n",
       "      <th>2</th>\n",
       "      <td>3C88859D926253B4</td>\n",
       "      <td>electric_bike</td>\n",
       "      <td>2023-06-20 18:15:49</td>\n",
       "      <td>2023-06-20 18:32:05</td>\n",
       "      <td>NaN</td>\n",
       "      <td>NaN</td>\n",
       "      <td>NaN</td>\n",
       "      <td>NaN</td>\n",
       "      <td>41.95</td>\n",
       "      <td>-87.68</td>\n",
       "      <td>41.92</td>\n",
       "      <td>-87.63</td>\n",
       "      <td>member</td>\n",
       "      <td>976.0</td>\n",
       "    </tr>\n",
       "    <tr>\n",
       "      <th>3</th>\n",
       "      <td>EAD8A5E0259DEC88</td>\n",
       "      <td>electric_bike</td>\n",
       "      <td>2023-06-19 14:56:00</td>\n",
       "      <td>2023-06-19 15:00:35</td>\n",
       "      <td>NaN</td>\n",
       "      <td>NaN</td>\n",
       "      <td>NaN</td>\n",
       "      <td>NaN</td>\n",
       "      <td>41.99</td>\n",
       "      <td>-87.65</td>\n",
       "      <td>41.98</td>\n",
       "      <td>-87.66</td>\n",
       "      <td>member</td>\n",
       "      <td>275.0</td>\n",
       "    </tr>\n",
       "    <tr>\n",
       "      <th>4</th>\n",
       "      <td>5A36F21930D6A55C</td>\n",
       "      <td>electric_bike</td>\n",
       "      <td>2023-06-19 15:03:34</td>\n",
       "      <td>2023-06-19 15:07:16</td>\n",
       "      <td>NaN</td>\n",
       "      <td>NaN</td>\n",
       "      <td>NaN</td>\n",
       "      <td>NaN</td>\n",
       "      <td>41.98</td>\n",
       "      <td>-87.66</td>\n",
       "      <td>41.99</td>\n",
       "      <td>-87.65</td>\n",
       "      <td>member</td>\n",
       "      <td>222.0</td>\n",
       "    </tr>\n",
       "  </tbody>\n",
       "</table>\n",
       "</div>"
      ],
      "text/plain": [
       "            ride_id  rideable_type          started_at            ended_at  \\\n",
       "0  6F1682AC40EB6F71  electric_bike 2023-06-05 13:34:12 2023-06-05 14:31:56   \n",
       "1  622A1686D64948EB  electric_bike 2023-06-05 01:30:22 2023-06-05 01:33:06   \n",
       "2  3C88859D926253B4  electric_bike 2023-06-20 18:15:49 2023-06-20 18:32:05   \n",
       "3  EAD8A5E0259DEC88  electric_bike 2023-06-19 14:56:00 2023-06-19 15:00:35   \n",
       "4  5A36F21930D6A55C  electric_bike 2023-06-19 15:03:34 2023-06-19 15:07:16   \n",
       "\n",
       "  start_station_name start_station_id end_station_name end_station_id  \\\n",
       "0                NaN              NaN              NaN            NaN   \n",
       "1                NaN              NaN              NaN            NaN   \n",
       "2                NaN              NaN              NaN            NaN   \n",
       "3                NaN              NaN              NaN            NaN   \n",
       "4                NaN              NaN              NaN            NaN   \n",
       "\n",
       "   start_lat  start_lng  end_lat  end_lng member_casual  ride_length  \n",
       "0      41.91     -87.69    41.91   -87.70        member       3464.0  \n",
       "1      41.94     -87.65    41.94   -87.65        member        164.0  \n",
       "2      41.95     -87.68    41.92   -87.63        member        976.0  \n",
       "3      41.99     -87.65    41.98   -87.66        member        275.0  \n",
       "4      41.98     -87.66    41.99   -87.65        member        222.0  "
      ]
     },
     "execution_count": 8,
     "metadata": {},
     "output_type": "execute_result"
    }
   ],
   "source": [
    "# verifying our changes\n",
    "june2023.head()"
   ]
  }
 ],
 "metadata": {
  "kernelspec": {
   "display_name": "base",
   "language": "python",
   "name": "python3"
  },
  "language_info": {
   "codemirror_mode": {
    "name": "ipython",
    "version": 3
   },
   "file_extension": ".py",
   "mimetype": "text/x-python",
   "name": "python",
   "nbconvert_exporter": "python",
   "pygments_lexer": "ipython3",
   "version": "3.9.16"
  },
  "orig_nbformat": 4
 },
 "nbformat": 4,
 "nbformat_minor": 2
}
