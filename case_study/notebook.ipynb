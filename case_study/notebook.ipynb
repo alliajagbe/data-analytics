{
 "cells": [
  {
   "cell_type": "markdown",
   "metadata": {},
   "source": [
    "# **Cyclistic Case Study**"
   ]
  },
  {
   "cell_type": "markdown",
   "metadata": {},
   "source": [
    "### About the Company\n",
    "In 2016, Cyclistic launched a successful bike-share offering. Since then, the program has grown to a fleet of 5,824 bicycles that are geotracked and locked into a network of 692 stations across Chicago. The bikes can be unlocked from one station and returned to any other station in the system anytime. - Google Data Amalytics Professional Certificate"
   ]
  },
  {
   "cell_type": "markdown",
   "metadata": {},
   "source": [
    "### Services Offered:\n",
    "- Single-Ride Passes\n",
    "- Full-Day Passes\n",
    "- Annual Memberships\n",
    "\n",
    "### Customer Segment:\n",
    "- Customers who purchase single-ride or full-day passes are referred to as casual riders.\n",
    "- Customers who purchase annual memberships are Cyclistic members."
   ]
  },
  {
   "cell_type": "markdown",
   "metadata": {},
   "source": [
    "### Finance Analysts Speculation\n",
    "- Annual members are much more profitable than casual riders.\n",
    "- According to Moreno, the company's director of marketing, maximizing the number of annual members will be key to the company's future success.\n",
    "\n",
    "### Notes from Moreno\n",
    "- Rather than creating a marketing campaign that targets all-new customers, the company should focus on converting casual riders into annual members.\n",
    "- Casual riders are already aware of the company's program and have chosen Cyclistic for their mobility needs."
   ]
  },
  {
   "cell_type": "markdown",
   "metadata": {},
   "source": [
    "# Case Study Deliverables:\n",
    "- A clear statement of the business task\n",
    "- A description of all data sources used\n",
    "- Documentation of any cleaning or manipulation of data\n",
    "- A summary of analysis\n",
    "- Supporting visualizations and key findings\n",
    "- Top 3 Recommendations based on analysis"
   ]
  },
  {
   "cell_type": "markdown",
   "metadata": {},
   "source": [
    "# **Question to be Answered: How do annual members and casual riders use Cyclistic bikes differently?**"
   ]
  },
  {
   "cell_type": "markdown",
   "metadata": {},
   "source": [
    "# **Ask Phase**"
   ]
  },
  {
   "cell_type": "markdown",
   "metadata": {},
   "source": [
    "| **Guiding Questions**                         |              **Answers** |\n",
    "|-------------------------------------------|:--------------------:|\n",
    "| What is the problem I am trying to solve? |   Profit maximization for Cyclistic by turning casual riders into annual members   |\n",
    "| How can my insights drive business decisions?      |  Understanding the difference between the riding patterns of Cyclistic's customer audience could potentially lead to actionable steps and drive marketing campaigns that easily converts casual riders into annual members |"
   ]
  },
  {
   "cell_type": "markdown",
   "metadata": {},
   "source": [
    "### Deliverable: Concise and Clear Statement of the Business Task\n",
    "**_Analyze and vary the bike usage patterns for both casual riders and annual members._** "
   ]
  },
  {
   "cell_type": "markdown",
   "metadata": {},
   "source": [
    "# **Prepare Phase**"
   ]
  },
  {
   "cell_type": "markdown",
   "metadata": {},
   "source": [
    "| **Guiding Questions**                         |              **Answers** |\n",
    "|-------------------------------------------|:--------------------:|\n",
    "| Where is the data located? |   The riding data has been provided by Motivate International Inc. and is stored on Amazon Web Service (AWS); a reputable cloud provider.   |\n",
    "| How is the data organized?     | <ol><li> Comma Separated Files </li><li>Proper naming convention followed except for the case of September 2022</li><li>All data files have the same number of columns and all column names are exactly the same.</li><li>All columns are of the right data types.</li></ol> |\n",
    "| Are there issues with bias or credibility in the data?     | <ol><li>The data being used for analysis is time-relevant as it is of the immediate past 12 months.</li><li>The data is from a primary source as it was collected in real-time by the company itself using their app.</li><li>The data files have a number of missing values/datapoints which can hamper the effectiveness of the resulting analysis.</li></ol> |\n",
    "| How are components like licensing, privacy, security, and accessibility addressed?    |  <ol><li> The data is licensed under the Divvy company via this [link](https://www.divvybikes.com/data-license-agreement) but cannot be accessed because the server is down and hence, raises a concern. </li> <li> The data is opensource, hence publicly accessible to anyone that might require it. </li><li>Due to privacy issues, the riders' id information have been altered to protect against the possible connection between pass purchases and credit card numbers.</li></ol> |"
   ]
  },
  {
   "cell_type": "markdown",
   "metadata": {},
   "source": [
    "### Inspecting the Data"
   ]
  },
  {
   "cell_type": "code",
   "execution_count": 1,
   "metadata": {},
   "outputs": [],
   "source": [
    "import pandas as pd"
   ]
  },
  {
   "cell_type": "markdown",
   "metadata": {},
   "source": [
    "#### Loading all the Data"
   ]
  },
  {
   "cell_type": "code",
   "execution_count": 7,
   "metadata": {},
   "outputs": [
    {
     "data": {
      "text/plain": [
       "'c:\\\\Users\\\\Alli Ajagbe\\\\OneDrive - Plaksha University\\\\Desktop\\\\Data Analytics\\\\case_study'"
      ]
     },
     "execution_count": 7,
     "metadata": {},
     "output_type": "execute_result"
    }
   ],
   "source": [
    "import os\n",
    "# check current working directory\n",
    "os.getcwd()"
   ]
  },
  {
   "cell_type": "code",
   "execution_count": 13,
   "metadata": {},
   "outputs": [],
   "source": [
    "june2023 = pd.read_csv(\"../../divvy-data/202306-divvy-tripdata.csv\")\n",
    "may2023 = pd.read_csv(\"../../divvy-data/202305-divvy-tripdata.csv\")\n",
    "april2023 = pd.read_csv(\"../../divvy-data/202304-divvy-tripdata.csv\")\n",
    "march2023 = pd.read_csv(\"../../divvy-data/202303-divvy-tripdata.csv\")\n",
    "february2023 = pd.read_csv(\"../../divvy-data/202302-divvy-tripdata.csv\")\n",
    "january2023 = pd.read_csv(\"../../divvy-data/202301-divvy-tripdata.csv\")\n",
    "december2022 = pd.read_csv(\"../../divvy-data/202212-divvy-tripdata.csv\")\n",
    "november2022 = pd.read_csv(\"../../divvy-data/202211-divvy-tripdata.csv\")\n",
    "october2022 = pd.read_csv(\"../../divvy-data/202210-divvy-tripdata.csv\")\n",
    "september2022 = pd.read_csv(\"../../divvy-data/202209-divvy-publictripdata.csv\")\n",
    "august2022 = pd.read_csv(\"../../divvy-data/202208-divvy-tripdata.csv\")\n",
    "july2022 = pd.read_csv(\"../../divvy-data/202207-divvy-tripdata.csv\")"
   ]
  },
  {
   "cell_type": "markdown",
   "metadata": {},
   "source": [
    "#### Columns Check"
   ]
  },
  {
   "cell_type": "code",
   "execution_count": 19,
   "metadata": {},
   "outputs": [
    {
     "name": "stdout",
     "output_type": "stream",
     "text": [
      "All files have the same columns.\n"
     ]
    }
   ],
   "source": [
    "# asserting that all files have the same columns\n",
    "all_dfs = [june2023, may2023, april2023, march2023, february2023, january2023, december2022, november2022, october2022, september2022, august2022, july2022]\n",
    "df = all_dfs[0]\n",
    "assert all([all(df.columns == df2.columns) for df2 in all_dfs])\n",
    "print('All files have the same columns.')"
   ]
  },
  {
   "cell_type": "code",
   "execution_count": 22,
   "metadata": {},
   "outputs": [
    {
     "name": "stdout",
     "output_type": "stream",
     "text": [
      "ride_id                object\n",
      "rideable_type          object\n",
      "started_at             object\n",
      "ended_at               object\n",
      "start_station_name     object\n",
      "start_station_id       object\n",
      "end_station_name       object\n",
      "end_station_id         object\n",
      "start_lat             float64\n",
      "start_lng             float64\n",
      "end_lat               float64\n",
      "end_lng               float64\n",
      "member_casual          object\n",
      "dtype: object\n"
     ]
    }
   ],
   "source": [
    "# printing the types of the columns\n",
    "print(june2023.dtypes)"
   ]
  }
 ],
 "metadata": {
  "kernelspec": {
   "display_name": "base",
   "language": "python",
   "name": "python3"
  },
  "language_info": {
   "codemirror_mode": {
    "name": "ipython",
    "version": 3
   },
   "file_extension": ".py",
   "mimetype": "text/x-python",
   "name": "python",
   "nbconvert_exporter": "python",
   "pygments_lexer": "ipython3",
   "version": "3.9.16"
  },
  "orig_nbformat": 4
 },
 "nbformat": 4,
 "nbformat_minor": 2
}
